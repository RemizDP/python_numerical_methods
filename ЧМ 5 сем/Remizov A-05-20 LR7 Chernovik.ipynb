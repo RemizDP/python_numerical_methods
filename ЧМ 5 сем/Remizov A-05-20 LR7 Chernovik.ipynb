{
 "cells": [
  {
   "cell_type": "markdown",
   "id": "295b35e3",
   "metadata": {},
   "source": [
    "# Лабораторная Работа №7\n",
    "### Ремизов Дмитрий А-05-20\n"
   ]
  },
  {
   "cell_type": "markdown",
   "id": "0888f972",
   "metadata": {},
   "source": [
    "## Задача 7.1\n",
    "Найти приближенное решение задачи Коши из таблицы  с точностью $\\varepsilon = 10^{-6}$ <br>\n",
    "### Порядок решения задачи:\n",
    "1. Найти решение задачи Коши  с фиксированным шагом  $h=0.01$ методом Эйлера и методом индивидуального варианта (задача 6.2).\n",
    "2. Построить графики полученных  решений задачи. \n",
    "3. Найти решение той же задачи с заданной точностью. Построить графики решения и сравнить с п.2."
   ]
  },
  {
   "cell_type": "code",
   "execution_count": 1,
   "id": "7af43507",
   "metadata": {},
   "outputs": [],
   "source": [
    "import numpy as np\n",
    "import matplotlib.pyplot as plt\n",
    "from numpy import linalg as LA\n",
    "from scipy.integrate import odeint"
   ]
  },
  {
   "cell_type": "markdown",
   "id": "6228381d",
   "metadata": {},
   "source": [
    "## $y'= -30y - 10cos(t)+25 sin(t)-2$,  $t \\in [0, 2]$\n",
    "## $y_0 = -5$"
   ]
  },
  {
   "cell_type": "code",
   "execution_count": 11,
   "id": "148ebe80",
   "metadata": {},
   "outputs": [
    {
     "name": "stdout",
     "output_type": "stream",
     "text": [
      "Решения с заданным шагом h =  0.01 \n",
      "\n"
     ]
    },
    {
     "data": {
      "text/plain": [
       "<matplotlib.legend.Legend at 0x1d54f581b80>"
      ]
     },
     "execution_count": 11,
     "metadata": {},
     "output_type": "execute_result"
    },
    {
     "data": {
      "image/png": "[encoded data removed]",
      "text/plain": [
       "<Figure size 720x720 with 1 Axes>"
      ]
     },
     "metadata": {
      "needs_background": "light"
     },
     "output_type": "display_data"
    }
   ],
   "source": [
    "def f(y, t):\n",
    "    return -30*y - 10*np.cos(t) + 25*np.sin(t)-2\n",
    "\n",
    "def Euler(h, N):\n",
    "    T = 2\n",
    "    ti = 0\n",
    "    yi = -5\n",
    "    t_mas = [0]*(N+1)\n",
    "    y_mas = [0]*(N+1)\n",
    "    t_mas[0] = ti\n",
    "    y_mas[0] = yi\n",
    "    for i in range(1, N+1): \n",
    "        ti += h\n",
    "        y = yi\n",
    "        yi = y + h*f(ti, y)\n",
    "        t_mas[i] = ti\n",
    "        y_mas[i] = yi\n",
    "    t_mas = np.array(t_mas)\n",
    "    y_mas = np.array(y_mas)\n",
    "    return t_mas, y_mas\n",
    "\n",
    "def REuler(t0, T, y0, h, e):\n",
    "    N = int((T - t0)/h)\n",
    "    th, yh = Euler(t0, T, y0, h)\n",
    "    th2, yh2 = Euler(t0, T, y0, h/2)\n",
    "    rMax = np.abs(yh2[0] - yh[0])\n",
    "    for i in range(1, N):\n",
    "        if(np.abs(yh2[2*i] - yh[i]) > rMax):\n",
    "            rMax = np.abs(yh2[2*i] - yh[i])\n",
    "    \n",
    "    while rMax > e:\n",
    "        h = h/2\n",
    "        N = N*2\n",
    "        th = th2\n",
    "        yh = yh2\n",
    "        th2, yh2 = Euler(t0, T, y0, h/2)\n",
    "        rMax = np.abs(yh2[0] - yh[0])\n",
    "        for i in range(1, N):\n",
    "            if(np.abs(yh2[2*i] - yh[i]) > rMax):\n",
    "                rMax = np.abs(yh2[2*i] - yh[i])\n",
    "    print(\"Euler: N = \", N, \" h = \", h/2)\n",
    "    return th2, yh2\n",
    "\n",
    "def Adams(t0, T, y0, h, N):\n",
    "    N = int((T - t0)/h)\n",
    "    ti_1 = t0\n",
    "    yi_1 = y0\n",
    "    ti = ti_1 + h\n",
    "    yi = yi_1 + h*f(ti_1, yi_1)\n",
    "    t_mas = np.array([ti_1, ti])\n",
    "    y_mas = np.array([yi_1, yi])\n",
    "    for i in range(1, N):\n",
    "        ti_2 = ti + h\n",
    "        yi_2 = yi + (h/2)*(3*f(ti, yi) - f(ti_1, yi_1))\n",
    "        t_mas = np.append(t_mas, [ti_2])\n",
    "        y_mas = np.append(y_mas, [yi_2])\n",
    "        ti_1 += h\n",
    "        ti += h\n",
    "        yi_1 = yi\n",
    "        yi = yi_2\n",
    "    return t_mas, y_mas\n",
    "    \n",
    "def RAdams(t0, T, y0, h, e):\n",
    "    N = int((T - t0)/h)\n",
    "    th, yh = Adams(t0, T, y0, h)\n",
    "    th2, yh2 = Adams(t0, T, y0, h/2)\n",
    "    rMax = np.abs(yh2[0] - yh[0])\n",
    "    for i in range(1, N):\n",
    "        if(np.abs(yh2[2*i] - yh[i]) > rMax):\n",
    "            rMax = np.abs(yh2[2*i] - yh[i])\n",
    "    \n",
    "    while rMax > e:\n",
    "        h = h/2\n",
    "        N = N*2\n",
    "        th = th2\n",
    "        yh = yh2\n",
    "        th2, yh2 = Adams(t0, T, y0, h/2)\n",
    "        rMax = np.abs(yh2[0] - yh[0])\n",
    "        for i in range(1, N):\n",
    "            if(np.abs(yh2[2*i] - yh[i]) > rMax):\n",
    "                rMax = np.abs(yh2[2*i] - yh[i])\n",
    "    print(\"Adams: N = \", N, \" h = \", h/2)\n",
    "    return th2, yh2\n",
    "\n",
    "\n",
    "t0 = 0\n",
    "T = 2\n",
    "y0 = -5\n",
    "h0 = 0.01\n",
    "\n",
    "print(\"Решения с заданным шагом h = \", h0, \"\\n\")\n",
    "tEuler, yEuler = Euler(0.01, int(2/0.01))\n",
    "#tAdams, yAdams = Adams(t0, T, y0, h0)\n",
    "\n",
    "\n",
    "\n",
    "fig, axs = plt.subplots(1,1, figsize = (10, 10))\n",
    "x, y = Adams(t0, T, y0, h0, int((T-t0)/h0))\n",
    "axs.plot(x, y, label = '$Эйлер$', color = \"blue\", ls = '--')\n",
    "axs.legend()\n"
   ]
  },
  {
   "cell_type": "code",
   "execution_count": 22,
   "id": "06335d81",
   "metadata": {},
   "outputs": [
    {
     "data": {
      "text/plain": [
       "<matplotlib.legend.Legend at 0x1d56a5a19d0>"
      ]
     },
     "execution_count": 22,
     "metadata": {},
     "output_type": "execute_result"
    },
    {
     "data": {
      "image/png": "[encoded data removed]",
      "text/plain": [
       "<Figure size 720x720 with 1 Axes>"
      ]
     },
     "metadata": {
      "needs_background": "light"
     },
     "output_type": "display_data"
    }
   ],
   "source": [
    "def f(t, y):\n",
    "    return -30*y - 10*np.cos(t) + 25*np.sin(t)-2\n",
    "\n",
    "def Euler(t0, T, y0, h, N):\n",
    "    ti = t0\n",
    "    yi = y0\n",
    "    t_mas = []\n",
    "    y_mas = []\n",
    "    t_mas.append(ti)\n",
    "    y_mas.append(yi)\n",
    "    for i in range(1, N+1): \n",
    "        ti += h\n",
    "        y = yi\n",
    "        yi = y + h*f(ti, y)\n",
    "        t_mas.append(ti)\n",
    "        y_mas.append(yi)\n",
    "    t_mas = np.array(t_mas)\n",
    "    y_mas = np.array(y_mas)\n",
    "    return t_mas, y_mas\n",
    "\n",
    "def REuler(t0, T, y0, h, e):\n",
    "    N = int((T - t0)/h)\n",
    "    th, yh = Euler(t0, T, y0, h, N)\n",
    "    th2, yh2 = Euler(t0, T, y0, h/2, N*2)\n",
    "    rMax = np.abs(yh2[0] - yh[0])\n",
    "    for i in range(1, N):\n",
    "        if(np.abs(yh2[2*i] - yh[i]) > rMax):\n",
    "            rMax = np.abs(yh2[2*i] - yh[i])\n",
    "    \n",
    "    while rMax > e:\n",
    "        h = h/2\n",
    "        N = N*2\n",
    "        th = th2\n",
    "        yh = yh2\n",
    "        th2, yh2 = Euler(t0, T, y0, h/2, N*2)\n",
    "        rMax = np.abs(yh2[0] - yh[0])\n",
    "        for i in range(1, N):\n",
    "            if(np.abs(yh2[2*i] - yh[i]) > rMax):\n",
    "                rMax = np.abs(yh2[2*i] - yh[i])\n",
    "    print(\"число точек, при котором достигается заданная точность - \", N)\n",
    "    print(\"шаг, при котором достигается заданная точность - \", h/2)\n",
    "    return th2, yh2\n",
    "\n",
    "def Adams(t0, T, y0, h, N):\n",
    "    ti_1 = t0\n",
    "    yi_1 = y0\n",
    "    ti = ti_1 + h\n",
    "    yi = yi_1 + h*f(ti_1, yi_1)\n",
    "    t_mas = np.array([ti_1, ti])\n",
    "    y_mas = np.array([yi_1, yi])\n",
    "    for i in range(1, N):\n",
    "        ti_2 = ti + h\n",
    "        yi_2 = yi + (h/2)*(3*f(ti, yi) - f(ti_1, yi_1))\n",
    "        t_mas = np.append(t_mas, [ti_2])\n",
    "        y_mas = np.append(y_mas, [yi_2])\n",
    "        ti_1 += h\n",
    "        ti += h\n",
    "        yi_1 = yi\n",
    "        yi = yi_2\n",
    "    return t_mas, y_mas\n",
    "\n",
    "def RAdams(t0, T, y0, h, e):\n",
    "    N = int((T - t0)/h)\n",
    "    th, yh = Adams(t0, T, y0, h, N)\n",
    "    th2, yh2 = Adams(t0, T, y0, h/2, N*2)\n",
    "    rMax = np.abs(yh2[0] - yh[0])\n",
    "    for i in range(1, N):\n",
    "        if(np.abs(yh2[2*i] - yh[i]) > rMax):\n",
    "            rMax = np.abs(yh2[2*i] - yh[i])\n",
    "    \n",
    "    while rMax > e:\n",
    "        h = h/2\n",
    "        N = N*2\n",
    "        th = th2\n",
    "        yh = yh2\n",
    "        th2, yh2 = Adams(t0, T, y0, h/2, N*2)\n",
    "        rMax = np.abs(yh2[0] - yh[0])\n",
    "        for i in range(1, N):\n",
    "            if(np.abs(yh2[2*i] - yh[i]) > rMax):\n",
    "                rMax = np.abs(yh2[2*i] - yh[i])\n",
    "    print(\"число точек, при котором достигается заданная точность - \", N)\n",
    "    print(\"шаг, при котором достигается заданная точность - \", h/2)\n",
    "    return th2, yh2\n",
    "\n",
    "t0 = 0\n",
    "T = 2\n",
    "y0 = -5\n",
    "h0 = 0.01\n",
    "\n",
    "fig, axs = plt.subplots(1,1, figsize = (10, 10))\n",
    "x, y = Euler(t0, T, y0, h0, int((T-t0)/h0))\n",
    "axs.plot(x, y, label = '$Эйлер$')\n",
    "x, y = Adams(t0, T, y0, h0, int((T-t0)/h0))\n",
    "axs.plot(x, y, label = '$Адамс$')\n",
    "axs.legend()"
   ]
  },
  {
   "cell_type": "code",
   "execution_count": 23,
   "id": "650718a9",
   "metadata": {},
   "outputs": [
    {
     "name": "stdout",
     "output_type": "stream",
     "text": [
      "число точек, при котором достигается заданная точность -  3276800\n",
      "шаг, при котором достигается заданная точность -  3.0517578125e-07\n",
      "число точек, при котором достигается заданная точность -  25600\n",
      "шаг, при котором достигается заданная точность -  3.90625e-05\n"
     ]
    },
    {
     "data": {
      "text/plain": [
       "<matplotlib.legend.Legend at 0x1d500393f10>"
      ]
     },
     "execution_count": 23,
     "metadata": {},
     "output_type": "execute_result"
    },
    {
     "data": {
      "image/png": "[encoded data removed]",
      "text/plain": [
       "<Figure size 720x720 with 1 Axes>"
      ]
     },
     "metadata": {
      "needs_background": "light"
     },
     "output_type": "display_data"
    }
   ],
   "source": [
    "e = 10**(-5)\n",
    "fig, axs = plt.subplots(1,1, figsize = (10, 10))\n",
    "x, y = REuler(t0, T, y0, h0, e)\n",
    "axs.plot(x, y, label = '$Эйлер$')\n",
    "x, y = RAdams(t0, T, y0, h0, e)\n",
    "axs.plot(x, y, label = '$Адамс$')\n",
    "axs.legend()"
   ]
  },
  {
   "cell_type": "code",
   "execution_count": 4,
   "id": "17c32e4e",
   "metadata": {},
   "outputs": [
    {
     "ename": "NameError",
     "evalue": "name 'r' is not defined",
     "output_type": "error",
     "traceback": [
      "\u001b[1;31m---------------------------------------------------------------------------\u001b[0m",
      "\u001b[1;31mNameError\u001b[0m                                 Traceback (most recent call last)",
      "\u001b[1;32mC:\\Users\\DD69~1\\AppData\\Local\\Temp/ipykernel_33612/3470193177.py\u001b[0m in \u001b[0;36m<module>\u001b[1;34m\u001b[0m\n\u001b[0;32m     53\u001b[0m \u001b[0mh0\u001b[0m \u001b[1;33m=\u001b[0m \u001b[1;36m0.01\u001b[0m\u001b[1;33m\u001b[0m\u001b[1;33m\u001b[0m\u001b[0m\n\u001b[0;32m     54\u001b[0m \u001b[0me\u001b[0m \u001b[1;33m=\u001b[0m \u001b[1;36m10\u001b[0m\u001b[1;33m**\u001b[0m\u001b[1;33m(\u001b[0m\u001b[1;33m-\u001b[0m\u001b[1;36m3\u001b[0m\u001b[1;33m)\u001b[0m\u001b[1;33m\u001b[0m\u001b[1;33m\u001b[0m\u001b[0m\n\u001b[1;32m---> 55\u001b[1;33m \u001b[0mYEyler\u001b[0m\u001b[1;33m,\u001b[0m \u001b[0mNEyler\u001b[0m\u001b[1;33m,\u001b[0m \u001b[0mhEyler\u001b[0m \u001b[1;33m=\u001b[0m \u001b[0mREyler\u001b[0m\u001b[1;33m(\u001b[0m\u001b[0mt0\u001b[0m\u001b[1;33m,\u001b[0m \u001b[0mT\u001b[0m\u001b[1;33m,\u001b[0m \u001b[0my0\u001b[0m\u001b[1;33m,\u001b[0m \u001b[0mh0\u001b[0m\u001b[1;33m,\u001b[0m \u001b[0me\u001b[0m\u001b[1;33m)\u001b[0m\u001b[1;33m\u001b[0m\u001b[1;33m\u001b[0m\u001b[0m\n\u001b[0m\u001b[0;32m     56\u001b[0m \u001b[0mprint\u001b[0m\u001b[1;33m(\u001b[0m\u001b[1;34m\"Eyler: N = \"\u001b[0m\u001b[1;33m,\u001b[0m \u001b[0mNEyler\u001b[0m\u001b[1;33m,\u001b[0m \u001b[1;34m\"| h = \"\u001b[0m\u001b[1;33m,\u001b[0m \u001b[0mhEyler\u001b[0m\u001b[1;33m)\u001b[0m\u001b[1;33m\u001b[0m\u001b[1;33m\u001b[0m\u001b[0m\n\u001b[0;32m     57\u001b[0m \u001b[0mYAdams\u001b[0m\u001b[1;33m,\u001b[0m \u001b[0mNAdams\u001b[0m\u001b[1;33m,\u001b[0m \u001b[0mhAdams\u001b[0m \u001b[1;33m=\u001b[0m \u001b[0mRExtraAdams2\u001b[0m\u001b[1;33m(\u001b[0m\u001b[0mt0\u001b[0m\u001b[1;33m,\u001b[0m \u001b[0mT\u001b[0m\u001b[1;33m,\u001b[0m \u001b[0my0\u001b[0m\u001b[1;33m,\u001b[0m \u001b[0mh0\u001b[0m\u001b[1;33m,\u001b[0m \u001b[0me\u001b[0m\u001b[1;33m)\u001b[0m\u001b[1;33m\u001b[0m\u001b[1;33m\u001b[0m\u001b[0m\n",
      "\u001b[1;32mC:\\Users\\DD69~1\\AppData\\Local\\Temp/ipykernel_33612/3470193177.py\u001b[0m in \u001b[0;36mREyler\u001b[1;34m(t0, T, y0, h0, e)\u001b[0m\n\u001b[0;32m     10\u001b[0m \u001b[1;32mdef\u001b[0m \u001b[0mREyler\u001b[0m\u001b[1;33m(\u001b[0m\u001b[0mt0\u001b[0m\u001b[1;33m,\u001b[0m \u001b[0mT\u001b[0m\u001b[1;33m,\u001b[0m \u001b[0my0\u001b[0m\u001b[1;33m,\u001b[0m \u001b[0mh0\u001b[0m\u001b[1;33m,\u001b[0m \u001b[0me\u001b[0m\u001b[1;33m)\u001b[0m\u001b[1;33m:\u001b[0m\u001b[1;33m\u001b[0m\u001b[1;33m\u001b[0m\u001b[0m\n\u001b[0;32m     11\u001b[0m     \u001b[0mR\u001b[0m\u001b[1;33m=\u001b[0m\u001b[1;33m[\u001b[0m\u001b[1;33m]\u001b[0m\u001b[1;33m\u001b[0m\u001b[1;33m\u001b[0m\u001b[0m\n\u001b[1;32m---> 12\u001b[1;33m     \u001b[0mY1\u001b[0m\u001b[1;33m,\u001b[0m \u001b[0mN1\u001b[0m\u001b[1;33m,\u001b[0m \u001b[0mh1\u001b[0m \u001b[1;33m=\u001b[0m\u001b[0mEyler\u001b[0m\u001b[1;33m(\u001b[0m\u001b[0mt0\u001b[0m\u001b[1;33m,\u001b[0m \u001b[0mT\u001b[0m\u001b[1;33m,\u001b[0m \u001b[0my0\u001b[0m\u001b[1;33m,\u001b[0m \u001b[0mh0\u001b[0m\u001b[1;33m)\u001b[0m\u001b[1;33m\u001b[0m\u001b[1;33m\u001b[0m\u001b[0m\n\u001b[0m\u001b[0;32m     13\u001b[0m     \u001b[0mY2\u001b[0m\u001b[1;33m,\u001b[0m \u001b[0mN2\u001b[0m\u001b[1;33m,\u001b[0m \u001b[0mh2\u001b[0m \u001b[1;33m=\u001b[0m\u001b[0mEyler\u001b[0m\u001b[1;33m(\u001b[0m\u001b[0mt0\u001b[0m\u001b[1;33m,\u001b[0m \u001b[0mT\u001b[0m\u001b[1;33m,\u001b[0m \u001b[0my0\u001b[0m\u001b[1;33m,\u001b[0m \u001b[0mh0\u001b[0m\u001b[1;33m/\u001b[0m\u001b[1;36m2\u001b[0m\u001b[1;33m)\u001b[0m\u001b[1;33m\u001b[0m\u001b[1;33m\u001b[0m\u001b[0m\n\u001b[0;32m     14\u001b[0m     \u001b[1;32mfor\u001b[0m \u001b[0mi\u001b[0m \u001b[1;32min\u001b[0m \u001b[0mrange\u001b[0m\u001b[1;33m(\u001b[0m\u001b[0mN1\u001b[0m\u001b[1;33m)\u001b[0m\u001b[1;33m:\u001b[0m\u001b[1;33m\u001b[0m\u001b[1;33m\u001b[0m\u001b[0m\n",
      "\u001b[1;32mC:\\Users\\DD69~1\\AppData\\Local\\Temp/ipykernel_33612/3470193177.py\u001b[0m in \u001b[0;36mEyler\u001b[1;34m(t0, T, y0, h)\u001b[0m\n\u001b[0;32m      4\u001b[0m     \u001b[0mY\u001b[0m\u001b[1;33m.\u001b[0m\u001b[0mappend\u001b[0m\u001b[1;33m(\u001b[0m\u001b[0my0\u001b[0m\u001b[1;33m)\u001b[0m\u001b[1;33m\u001b[0m\u001b[1;33m\u001b[0m\u001b[0m\n\u001b[0;32m      5\u001b[0m     \u001b[1;32mfor\u001b[0m \u001b[0mi\u001b[0m \u001b[1;32min\u001b[0m \u001b[0mrange\u001b[0m\u001b[1;33m(\u001b[0m\u001b[1;36m1\u001b[0m\u001b[1;33m,\u001b[0m \u001b[0mN\u001b[0m\u001b[1;33m)\u001b[0m\u001b[1;33m:\u001b[0m\u001b[1;33m\u001b[0m\u001b[1;33m\u001b[0m\u001b[0m\n\u001b[1;32m----> 6\u001b[1;33m         \u001b[0mY\u001b[0m\u001b[1;33m.\u001b[0m\u001b[0mappend\u001b[0m\u001b[1;33m(\u001b[0m\u001b[0mY\u001b[0m\u001b[1;33m[\u001b[0m\u001b[0mi\u001b[0m \u001b[1;33m-\u001b[0m \u001b[1;36m1\u001b[0m\u001b[1;33m]\u001b[0m \u001b[1;33m+\u001b[0m \u001b[0mh\u001b[0m\u001b[1;33m*\u001b[0m\u001b[0mr\u001b[0m\u001b[1;33m(\u001b[0m\u001b[0mt0\u001b[0m \u001b[1;33m+\u001b[0m \u001b[0mh\u001b[0m\u001b[1;33m*\u001b[0m\u001b[1;33m(\u001b[0m\u001b[0mi\u001b[0m \u001b[1;33m-\u001b[0m \u001b[1;36m1\u001b[0m\u001b[1;33m)\u001b[0m\u001b[1;33m)\u001b[0m\u001b[1;33m*\u001b[0m\u001b[0mY\u001b[0m\u001b[1;33m[\u001b[0m\u001b[0mi\u001b[0m \u001b[1;33m-\u001b[0m \u001b[1;36m1\u001b[0m\u001b[1;33m]\u001b[0m\u001b[1;33m)\u001b[0m\u001b[1;33m\u001b[0m\u001b[1;33m\u001b[0m\u001b[0m\n\u001b[0m\u001b[0;32m      7\u001b[0m     \u001b[0mY1\u001b[0m \u001b[1;33m=\u001b[0m \u001b[0mnp\u001b[0m\u001b[1;33m.\u001b[0m\u001b[0marray\u001b[0m\u001b[1;33m(\u001b[0m\u001b[0mY\u001b[0m\u001b[1;33m)\u001b[0m\u001b[1;33m\u001b[0m\u001b[1;33m\u001b[0m\u001b[0m\n\u001b[0;32m      8\u001b[0m     \u001b[1;32mreturn\u001b[0m \u001b[0mY1\u001b[0m\u001b[1;33m,\u001b[0m \u001b[0mN\u001b[0m\u001b[1;33m,\u001b[0m \u001b[0mh\u001b[0m\u001b[1;33m\u001b[0m\u001b[1;33m\u001b[0m\u001b[0m\n",
      "\u001b[1;31mNameError\u001b[0m: name 'r' is not defined"
     ]
    }
   ],
   "source": [
    "def Eyler(t0, T, y0, h):\n",
    "    N = int((T-t0)/h)+1\n",
    "    Y = []\n",
    "    Y.append(y0)\n",
    "    for i in range(1, N):\n",
    "        Y.append(Y[i - 1] + h*r(t0 + h*(i - 1))*Y[i - 1])\n",
    "    Y1 = np.array(Y)    \n",
    "    return Y1, N, h\n",
    "    \n",
    "def REyler(t0, T, y0, h0, e):\n",
    "    R=[]\n",
    "    Y1, N1, h1 =Eyler(t0, T, y0, h0)\n",
    "    Y2, N2, h2 =Eyler(t0, T, y0, h0/2)\n",
    "    for i in range(N1):\n",
    "        R.append(abs(Y1[i] - Y2[2*i]))\n",
    "    while(e<max(R)):\n",
    "        R=[]\n",
    "        Y1, N1, h1 = Y2,N2,h2\n",
    "        Y2, N2, h2 =Eyler(t0, T, y0, h1/2)\n",
    "        for i in range(N1):\n",
    "            R.append(abs(Y1[i] - Y2[2*i]))\n",
    "    return Y2, N2, h2\n",
    "        \n",
    "def ExtraAdams2(t0, T, y0, h):\n",
    "    N=int((T-t0)/h)+1\n",
    "    Y=[]\n",
    "    Y.append(y0)\n",
    "    Y.append(y(t0+h))\n",
    "    for i in range(2, N):\n",
    "        Y.append(Y[i-1]+h/2*(3*r(t0+h*(i-1))*Y[i-1]-r(t0+h*(i-2))*Y[i-2]))\n",
    "    Y1=np.array(Y)\n",
    "    return Y1, N, h\n",
    "    \n",
    "def RExtraAdams2(t0, T, y0, h0, e):\n",
    "    R=[]\n",
    "    Y1, N1, h1 =ExtraAdams2(t0, T, y0, h0)\n",
    "    Y2, N2, h2 =ExtraAdams2(t0, T, y0, h0/2)\n",
    "    for i in range(N1):\n",
    "        R.append(abs(Y1[i] - Y2[2*i]))\n",
    "    while(e<max(R)):\n",
    "        R=[]\n",
    "        Y1, N1, h1 = Y2,N2,h2\n",
    "        Y2, N2, h2 =ExtraAdams2(t0, T, y0, h1/2)\n",
    "        for i in range(N1):\n",
    "            R.append(abs(Y1[i] - Y2[2*i]))\n",
    "    return Y2, N2, h2\n",
    "\n",
    "\n",
    "t0 = 0\n",
    "T = 2\n",
    "#y0 = -5\n",
    "y0 = -2\n",
    "h0 = 0.01\n",
    "e = 10**(-3)\n",
    "YEyler, NEyler, hEyler = REyler(t0, T, y0, h0, e)\n",
    "print(\"Eyler: N = \", NEyler, \"| h = \", hEyler)\n",
    "YAdams, NAdams, hAdams = RExtraAdams2(t0, T, y0, h0, e)\n",
    "print(\"Adams: N = \", NAdams, \"| h = \", hAdams)\n",
    "\n",
    "\n",
    "x_data = np.linspace(t0, T, 1000)\n",
    "x_dataEyler = np.linspace(t0, T, NEyler)\n",
    "x_dataAdams = np.linspace(t0, T, NAdams)\n",
    "fig, AxsPogrSN = plt.subplots(figsize=(15, 5))\n",
    "\n",
    "AxsPogrSN.plot(x_dataEyler, YEyler, label=f'$Eyler(x, {hEyler})$')\n",
    "AxsPogrSN.plot(x_dataAdams, YAdams, label=f'$ExtraAdams2(x, {hAdams})$')\n",
    "AxsPogrSN.plot(x_data, y(x_data), label=f'$Точн(x)$')\n",
    "AxsPogrSN.legend()\n",
    "\n",
    "print(y(np.pi/2) - YAdams[len (YAdams) - 1])"
   ]
  },
  {
   "cell_type": "markdown",
   "id": "81390e97",
   "metadata": {},
   "source": [
    "Сравнивая два графика, нетрудно заметить, что в силу жесткости задачи численное решение сильно раскачивается при относительно большом шаге h = 0.01. При нахождении решения задачи Коши, отталкиваясь от необходимой точности, графики решения более приближены к точному решению, нежели при отталкивании от размера шага. Погрешность при шаге 0.01 очень велика.<br>\n",
    "Для решения жестких задач следует использовать специальные неявные методы.\n",
    "#### Замечание\n",
    "Мне пришлось изменить варизант с 21 на 24, т.к. при решении с шагом 0,01 погрешность была равна $10^{10}$ степени, а при вычислении с заданной точностью ячейка просто не компилировалась в течение получаса"
   ]
  },
  {
   "cell_type": "markdown",
   "id": "e9fc4e9b",
   "metadata": {},
   "source": [
    "## Задача 7.2\n",
    "Дана задача Коши для двух систем обыкновенных дифференциальных уравнений с постоянными коэффициентами <br>\n",
    "$Y'(t) = AY(t)$, $Y(0)=Y_0$ <br>\n",
    "$Z'(t) = BZ(t)$, $Z(0)=Z_0$, <br> где $A$ и $B$ -- заданные матрицы, $Y_0$, $Z_0$ -- заданные векторы. Исследовать поведение решения систем уравнений. <br>\n",
    "### Порядок решения задачи:\n",
    "1. Используя встроенную функцию для нахождения собственных чисел матриц A и B,  найти коэффициенты жесткости обеих систем. Установить какая  задача является жесткой.\n",
    "2. Составить программу-функцию нахождения решения системы ОДУ 1 порядка с постоянными коэффициентами по явному методу Эйлера. \n",
    "3. Численно решить обе задачи  на отрезке [0,1] c шагом h=0.01 явным методом Эйлера. Определить, для какой из задач явный метод неустойчив при данном шаге h.\n",
    "4. Составить программу-функцию нахождения решения системы ОДУ 1 порядка с постоянными коэффициентами по неявному методу Эйлера. Используя составленную программу, найти решение жесткой задачи с шагом h=0.01. Построить графики компонент полученного решения.\n",
    "5. Найти решение  жесткой задачи с заданной точностью $\\varepsilon = 10^{-6}$. Построить графики  компонент решения и сравнить с п.4."
   ]
  },
  {
   "cell_type": "code",
   "execution_count": null,
   "id": "e00f4a12",
   "metadata": {},
   "outputs": [],
   "source": [
    "A = np.array([[-1.485, 2.294, 1.151, 0.302], \n",
    "     [-1.794, -1.364, -0.972, -1.375],\n",
    "     [-1.848, 0.634, -1.764, 2.046],\n",
    "     [0.212, 0.625, -2.394, -1.386]])\n",
    "\n",
    "Y0 = [8.4, 8.4, 6.4, 8.4]\n",
    "\n",
    "B = np.array([[-416.68, -189.54, 278.56, -215.75],\n",
    "     [-210.12, -514.15, 141.483, 289.476],\n",
    "     [278.564, 127.55, -194.52, 145.269], \n",
    "     [-195.76, 309.468, 131.742, -496.65]])\n",
    "\n",
    "Z0 = [1.2, 5.6, 3.2, 5.6]\n",
    "\n",
    "ASobs, vA = np.linalg.eig(A)\n",
    "Amax = np.amax(abs(ASobs.real))\n",
    "Amin = np.amin(abs(ASobs.real))\n",
    "\n",
    "BSobs, vB = np.linalg.eig(B)\n",
    "Bmax = np.amax(abs(BSobs.real))\n",
    "Bmin = np.amin(abs(BSobs.real))\n",
    "\n",
    "print (\"Собственные числа матрицы А: \\n\", ASobs, \"\\n max = \", Amax , \"min = \", Amin)\n",
    "print (\"Коэффициент жесткости А :\", Amax/Amin , \"\\n-------------------------------------------------------------------------\\n\")\n",
    "print (\"Собственные числа матрицы B: \\n\", BSobs, \"\\n max = \", Bmax, \"min = \", Bmin)\n",
    "print (\"Коэффициент жесткости B :\", Bmax/Bmin)"
   ]
  },
  {
   "cell_type": "markdown",
   "id": "bd61f9f9",
   "metadata": {},
   "source": [
    "### Задачи являются жесткими"
   ]
  },
  {
   "cell_type": "code",
   "execution_count": null,
   "id": "e567ad29",
   "metadata": {},
   "outputs": [],
   "source": [
    "def r0(t)\n",
    "\n",
    "def Eyler(t0, T, y0, h):\n",
    "    N = int((T-t0)/h)+1\n",
    "    Y = []\n",
    "    Y.append(y0)\n",
    "    for i in range(1, N):\n",
    "        Y.append(Y[i - 1] + h*r(t0 + h*(i - 1))*Y[i - 1])\n",
    "    Y1 = np.array(Y)    \n",
    "    return Y1, N, h\n",
    "\n",
    "def SEyler(t0, T, y0, h, n):\n",
    "    N = int((T-t0)/h)+1\n",
    "    Y = [[]]\n",
    "    Y.append(y0)\n",
    "    \n",
    "    Y1 = np.array(Y)    \n",
    "    return Y1, N, h"
   ]
  },
  {
   "cell_type": "code",
   "execution_count": null,
   "id": "3d5b6366",
   "metadata": {},
   "outputs": [],
   "source": []
  }
 ],
 "metadata": {
  "kernelspec": {
   "display_name": "Python 3 (ipykernel)",
   "language": "python",
   "name": "python3"
  },
  "language_info": {
   "codemirror_mode": {
    "name": "ipython",
    "version": 3
   },
   "file_extension": ".py",
   "mimetype": "text/x-python",
   "name": "python",
   "nbconvert_exporter": "python",
   "pygments_lexer": "ipython3",
   "version": "3.9.7"
  }
 },
 "nbformat": 4,
 "nbformat_minor": 5
}
