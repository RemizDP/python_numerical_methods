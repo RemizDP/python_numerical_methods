{
 "cells": [
  {
   "cell_type": "markdown",
   "id": "095c812a",
   "metadata": {},
   "source": [
    "## Лабораторная работа 6\n",
    "### Вариант 21\n",
    "# Численное дифференцирование и решение задачи Коши\n",
    "\n"
   ]
  },
  {
   "cell_type": "markdown",
   "id": "950ef1dc",
   "metadata": {},
   "source": [
    "#### Задача 6.1\n",
    "Дана  формула численного дифференцирования $f'(x)\\approx af(x) + bf(x - 11h) + cf(x + h) + df(x - 5h)$ <br>\n",
    "Требуется  исследовать поведение погрешностей при численном дифференцировании.\n",
    "### Порядок решения задачи\n",
    "1. Определить коэффициенты $a, b, c, d$ так, чтобы формула имела максимальный порядок точности. <br>\n",
    "2. Реализовать программно полученную формулу численного дифференцирования и формулу правой разностной производной.<br>\n",
    "3. В качестве тестовой функции для проверки корректности работы программы взять функцию из задачи 5.1. На отрезке $[a,b]$ построить графики точной производной и полученные по формулам  численного дифференцирования, выбрав шаг $h_0=0.0001$ .<br>\n",
    "4. Взять функцию из задачи 5.2. Выбрать фиксированную точку на отрезке $[a,b]$ и вычислить значения производных  по формулам  численного дифференцирования,  уменьшая шаг дифференцирования  $h_0=0.1$ последовательно в 10 раз: $h_k=h_0*10^{-k}$, $k=0, 1, 2,...$ .Найти оптимальное значение шага дифференцирования для каждой формулы численного дифференцирования.  По полученным данным построить графики погрешностей.<br>\n",
    "5. Оформить отчет по задаче, содержащий постановку задачи, вывод расчетных формул, полученные результаты,  графики  и код. <br>"
   ]
  },
  {
   "cell_type": "markdown",
   "id": "cae4e028",
   "metadata": {},
   "source": [
    "#### Решим систему линейных уравнений:\n",
    "$a+b+c+d=0$<br>\n",
    "$-11hb+hc-5hd=1$<br>\n",
    "$(-11h)^2b+h^2c+(-5h)^2d=0$ <br>\n",
    "$(-11h)^3b+h^3c+(-5h)^3d=0$ <br>\n",
    "\n",
    "Отсюда:\n",
    "$a=-\\frac{39}{55h}$;\n",
    "$b=\\frac{5}{792h}$;\n",
    "$c=\\frac{55}{72h}$;\n",
    "$d=-\\frac{11}{180h}$;"
   ]
  },
  {
   "cell_type": "code",
   "execution_count": 1,
   "id": "3cd08f19",
   "metadata": {},
   "outputs": [],
   "source": [
    "import numpy as np\n",
    "import matplotlib.pyplot as plt\n",
    "C0 = 7.4\n",
    "C1 = -2.3\n",
    "C2 = 6.6\n",
    "C3 = 0.3\n",
    "C4 = 1.8\n",
    "\n",
    "\n",
    "def P(x):\n",
    "    return C0*x**0+C1*x**1+C2*x**2+C3*x**3+C4*x**4\n",
    "\n",
    "def dP(x):\n",
    "    return C1+C2*2*x+C3*3*x**2+C4*4*x**3"
   ]
  },
  {
   "cell_type": "code",
   "execution_count": 2,
   "id": "453c1d4f",
   "metadata": {},
   "outputs": [],
   "source": [
    "def F21(x,h):\n",
    "    a = -39/(55*h)\n",
    "    b = 5/(792*h)\n",
    "    c = 55/(72*h)\n",
    "    d = -11/(180*h)\n",
    "    return a*P(x) + b*P(x-11*h)+c*P(x+h)+d*P(x-5*h)\n",
    "\n",
    "def RDD(x,h):\n",
    "    return (P(x+h)-P(x))/h\n"
   ]
  },
  {
   "cell_type": "code",
   "execution_count": 3,
   "id": "29b484cd",
   "metadata": {},
   "outputs": [
    {
     "data": {
      "text/plain": [
       "<matplotlib.legend.Legend at 0x279c6092190>"
      ]
     },
     "execution_count": 3,
     "metadata": {},
     "output_type": "execute_result"
    },
    {
     "data": {
      "image/png": "[encoded data removed]",
      "text/plain": [
       "<Figure size 1080x360 with 1 Axes>"
      ]
     },
     "metadata": {
      "needs_background": "light"
     },
     "output_type": "display_data"
    }
   ],
   "source": [
    "a = 1.0\n",
    "b = 3.0\n",
    "h0 = 0.0001\n",
    "x_data = np.linspace(a, b, 1000)\n",
    "fig, AxsPogrSN = plt.subplots(figsize=(15, 5))\n",
    "AxsPogrSN.plot(x_data, dP(x_data), label=f'$Точн$')\n",
    "AxsPogrSN.plot(x_data, F21(x_data, h0), label=f'$F21(x, {h0})$')\n",
    "AxsPogrSN.plot(x_data, RDD(x_data, h0), label=f'$RDD(x, {h0})$')\n",
    "AxsPogrSN.legend()"
   ]
  },
  {
   "cell_type": "code",
   "execution_count": 4,
   "id": "b8c02923",
   "metadata": {},
   "outputs": [
    {
     "name": "stdout",
     "output_type": "stream",
     "text": [
      "Точное значение производной в точке x=-1:   -10.401546148118296\n"
     ]
    }
   ],
   "source": [
    "def F(x):\n",
    "    return 3*np.exp(x)*np.sin(3*np.pi*x)\n",
    "def dF(x):\n",
    "    return 3*np.exp(x)*(np.sin(3*np.pi*x) + 3*np.pi*np.cos(3*np.pi*x))\n",
    "\n",
    "a=-3\n",
    "b=0\n",
    "x=-1\n",
    "h0=0.1\n",
    "TrueD = dF(x)\n",
    "print(\"Точное значение производной в точке x=-1:  \", TrueD)"
   ]
  },
  {
   "cell_type": "code",
   "execution_count": 5,
   "id": "5ad646b1",
   "metadata": {},
   "outputs": [
    {
     "name": "stdout",
     "output_type": "stream",
     "text": [
      "i:  0 F21_2 value:  -7.147481598618151 , accuracyF21 = 3.2540645495001455 ||   RDD_2 value:  -9.867652923821533 , accuracyRDD = 0.5338932242967633 || h =  0.1 \n",
      "\n",
      "i:  1 F21_2 value:  -10.388947216611006 , accuracyF21 = 0.012598931507289635 ||   RDD_2 value:  -10.49053669816778 , accuracyRDD = 0.08899055004948409 || h =  0.01 \n",
      "\n",
      "i:  2 F21_2 value:  -10.401537279884236 , accuracyF21 = 8.868234059988822e-06 ||   RDD_2 value:  -10.41179875467326 , accuracyRDD = 0.010252606554963961 || h =  0.001 \n",
      "\n",
      "i:  3 F21_2 value:  -10.401546139691368 , accuracyF21 = 8.426928488347585e-09 ||   RDD_2 value:  -10.40258481469885 , accuracyRDD = 0.0010386665805537376 || h =  0.0001 \n",
      "\n",
      "i:  4 F21_2 value:  -10.401546148088347 , accuracyF21 = 2.994937631228822e-11 ||   RDD_2 value:  -10.401650148659012 , accuracyRDD = 0.00010400054071624254 || h =  1e-05 \n",
      "\n",
      "i:  5 F21_2 value:  -10.40154614807647 , accuracyF21 = 4.18260981405183e-11 ||   RDD_2 value:  -10.401556549473838 , accuracyRDD = 1.0401355542200008e-05 || h =  1.0000000000000002e-06 \n",
      "\n",
      "i:  6 F21_2 value:  -10.4015461421357 , accuracyF21 = 5.982595752129782e-09 ||   RDD_2 value:  -10.401547180387778 , accuracyRDD = 1.0322694823372558e-06 || h =  1.0000000000000002e-07 \n",
      "\n",
      "i:  7 F21_2 value:  -10.40154611815478 , accuracyF21 = 2.996351611272985e-08 ||   RDD_2 value:  -10.401546224645546 , accuracyRDD = 7.652725031448426e-08 || h =  1.0000000000000002e-08 \n",
      "\n",
      "i:  8 F21_2 value:  -10.401545602792611 , accuracyF21 = 5.453256850529442e-07 ||   RDD_2 value:  -10.401545542894997 , accuracyRDD = 6.052232990327866e-07 || h =  1.0000000000000003e-09 \n",
      "\n",
      "i:  9 F21_2 value:  -10.401548379114423 , accuracyF21 = 2.2309961273947465e-06 ||   RDD_2 value:  -10.401549454444579 , accuracyRDD = 3.306326282981331e-06 || h =  1.0000000000000003e-10 \n",
      "\n"
     ]
    }
   ],
   "source": [
    "def F21_2(x,h):\n",
    "    a = -39/(55*h)\n",
    "    b = 5/(792*h)\n",
    "    c = 55/(72*h)\n",
    "    d = -11/(180*h)\n",
    "    return a*F(x) + b*F(x-11*h)+c*F(x+h)+d*F(x-5*h)\n",
    "\n",
    "def RDD_2(x,h):\n",
    "    return (F(x+h)-F(x))/h\n",
    "\n",
    "def Accuracy10(x,h, TD):\n",
    "    y1=[]\n",
    "    y2=[]\n",
    "    for i in range (10):\n",
    "        F21_i =F21_2(x,h)\n",
    "        y1.append(abs(F21_i-TD))\n",
    "        \n",
    "        RDD_i =RDD_2(x,h)\n",
    "        y2.append(abs(RDD_i-TD))\n",
    "        \n",
    "        print(\"i: \", i, \"F21_2 value: \", F21_i,\", accuracyF21 =\", abs(F21_i-TD),\"||   RDD_2 value: \", RDD_i,\", accuracyRDD =\", abs(RDD_i-TD), \"|| h = \", h,'\\n')\n",
    "        h/=10\n",
    "        \n",
    "    return y1, y2\n",
    "        \n",
    "y1_data = []\n",
    "y2_data = []\n",
    "y1_data, y2_data = Accuracy10(x, h0, TrueD)"
   ]
  },
  {
   "cell_type": "markdown",
   "id": "379db24b",
   "metadata": {},
   "source": [
    "|Точное значение производной x=-1: -10.401546148118296|F21_2|accuracyF21|RDD_2|accuracyRDD|h|\n",
    "|:---------------------------------------------------:|:---:|:---------:|:---:|:---------:|::|\n",
    "|0|-7.147481598618151|3.2540645495001455|-9.867652923821533|0.5338932242967633|0.1|\n",
    "|1|-10.388947216611006|0.012598931507289635|-10.49053669816778|0.08899055004948409|0.01|\n",
    "|2|-10.401537279884236|8.868234059988822e-06|-10.41179875467326|0.010252606554963961|0.001|\n",
    "|3|-10.401546139691368|8.426928488347585e-09|-10.40258481469885|0.0010386665805537376|0.0001|\n",
    "|4|-10.401546148088347|2.994937631228822e-11|-10.401650148659012|0.00010400054071624254|1.0000000000000002e-06|\n",
    "|5|-10.40154614807647|4.18260981405183e-11|-10.401556549473838|1.0401355542200008e-05|1.0000000000000002e-06|\n",
    "|6|-10.4015461421357|5.982595752129782e-09|-10.401547180387778 |1.0322694823372558e-06|1.0000000000000002e-07|\n",
    "|7|-10.40154611815478|2.996351611272985e-08|-10.401546224645546|7.652725031448426e-08|1.0000000000000002e-08|\n",
    "|8|-10.401545602792611|5.453256850529442e-07|-10.401545542894997|6.052232990327866e-07|1.0000000000000003e-09|\n",
    "|9|-10.401548379114423|2.2309961273947465e-06|-10.401549454444579|3.306326282981331e-06|1.0000000000000003e-10|"
   ]
  },
  {
   "cell_type": "code",
   "execution_count": 6,
   "id": "35c5e6aa",
   "metadata": {},
   "outputs": [
    {
     "data": {
      "text/plain": [
       "<matplotlib.legend.Legend at 0x279c6bf5c40>"
      ]
     },
     "execution_count": 6,
     "metadata": {},
     "output_type": "execute_result"
    },
    {
     "data": {
      "image/png": "[encoded data removed]",
      "text/plain": [
       "<Figure size 1080x360 with 2 Axes>"
      ]
     },
     "metadata": {
      "needs_background": "light"
     },
     "output_type": "display_data"
    }
   ],
   "source": [
    "x_data = np.linspace(0, 10, 10)\n",
    "fig, Axs = plt.subplots(1, 2, figsize=(15, 5))\n",
    "Axs[0].plot(x_data, y1_data, label=f'$F21(x, {h0})$')\n",
    "Axs[1].plot(x_data, y2_data, label=f'$RDD(x, {h0})$')\n",
    "Axs[0].legend()\n",
    "Axs[1].legend()"
   ]
  },
  {
   "cell_type": "markdown",
   "id": "fdff87d5",
   "metadata": {},
   "source": [
    "По графикам погрешностей можно сказать, что для метода по первой формуле численного дифференцирования оптимальное количество шагов равно 1, а для Правой разностной производной равно 3."
   ]
  },
  {
   "cell_type": "markdown",
   "id": "7ce48865",
   "metadata": {},
   "source": [
    "#### Задача 6.2\n",
    "Найти  приближенное решение  задачи Коши для обыкновенного дифференциального  уравнения (ОДУ) 1 порядка с точностью $\\varepsilon = 10^{-6}$.<br>\n",
    "$y' = r(t)y(t)$ $t\\in[t_0, T]$, <br>\n",
    "$y(t_0)=y_0$ \n",
    "### Порядок решения задачи\n",
    "1. Найти аналитическое решение задачи<br>  \n",
    "2.Составить  программу вычисления  решения  методом Эйлера с  заданной точностью, используя правило Рунге. Найти решение задачи с точностью $\\varepsilon = 10^{-6}$,число точек $N$ и шаг, при котором точность достигается. Построить график решения.<br>\n",
    "3. Составить  программу вычисления  решения с  заданной точностью методом \n",
    "индивидуального варианта. Найти решение задачи с заданной точностью,   число точек N и шаг, при котором точность достигается. Построить график решения задачи.<br>\n",
    "4. Сравнить полученные результаты.<br> \n",
    "5. Оформить отчет по задаче <br>"
   ]
  },
  {
   "cell_type": "markdown",
   "id": "1666ec22",
   "metadata": {},
   "source": [
    "## $y'= (-cos(3t)-0.1)y$,  $t \\in [\\frac{\\pi}{6}, \\frac{\\pi}{2}]$\n",
    "## $y(\\frac{\\pi}{6}) = 0.68$\n",
    "\n",
    "#### Решение задачи Коши:\n",
    "## $y=e^{-0.1t-\\frac{sin(3t)}{3}}$\n",
    "\n",
    "Стартовую точку у0 возьмем из условия: у0 = 0.68<br>\n",
    "у1 вычислим по аналитически найденной функции:y1 = у(t0+h)"
   ]
  },
  {
   "cell_type": "code",
   "execution_count": 7,
   "id": "61c87d06",
   "metadata": {},
   "outputs": [
    {
     "name": "stdout",
     "output_type": "stream",
     "text": [
      "Eyler: N =  686292 | h =  1.52587890625e-06\n",
      "Adams: N =  5362 | h =  0.0001953125\n"
     ]
    }
   ],
   "source": [
    "\n",
    "def y(t):\n",
    "    return np.exp(-0.1*t-(np.sin(3*t))/3)\n",
    "\n",
    "def r(t):\n",
    "    return -np.cos(3*t)-0.1\n",
    "\n",
    "def Eyler(t0, T, y0, h):\n",
    "    N = int((T-t0)/h)+1\n",
    "    Y = []\n",
    "    Y.append(y0)\n",
    "    for i in range(1, N):\n",
    "        Y.append(Y[i - 1] + h*r(t0 + h*(i - 1))*Y[i - 1])\n",
    "    Y1 = np.array(Y)    \n",
    "    return Y1, N, h\n",
    "    \n",
    "def REyler(t0, T, y0, h0, e):\n",
    "    R=[]\n",
    "    Y1, N1, h1 =Eyler(t0, T, y0, h0)\n",
    "    Y2, N2, h2 =Eyler(t0, T, y0, h0/2)\n",
    "    for i in range(N1):\n",
    "        R.append(abs(Y1[i] - Y2[2*i]))\n",
    "    while(e<max(R)):\n",
    "        R=[]\n",
    "        Y1, N1, h1 = Y2,N2,h2\n",
    "        Y2, N2, h2 =Eyler(t0, T, y0, h1/2)\n",
    "        for i in range(N1):\n",
    "            R.append(abs(Y1[i] - Y2[2*i]))\n",
    "    return Y2, N2, h2\n",
    "        \n",
    "def ExtraAdams2(t0, T, y0, h):\n",
    "    N=int((T-t0)/h)+1\n",
    "    Y=[]\n",
    "    Y.append(y0)\n",
    "    Y.append(y(t0+h))\n",
    "    for i in range(2, N):\n",
    "        Y.append(Y[i-1]+h/2*(3*r(t0+h*(i-1))*Y[i-1]-r(t0+h*(i-2))*Y[i-2]))\n",
    "    Y1=np.array(Y)\n",
    "    return Y1, N, h\n",
    "    \n",
    "def RExtraAdams2(t0, T, y0, h0, e):\n",
    "    R=[]\n",
    "    Y1, N1, h1 =ExtraAdams2(t0, T, y0, h0)\n",
    "    Y2, N2, h2 =ExtraAdams2(t0, T, y0, h0/2)\n",
    "    for i in range(N1):\n",
    "        R.append(abs(Y1[i] - Y2[2*i]))\n",
    "    while(e<max(R)):\n",
    "        R=[]\n",
    "        Y1, N1, h1 = Y2,N2,h2\n",
    "        Y2, N2, h2 =ExtraAdams2(t0, T, y0, h1/2)\n",
    "        for i in range(N1):\n",
    "            R.append(abs(Y1[i] - Y2[2*i]))\n",
    "    return Y2, N2, h2\n",
    "\n",
    "t0 = np.pi/6 \n",
    "T = np.pi/2\n",
    "y0 = 0.68\n",
    "h0 = 0.1\n",
    "e = 10**(-6)\n",
    "YEyler, NEyler, hEyler = REyler(t0, T, y0, h0, e)\n",
    "print(\"Eyler: N = \", NEyler, \"| h = \", hEyler)\n",
    "YAdams, NAdams, hAdams = RExtraAdams2(t0, T, y0, h0, e)\n",
    "print(\"Adams: N = \", NAdams, \"| h = \", hAdams)"
   ]
  },
  {
   "cell_type": "code",
   "execution_count": 8,
   "id": "d8265b75",
   "metadata": {},
   "outputs": [
    {
     "name": "stdout",
     "output_type": "stream",
     "text": [
      "-1.5255702166427909e-05\n"
     ]
    },
    {
     "data": {
      "image/png": "[encoded data removed]",
      "text/plain": [
       "<Figure size 1080x360 with 1 Axes>"
      ]
     },
     "metadata": {
      "needs_background": "light"
     },
     "output_type": "display_data"
    }
   ],
   "source": [
    "a = np.pi/6 \n",
    "b = np.pi/2\n",
    "x_data = np.linspace(a, b, 1000)\n",
    "x_dataEyler = np.linspace(a, b, NEyler)\n",
    "x_dataAdams = np.linspace(a, b, NAdams)\n",
    "fig, AxsPogrSN = plt.subplots(figsize=(15, 5))\n",
    "\n",
    "AxsPogrSN.plot(x_dataEyler, YEyler, label=f'$Eyler(x, {hEyler})$')\n",
    "AxsPogrSN.plot(x_dataAdams, YAdams, label=f'$ExtraAdams2(x, {hAdams})$')\n",
    "AxsPogrSN.plot(x_data, y(x_data), label=f'$Точн(x)$')\n",
    "AxsPogrSN.legend()\n",
    "\n",
    "print(y(np.pi/2) - YAdams[len (YAdams) - 1])"
   ]
  },
  {
   "cell_type": "code",
   "execution_count": 2,
   "id": "fee167f5",
   "metadata": {},
   "outputs": [
    {
     "ename": "NameError",
     "evalue": "name 'a' is not defined",
     "output_type": "error",
     "traceback": [
      "\u001b[1;31m---------------------------------------------------------------------------\u001b[0m",
      "\u001b[1;31mNameError\u001b[0m                                 Traceback (most recent call last)",
      "\u001b[1;32mC:\\Users\\DD69~1\\AppData\\Local\\Temp/ipykernel_20444/3024496244.py\u001b[0m in \u001b[0;36m<module>\u001b[1;34m\u001b[0m\n\u001b[0;32m      1\u001b[0m \u001b[1;32mdef\u001b[0m \u001b[0msimp\u001b[0m\u001b[1;33m(\u001b[0m\u001b[1;33m)\u001b[0m\u001b[1;33m:\u001b[0m\u001b[1;33m\u001b[0m\u001b[1;33m\u001b[0m\u001b[0m\n\u001b[0;32m      2\u001b[0m     \u001b[1;32mreturn\u001b[0m \u001b[0ma\u001b[0m \u001b[1;33m@\u001b[0m \u001b[0mb\u001b[0m\u001b[1;33m\u001b[0m\u001b[1;33m\u001b[0m\u001b[0m\n\u001b[1;32m----> 3\u001b[1;33m \u001b[0msimp\u001b[0m\u001b[1;33m(\u001b[0m\u001b[1;33m)\u001b[0m\u001b[1;33m\u001b[0m\u001b[1;33m\u001b[0m\u001b[0m\n\u001b[0m",
      "\u001b[1;32mC:\\Users\\DD69~1\\AppData\\Local\\Temp/ipykernel_20444/3024496244.py\u001b[0m in \u001b[0;36msimp\u001b[1;34m()\u001b[0m\n\u001b[0;32m      1\u001b[0m \u001b[1;32mdef\u001b[0m \u001b[0msimp\u001b[0m\u001b[1;33m(\u001b[0m\u001b[1;33m)\u001b[0m\u001b[1;33m:\u001b[0m\u001b[1;33m\u001b[0m\u001b[1;33m\u001b[0m\u001b[0m\n\u001b[1;32m----> 2\u001b[1;33m     \u001b[1;32mreturn\u001b[0m \u001b[0ma\u001b[0m \u001b[1;33m@\u001b[0m \u001b[0mb\u001b[0m\u001b[1;33m\u001b[0m\u001b[1;33m\u001b[0m\u001b[0m\n\u001b[0m\u001b[0;32m      3\u001b[0m \u001b[0msimp\u001b[0m\u001b[1;33m(\u001b[0m\u001b[1;33m)\u001b[0m\u001b[1;33m\u001b[0m\u001b[1;33m\u001b[0m\u001b[0m\n",
      "\u001b[1;31mNameError\u001b[0m: name 'a' is not defined"
     ]
    }
   ],
   "source": [
    "def simp(a, ):\n",
    "    return a @ b\n",
    "simp()"
   ]
  },
  {
   "cell_type": "code",
   "execution_count": null,
   "id": "29a8a711",
   "metadata": {},
   "outputs": [],
   "source": []
  }
 ],
 "metadata": {
  "kernelspec": {
   "display_name": "Python 3 (ipykernel)",
   "language": "python",
   "name": "python3"
  },
  "language_info": {
   "codemirror_mode": {
    "name": "ipython",
    "version": 3
   },
   "file_extension": ".py",
   "mimetype": "text/x-python",
   "name": "python",
   "nbconvert_exporter": "python",
   "pygments_lexer": "ipython3",
   "version": "3.9.7"
  }
 },
 "nbformat": 4,
 "nbformat_minor": 5
}
