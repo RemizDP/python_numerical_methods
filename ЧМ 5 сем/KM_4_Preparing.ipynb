{
 "cells": [
  {
   "cell_type": "markdown",
   "id": "28b6cdae",
   "metadata": {},
   "source": [
    "# Реализация всех методов"
   ]
  },
  {
   "cell_type": "markdown",
   "id": "ce4e82f7",
   "metadata": {},
   "source": [
    "## Итерационные методы\n"
   ]
  },
  {
   "cell_type": "markdown",
   "id": "1c819ce5",
   "metadata": {},
   "source": [
    "## Метод Якоби"
   ]
  },
  {
   "cell_type": "code",
   "execution_count": 3,
   "id": "1bdee944",
   "metadata": {},
   "outputs": [
    {
     "name": "stdout",
     "output_type": "stream",
     "text": [
      "MethodJacobi =  [ 4.58797893  9.81518758 -8.06602517 -0.41338958]\n"
     ]
    }
   ],
   "source": [
    "import numpy as np\n",
    "\n",
    "\n",
    "# Бесконечная норма матрицы\n",
    "def InfinityNormMatrix(A):\n",
    "    max = 0\n",
    "    n = A.shape[0]\n",
    "    for i in range(n):\n",
    "        sum = 0\n",
    "        for j in range(n):\n",
    "            sum += abs(A[i][j])\n",
    "        if sum > max:\n",
    "            max = sum\n",
    "    return max\n",
    "\n",
    "def InfinityNormVector(x):\n",
    "    n = x.shape[0]\n",
    "    max = abs(x[0])\n",
    "    for i in range(n):\n",
    "        if abs(x[i]) > max:\n",
    "            max = abs(x[i])\n",
    "    return max\n",
    "\n",
    "# Получаем матрицу B и вектор c, необходимые в методе Якобы\n",
    "def GetIterationParams(A, b):\n",
    "    n = A.shape[0]\n",
    "    B = np.eye(n)\n",
    "    c = np.zeros(n);\n",
    "    for i in range(n):\n",
    "        for j in range(n):\n",
    "            if i == j:\n",
    "                B[i][j] = 0\n",
    "            else:\n",
    "                B[i][j] = -A[i][j] / A[i][i]\n",
    "        c[i] = b[i] / A[i][i]\n",
    "    return B, c\n",
    "    \n",
    "    \n",
    "def MethodJacobi(A, x_0, eps, b):\n",
    "    B, c = GetIterationParams(A, b)\n",
    "    x_n_1 = x_0\n",
    "    x_n = B @ x_n_1 + c\n",
    "    q = InfinityNormMatrix(B)\n",
    "    eps = ((1 - q) / q) * eps\n",
    "    while InfinityNormVector(x_n - x_n_1) > eps:\n",
    "        x_n_1 = x_n\n",
    "        x_n = B @ x_n_1 + c\n",
    "    return x_n\n",
    "\n",
    "A = np.array([[46, 2, 4, 1], [7, 94, 5, 1], [5, 5, 100, 1], [4, 5, 6, 92]])\n",
    "x_0 = np.array([1, 1, 1, 1])\n",
    "b = np.array([198, 914, -735, -19])\n",
    "x = MethodJacobi(A, x_0, 10**(-5), b)\n",
    "print(\"MethodJacobi = \", x)"
   ]
  },
  {
   "cell_type": "markdown",
   "id": "29ded004",
   "metadata": {},
   "source": [
    "## Метод Зейделя"
   ]
  },
  {
   "cell_type": "code",
   "execution_count": 4,
   "id": "b75af3d5",
   "metadata": {},
   "outputs": [
    {
     "name": "stdout",
     "output_type": "stream",
     "text": [
      "MethodSeidel =  [ 4.58798063  9.81518772 -8.06602454 -0.41338819]\n"
     ]
    }
   ],
   "source": [
    "# Получение матриц B1 и B2\n",
    "def GetMatrixB1AndB2(B):\n",
    "    n = B.shape[0]\n",
    "    B1 = np.eye(n)\n",
    "    B2 = np.eye(n)\n",
    "    for i in range(n):\n",
    "        for j in range(n):\n",
    "            if i == j:\n",
    "                B1[i][j] = 0\n",
    "                B2[i][j] = 0\n",
    "            elif i > j:\n",
    "                B2[i][j] = B[i][j]\n",
    "            else:\n",
    "                B1[i][j] = B[i][j]\n",
    "    return B1, B2\n",
    "\n",
    "\n",
    "\n",
    "def CalculateXn(B, x_old, c):\n",
    "    n = B.shape[0]\n",
    "    x = np.zeros(n)\n",
    "    m = 0\n",
    "    for i in range(n):\n",
    "        x[i] = 0\n",
    "        for j in range(m):\n",
    "            x[i] += B[i][j] * x[j]\n",
    "        for j in range(m, n):\n",
    "            x[i] += B[i][j] * x_old[j]\n",
    "        m += 1\n",
    "        x[i] += c[i]\n",
    "    return x\n",
    "        \n",
    "\n",
    "def MethodSeidel(A, x_0, eps, b):\n",
    "    B, c = GetIterationParams(A, b)\n",
    "    B1, B2 = GetMatrixB1AndB2(B)\n",
    "    eps = eps * (1 - InfinityNormMatrix(B)) / (InfinityNormMatrix(B2))\n",
    "    x_n_1 = x_0\n",
    "    x_n = CalculateXn(B, x_n_1, c)\n",
    "    while InfinityNormVector(x_n - x_n_1) > eps:\n",
    "        x_n_1 = x_n\n",
    "        x_n = CalculateXn(B, x_n_1, c)\n",
    "    return x_n\n",
    "\n",
    "# Тестовый пример такой же как для метода Якоби\n",
    "A = np.array([[46, 2, 4, 1], [7, 94, 5, 1], [5, 5, 100, 1], [4, 5, 6, 92]])\n",
    "x_0 = np.array([1, 1, 1, 1])\n",
    "b = np.array([198, 914, -735, -19])\n",
    "x = MethodSeidel(A, x_0, 10**(-5), b)\n",
    "print(\"MethodSeidel = \", x)"
   ]
  },
  {
   "cell_type": "markdown",
   "id": "136837ac",
   "metadata": {},
   "source": [
    "## Метод релаксации"
   ]
  },
  {
   "cell_type": "code",
   "execution_count": 11,
   "id": "83403514",
   "metadata": {},
   "outputs": [
    {
     "name": "stdout",
     "output_type": "stream",
     "text": [
      "SOR =  [ 4.58798233  9.81519215 -8.06603273 -0.41336644]\n"
     ]
    }
   ],
   "source": [
    "# Вычисление следующего приближения\n",
    "def CalculateXn(B, x_old, omega, c):\n",
    "    n = B.shape[0]\n",
    "    x = np.zeros(n)\n",
    "    m = 0\n",
    "    for i in range(n):\n",
    "        x[i] = 0\n",
    "        for j in range(m):\n",
    "            x[i] += omega * B[i][j] * x[j]\n",
    "        for j in range(m, n):\n",
    "            x[i] += omega * B[i][j] * x_old[j]\n",
    "        m += 1\n",
    "        x[i] += omega * c[i]\n",
    "        x[i] += (1 - omega) * x_old[i]\n",
    "    return x\n",
    "\n",
    "def SOR(A, x_0, omega, eps, b):\n",
    "    B, c = GetIterationParams(A, b)\n",
    "    B1, B2 = GetMatrixB1AndB2(B)\n",
    "    eps = eps * (1 - InfinityNormMatrix(B)) / (InfinityNormMatrix(B2))\n",
    "    x_n_1 = x_0\n",
    "    x_n = CalculateXn(B, x_n_1, omega, c)\n",
    "    while InfinityNormVector(x_n - x_n_1) > eps:\n",
    "        x_n_1 = x_n\n",
    "        x_n = CalculateXn(B, x_n_1, omega, c)\n",
    "    return x_n\n",
    "\n",
    "# Тестовый пример такой же как для метода Якоби\n",
    "A = np.array([[46, 2, 4, 1], [7, 94, 5, 1], [5, 5, 100, 1], [4, 5, 6, 92]])\n",
    "x_0 = np.array([1, 1, 1, 1])\n",
    "b = np.array([198, 914, -735, -19])\n",
    "omega = 1.7882\n",
    "x = SOR(A, x_0, omega, 10**(-5), b)\n",
    "print(\"SOR = \", x)"
   ]
  },
  {
   "cell_type": "markdown",
   "id": "1cea2c1f",
   "metadata": {},
   "source": [
    "## Прямые методы"
   ]
  },
  {
   "cell_type": "markdown",
   "id": "171662ee",
   "metadata": {},
   "source": [
    "## Метод Холецкого "
   ]
  },
  {
   "cell_type": "code",
   "execution_count": 6,
   "id": "32082091",
   "metadata": {},
   "outputs": [
    {
     "name": "stdout",
     "output_type": "stream",
     "text": [
      "L =  [[5. 0. 0.]\n",
      " [6. 2. 0.]\n",
      " [2. 9. 5.]]\n",
      "L^T =  [[5. 6. 2.]\n",
      " [0. 2. 9.]\n",
      " [0. 0. 5.]]\n"
     ]
    }
   ],
   "source": [
    "def Transpose(A):\n",
    "    n = A.shape[0]\n",
    "    A_t = np.eye(n)\n",
    "    for i in range(n):\n",
    "        for j in range(n):\n",
    "            A_t[i][j] = A[j][i]\n",
    "    return A_t\n",
    "\n",
    "def DecompositionCholecy(A):\n",
    "    n = A.shape[0]\n",
    "    L = np.eye(n)\n",
    "    for i in range(n):\n",
    "        s = A[i][i]\n",
    "        for k in range(i):\n",
    "            s -= L[i][k]**2\n",
    "        L[i][i] = np.sqrt(s)\n",
    "        for j in range(i + 1, n):\n",
    "            s = A[j][i]\n",
    "            for k in range(i):\n",
    "                s -= L[i][k] * L[j][k]\n",
    "            L[j][i] = s / L[i][i]\n",
    "    L_t = Transpose(L.copy())\n",
    "    return L, L_t\n",
    "\n",
    "# Проверка корректности разложения\n",
    "A = np.array([[25, 30, 10], [30, 40, 30], [10, 30, 110]])\n",
    "L, L_t = DecompositionCholecy(A)\n",
    "print(\"L = \", L)\n",
    "print(\"L^T = \", L_t)"
   ]
  },
  {
   "cell_type": "code",
   "execution_count": 7,
   "id": "84d55017",
   "metadata": {},
   "outputs": [
    {
     "name": "stdout",
     "output_type": "stream",
     "text": [
      "Method Cholecy =  [ -7.   6. -10.]\n"
     ]
    }
   ],
   "source": [
    "# Метод решающий систему на основе данного разложения\n",
    "def SolveSystemUsingCholecy(L, L_t, b):\n",
    "    n = L.shape[0]\n",
    "    y = np.zeros(n)\n",
    "    y[0] = b[0] / L[0][0]\n",
    "    for i in range(1, n):\n",
    "        y[i] = b[i]\n",
    "        for j in range(0, i):\n",
    "            y[i] -= L[i][j] * y[j]\n",
    "        y[i] /= L[i][i]\n",
    "    x = np.zeros(n)\n",
    "    x[n - 1] = y[n - 1] / L_t[n - 1][n - 1]    \n",
    "    for i in range(n - 2, -1, -1):\n",
    "        cur = y[i]\n",
    "        for j in range(n - 1, i, -1):\n",
    "            cur -= L_t[i][j] * x[j]\n",
    "        x[i] = cur / L_t[i][i]\n",
    "    return x\n",
    "\n",
    "b = np.array([-95, -270, -990])\n",
    "x =  SolveSystemUsingCholecy(L, L_t, b)\n",
    "print(\"Method Cholecy = \", x)"
   ]
  },
  {
   "cell_type": "markdown",
   "id": "fbac76fb",
   "metadata": {},
   "source": [
    "## Метод Гаусса (классическая схема)"
   ]
  },
  {
   "cell_type": "code",
   "execution_count": 13,
   "id": "db137611",
   "metadata": {},
   "outputs": [
    {
     "name": "stdout",
     "output_type": "stream",
     "text": [
      "MethodGauss =  [1. 1. 2.]\n"
     ]
    }
   ],
   "source": [
    "# Прямой ход метода Гаууса\n",
    "def ForwardStrake(A, b):\n",
    "    n = A.shape[0]\n",
    "    for k in range(n - 1):\n",
    "        for i in range(k + 1, n):\n",
    "            mu_i_k = A[i][k] / A[k][k]\n",
    "            for j in range(k, n):\n",
    "                A[i][j] -= (mu_i_k * A[k][j])\n",
    "            b[i] -= (b[k] * mu_i_k)   \n",
    "    return A, b\n",
    "\n",
    "# Обратный ход метода Гаууса\n",
    "def BackStrake(A, b):\n",
    "    n = A.shape[0]\n",
    "    x = np.zeros(n)\n",
    "    x[n - 1] = b[n - 1] / A[n - 1][n - 1]\n",
    "    for i in range(n - 2, -1, -1):\n",
    "        s = b[i]\n",
    "        for j in range(n - 1, i, -1):\n",
    "            s -= (A[i][j] * x[j])\n",
    "        x[i] = s / A[i][i]\n",
    "    return x\n",
    "\n",
    "# Метод Гаусса реализация классического варианта\n",
    "def MethodGauss(A, b):\n",
    "    A, b = ForwardStrake(A, b)\n",
    "    x = BackStrake(A, b)\n",
    "    return x\n",
    "\n",
    "# Метод Гаусса тест\n",
    "A = np.array([[9, 0, -11], [-9, 8, 6], [18, -80, 32]])\n",
    "b = np.array([-13, 11, 2])\n",
    "x = MethodGauss(A, b)\n",
    "print(\"MethodGauss = \", x)"
   ]
  },
  {
   "cell_type": "markdown",
   "id": "3112ee73",
   "metadata": {},
   "source": [
    "# Метод Гаусса (схема частичного выбора)"
   ]
  },
  {
   "cell_type": "code",
   "execution_count": 17,
   "id": "ed7ab2ed",
   "metadata": {},
   "outputs": [
    {
     "name": "stdout",
     "output_type": "stream",
     "text": [
      "MethodGauss =  [1. 1. 2.]\n"
     ]
    }
   ],
   "source": [
    "# Находим максимум по модулю в столбце\n",
    "def MaxElementInRow(A, k):  \n",
    "    max_item = abs(A[k][k])\n",
    "    n = A.shape[0]\n",
    "    for i in range(k + 1, n):\n",
    "        if abs(A[i][k]) > max_item:\n",
    "            max_item = abs(A[i][k])\n",
    "         \n",
    "    # При выходе из функции возвращаем номер строки, в которой был найден максимальный элемент\n",
    "    # и сам этот элемент\n",
    "    for i in range(k, n):\n",
    "        if abs(A[i][k]) == max_item:\n",
    "            return i\n",
    "\n",
    "# Прямой ход метода Гаууса\n",
    "def ForwardStrake(A, b):\n",
    "    n = A.shape[0]\n",
    "    for k in range(n - 1):\n",
    "        max_row = MaxElementInRow(A, k)\n",
    "        # Меняем строки местами\n",
    "        tmp = A[max_row].copy()\n",
    "        A[max_row] = A[k]\n",
    "        A[k] = tmp\n",
    "        tmp = b[max_row].copy()\n",
    "        b[max_row] = b[k]\n",
    "        b[k] = tmp\n",
    "        for i in range(k + 1, n):\n",
    "            mu_i_k = A[i][k] / A[k][k]\n",
    "            for j in range(k, n):\n",
    "                A[i][j] -= (mu_i_k * A[k][j])\n",
    "            b[i] -= (b[k] * mu_i_k)   \n",
    "    return A, b\n",
    "\n",
    "# Обратный ход метода Гаууса\n",
    "def BackStrake(A, b):\n",
    "    n = A.shape[0]\n",
    "    x = np.zeros(n)\n",
    "    x[n - 1] = b[n - 1] / A[n - 1][n - 1]\n",
    "    for i in range(n - 2, -1, -1):\n",
    "        s = b[i]\n",
    "        for j in range(n - 1, i, -1):\n",
    "            s -= (A[i][j] * x[j])\n",
    "        x[i] = s / A[i][i]\n",
    "    return x\n",
    "\n",
    "# Метод Гаусса реализация схемы частичного выбора\n",
    "def MethodGauss(A, b):\n",
    "    A, b = ForwardStrake(A, b)\n",
    "    x = BackStrake(A, b)\n",
    "    return x\n",
    "\n",
    "# Метод Гаусса тест\n",
    "A = np.array([[9.0, 0.0, -11.0], [-9.0, 8.0, 6.0], [18.0, -80.0, 32.0]])\n",
    "b = np.array([-13.0, 11.0, 2.0])\n",
    "x = MethodGauss(A, b)\n",
    "print(\"MethodGauss = \", x)"
   ]
  },
  {
   "cell_type": "markdown",
   "id": "1e7000e2",
   "metadata": {},
   "source": [
    "## Метод Гаусса (схема полного выбора)"
   ]
  },
  {
   "cell_type": "code",
   "execution_count": 67,
   "id": "e8e31d5a",
   "metadata": {},
   "outputs": [
    {
     "name": "stdout",
     "output_type": "stream",
     "text": [
      "MethodGauss =  [ 8. -3.  5. -4.]\n"
     ]
    }
   ],
   "source": [
    "# Находим максимум по модулю в матрицу \n",
    "def MaxElementInMatrix(A, k):\n",
    "    max = 0\n",
    "    n = A.shape[0]\n",
    "    for i in range(k, n):\n",
    "        for j in range(k, n):\n",
    "            if abs(A[i][j]) > max:\n",
    "                max = abs(A[i][j])\n",
    "    for i in range(k, n):\n",
    "        for j in range(k, n):\n",
    "            if abs(A[i][j]) == max:\n",
    "                return i, j\n",
    "            \n",
    "# Прямой ход метода Гаууса\n",
    "def ForwardStrake(A, b):\n",
    "    n = A.shape[0]\n",
    "    permutations = []\n",
    "    for k in range(n - 1):\n",
    "        max_row, max_column = MaxElementInMatrix(A, k)\n",
    "        # Меняем строки местами\n",
    "        tmp = A[max_row].copy()\n",
    "        A[max_row] = A[k]\n",
    "        A[k] = tmp\n",
    "        tmp = b[max_row].copy()\n",
    "        b[max_row] = b[k]\n",
    "        b[k] = tmp\n",
    "        # меняем столбцы местами\n",
    "        \n",
    "        permutations.append((k, max_column))\n",
    "        tmp = np.copy(A[:, k])\n",
    "        A[:, k] = A[:, max_column]\n",
    "        A[:, max_column] = tmp\n",
    "        \n",
    "        \n",
    "        for i in range(k + 1, n):\n",
    "            mu_i_k = A[i][k] / A[k][k]\n",
    "            for j in range(k, n):\n",
    "                A[i][j] -= (mu_i_k * A[k][j])\n",
    "            b[i] -= (b[k] * mu_i_k)   \n",
    "    return A, b, permutations\n",
    "\n",
    "# Обратный ход метода Гаууса\n",
    "def BackStrake(A, b, permutations, n):\n",
    "    x = np.zeros(n)\n",
    "    x[n - 1] = b[n - 1] / A[n - 1][n - 1]\n",
    "    for i in range(n - 2, -1, -1):\n",
    "        s = b[i]\n",
    "        for j in range(n - 1, i, -1):\n",
    "            s -= (A[i][j] * x[j])\n",
    "        x[i] = s / A[i][i]\n",
    "    # Теперь строим соответствия для каждого x[i]\n",
    "    pos = []\n",
    "    for i in range(n):\n",
    "        pos.append(i)\n",
    "    for p in permutations:\n",
    "        pos_1 = 0\n",
    "        pos_2 = 0\n",
    "        for i in range(n):\n",
    "            if pos[i] == p[0]:\n",
    "                pos_1 = i\n",
    "            if pos[i] == p[1]:\n",
    "                pos_2 = i\n",
    "        tmp = pos[pos_1]\n",
    "        pos[pos_1] = pos[pos_2]\n",
    "        pos[pos_2] = tmp\n",
    "    ans = x.copy()\n",
    "    for i in range(n):\n",
    "        ans[i] = x[pos[i]]\n",
    "    return ans\n",
    "\n",
    "# Метод Гаусса реализация схемы полного выбора\n",
    "def MethodGauss(A, b):\n",
    "    n = A.shape[0]\n",
    "    A, b, permutations = ForwardStrake(A, b)\n",
    "    x = BackStrake(A, b, permutations, n)\n",
    "    return x\n",
    "\n",
    "# Метод Гаусса тест\n",
    "A = np.array([[-4.0, -7.0, -3.0, -2.0], [40.0, 61.0, 29.0, 11.0], [40.0, 7.0, 29.0, -52.0], [24.0, 87.0, 41.0, 25.0]])\n",
    "b = np.array([-18.0, 238.0, 652.0, 36.0])\n",
    "x = MethodGauss(A, b)\n",
    "print(\"MethodGauss = \", x)"
   ]
  },
  {
   "cell_type": "markdown",
   "id": "8443ed96",
   "metadata": {},
   "source": [
    "## Метод прогонки"
   ]
  },
  {
   "cell_type": "code",
   "execution_count": 34,
   "id": "35942045",
   "metadata": {},
   "outputs": [
    {
     "name": "stdout",
     "output_type": "stream",
     "text": [
      "SweepMethod =  [-6. -2.  8.  4.  7.]\n"
     ]
    }
   ],
   "source": [
    "# Метод прогонки, a - массив элементов под главной диагональю, b - массив элементов на главной диагонали\n",
    "# с - массив элементов над главной диагональю, d - вектор правых частей\n",
    "def SweepMethod(a, b, c, d):\n",
    "    n = b.shape[0]\n",
    "    alpha = np.zeros(n)\n",
    "    beta = np.zeros(n)\n",
    "    alpha[0] = -c[0] / b[0]\n",
    "    beta[0] = d[0] / b[0]\n",
    "    # Прямой ход метода (было бы лучше вынести в отдельную функцию, но мне лень)\n",
    "    for i in range(1, n - 1):\n",
    "        gamma_i = b[i] + a[i] * alpha[i - 1]\n",
    "        alpha[i] = -c[i] / gamma_i\n",
    "        beta[i] = (d[i] - a[i] * beta[i - 1]) / gamma_i\n",
    "    # Обратный ход, тоже бы вынести в отдельную функцию :)\n",
    "    gamma_n_1 = b[n - 1] + a[n - 1] * alpha[n - 2]\n",
    "    beta[n - 1] = (d[n - 1] - a[n - 1] * beta[n - 2]) / gamma_n_1\n",
    "    x = np.zeros(n)\n",
    "    x[n - 1] = beta[n - 1]\n",
    "    for i in range(n - 2, -1, -1):\n",
    "        x[i] = alpha[i] * x[i + 1] + beta[i]\n",
    "    return x\n",
    "\n",
    "# Проверка работоспособности метод\n",
    "# В матрице a обязательно задавать первый элемент любым числом, а дальше уже любая диагональ\n",
    "a = np.array([0, -6, -3, 1, 5])\n",
    "b = np.array([4, 20, 7, 6, 8])\n",
    "c = np.array([2, -4, -1, -3])\n",
    "d = np.array([-28, -36, 58, 11, 76])\n",
    "x = SweepMethod(a, b, c, d)\n",
    "print(\"SweepMethod = \", x)"
   ]
  },
  {
   "cell_type": "markdown",
   "id": "2f38387b",
   "metadata": {},
   "source": [
    "## LU разложение (классический вариант)"
   ]
  },
  {
   "cell_type": "code",
   "execution_count": 35,
   "id": "ad0a663e",
   "metadata": {},
   "outputs": [
    {
     "name": "stdout",
     "output_type": "stream",
     "text": [
      "LUDecompositionClassic =  [1. 1. 2.]\n"
     ]
    }
   ],
   "source": [
    "# LU разложение матрицы\n",
    "def LUDecomposition(A):\n",
    "    n = A.shape[0]\n",
    "    U = A # Чтобы не модифицировать матрицу A, копируем ее в U\n",
    "    L = np.eye(n) # Делаем единичную матрицу n * n\n",
    "    for k in range(n - 1):\n",
    "            for i in range(k + 1, n):\n",
    "                mu_i_k = U[i][k] / U[k][k]\n",
    "                L[i][k] = mu_i_k\n",
    "                U[i][k] -= U[k][k] * mu_i_k\n",
    "                for j in range(k + 1, n):\n",
    "                    U[i][j] -= (mu_i_k * U[k][j])\n",
    "    return L, U\n",
    "\n",
    "# Рещение системы с помощью данного Lu разложения\n",
    "def SolveSystemUsingLU(L, U, b):\n",
    "    n = L.shape[0]\n",
    "    y = np.zeros(n)\n",
    "    y[0] = b[0]\n",
    "    for i in range(1, n):\n",
    "        y[i] = b[i]\n",
    "        for j in range(0, i):\n",
    "            y[i] -= L[i][j] * y[j]\n",
    "            \n",
    "    x = np.zeros(n)\n",
    "    x[n - 1] = y[n - 1] / U[n - 1][n - 1]    \n",
    "    for i in range(n - 2, -1, -1):\n",
    "        cur = y[i]\n",
    "        for j in range(n - 1, i, -1):\n",
    "            cur -= U[i][j] * x[j]\n",
    "        x[i] = cur / U[i][i]\n",
    "    return x\n",
    "\n",
    "A = np.array([[9, 0, -11], [-9, 8, 6], [18, -80, 32]])\n",
    "b = np.array([-13, 11, 2])\n",
    "L, U = LUDecomposition(A)\n",
    "x = SolveSystemUsingLU(L, U, b)\n",
    "print(\"LUDecompositionClassic = \", x)"
   ]
  },
  {
   "cell_type": "markdown",
   "id": "bd01ff84",
   "metadata": {},
   "source": [
    "## LU разложение (по схеме частичного выбора)"
   ]
  },
  {
   "cell_type": "code",
   "execution_count": 38,
   "id": "d56c9dc7",
   "metadata": {},
   "outputs": [
    {
     "name": "stdout",
     "output_type": "stream",
     "text": [
      "LUDecompositionSchemeNotFull =  [1. 1. 2.]\n"
     ]
    }
   ],
   "source": [
    "# Находим максимум по модулю в столбце\n",
    "def MaxElementInRow(A, k):  \n",
    "    max_item = abs(A[k][k])\n",
    "    n = A.shape[0]\n",
    "    for i in range(k + 1, n):\n",
    "        if abs(A[i][k]) > max_item:\n",
    "            max_item = abs(A[i][k])\n",
    "         \n",
    "    # При выходе из функции возвращаем номер строки, в которой был найден максимальный элемент\n",
    "    # и сам этот элемент\n",
    "    for i in range(k, n):\n",
    "        if abs(A[i][k]) == max_item:\n",
    "            return i\n",
    "\n",
    "# LU разложение по схеме частичного выбора\n",
    "def LUDecomposition(A, b):\n",
    "    n = A.shape[0]\n",
    "    L = np.eye(n) # Делаем единичную матрицу n * n\n",
    "    U = A.copy()\n",
    "    for k in range(n - 1):\n",
    "        max_row = MaxElementInRow(U, k)\n",
    "        # Меняем строки местами\n",
    "        tmp = U[max_row].copy()\n",
    "        U[max_row] = U[k]\n",
    "        U[k] = tmp\n",
    "        \n",
    "        tmp = b[max_row].copy()\n",
    "        b[max_row] = b[k]\n",
    "        b[k] = tmp\n",
    "        \n",
    "        if k > 0: \n",
    "            for j in range(k, -1, -1):\n",
    "                tmp = L[max_row][j].copy()\n",
    "                L[max_row][j] = L[k][j]\n",
    "                L[k][j] = tmp\n",
    "        for i in range(k + 1, n):\n",
    "            mu_i_k = U[i][k] / U[k][k]\n",
    "            L[i][k] = mu_i_k\n",
    "            U[i][k] -= U[k][k] * mu_i_k\n",
    "            for j in range(k + 1, n):\n",
    "                U[i][j] -= (mu_i_k * U[k][j])\n",
    "    return L, U\n",
    "\n",
    "# Рещение системы с помощью данного LU разложения\n",
    "def SolveSystemUsingLU(L, U, b):\n",
    "    n = L.shape[0]\n",
    "    y = np.zeros(n)\n",
    "    #print(\"n = \", n)\n",
    "    y[0] = b[0]\n",
    "    for i in range(1, n):\n",
    "        y[i] = b[i]\n",
    "        for j in range(0, i):\n",
    "            y[i] -= L[i][j] * y[j]\n",
    "            \n",
    "    x = np.zeros(n)\n",
    "    x[n - 1] = y[n - 1] / U[n - 1][n - 1]    \n",
    "    for i in range(n - 2, -1, -1):\n",
    "        cur = y[i]\n",
    "        for j in range(n - 1, i, -1):\n",
    "            cur -= U[i][j] * x[j]\n",
    "        x[i] = cur / U[i][i]\n",
    "    return x\n",
    "\n",
    "\n",
    "A = np.array([[9.0, 0.0, -11.0], [-9.0, 8.0, 6.0], [18.0, -80.0, 32.0]])\n",
    "b = np.array([-13.0, 11.0, 2.0])\n",
    "L, U = LUDecomposition(A, b)\n",
    "x = SolveSystemUsingLU(L, U, b)\n",
    "print(\"LUDecompositionSchemeNotFull = \", x)"
   ]
  },
  {
   "cell_type": "markdown",
   "id": "2bb4a0c9",
   "metadata": {},
   "source": [
    "## LU разложение (по схеме полного выбора)"
   ]
  },
  {
   "cell_type": "code",
   "execution_count": null,
   "id": "1d59572f",
   "metadata": {},
   "outputs": [],
   "source": []
  },
  {
   "cell_type": "markdown",
   "id": "77e8339a",
   "metadata": {},
   "source": [
    "## LU разложение (c использованием матрицы перестановок)"
   ]
  },
  {
   "cell_type": "code",
   "execution_count": 15,
   "id": "0e8693b6",
   "metadata": {},
   "outputs": [
    {
     "name": "stdout",
     "output_type": "stream",
     "text": [
      "LUPDecomposition =  [1. 1. 2.]\n"
     ]
    }
   ],
   "source": [
    "# Находим максимум по модулю в столбце\n",
    "def MaxElementInRow(A, k):  \n",
    "    max_item = abs(A[k][k])\n",
    "    n = A.shape[0]\n",
    "    for i in range(k + 1, n):\n",
    "        if abs(A[i][k]) > max_item:\n",
    "            max_item = abs(A[i][k])\n",
    "         \n",
    "    # При выходе из функции возвращаем номер строки, в которой был найден максимальный элемент\n",
    "    # и сам этот элемент\n",
    "    for i in range(k, n):\n",
    "        if abs(A[i][k]) == max_item:\n",
    "            return i\n",
    "\n",
    "def LUPDecomposition(A):\n",
    "    n = A.shape[0]\n",
    "    L = np.eye(n)\n",
    "    P = np.eye(n)   \n",
    "    for k in range(n - 1):\n",
    "        P_k = np.eye(n)\n",
    "        U_k = np.eye(n)\n",
    "        L_k = np.eye(n)\n",
    "        max_row = MaxElementInRow(A, k)\n",
    "        P_k[max_row], P_k[k] = np.copy(P_k[k]), np.copy(P_k[max_row])\n",
    "        A = P_k @ A\n",
    "        for i in range(k + 1, n):\n",
    "            mu_i_k = A[i][k] / A[k][k]\n",
    "            U_k[i][k] = -mu_i_k\n",
    "            L_k[i][k] = mu_i_k\n",
    "        A = U_k @ A \n",
    "        P = P_k @ P\n",
    "        L = L @ P_k @ L_k\n",
    "    \n",
    "    L = P @ L  \n",
    "    return L, A, P\n",
    "\n",
    "# Решение системы использование матриц L, U, P\n",
    "def SolveSystemUsingLUP(L, U, P, b):\n",
    "    n = L.shape[0]\n",
    "    y = np.zeros(n)\n",
    "    b = P @ b\n",
    "    y[0] = b[0]\n",
    "    for i in range(1, n):\n",
    "        y[i] = b[i]\n",
    "        for j in range(0, i):\n",
    "            y[i] -= L[i][j] * y[j]\n",
    "            \n",
    "    x = np.zeros(n)\n",
    "    x[n - 1] = y[n - 1] / U[n - 1][n - 1]    \n",
    "    for i in range(n - 2, -1, -1):\n",
    "        cur = y[i]\n",
    "        for j in range(n - 1, i, -1):\n",
    "            cur -= U[i][j] * x[j]\n",
    "        x[i] = cur / U[i][i]\n",
    "    return x\n",
    "\n",
    "A = np.array([[9.0, 0.0, -11.0], [-9.0, 8.0, 6.0], [18.0, -80.0, 32.0]])\n",
    "b = np.array([-13.0, 11.0, 2.0])\n",
    "L, U, P = LUPDecomposition(A)\n",
    "x = SolveSystemUsingLUP(L, U, P, b)\n",
    "print(\"LUPDecomposition = \", x)"
   ]
  },
  {
   "cell_type": "code",
   "execution_count": null,
   "id": "c9649fcc",
   "metadata": {},
   "outputs": [],
   "source": []
  }
 ],
 "metadata": {
  "kernelspec": {
   "display_name": "Python 3 (ipykernel)",
   "language": "python",
   "name": "python3"
  },
  "language_info": {
   "codemirror_mode": {
    "name": "ipython",
    "version": 3
   },
   "file_extension": ".py",
   "mimetype": "text/x-python",
   "name": "python",
   "nbconvert_exporter": "python",
   "pygments_lexer": "ipython3",
   "version": "3.9.7"
  }
 },
 "nbformat": 4,
 "nbformat_minor": 5
}
