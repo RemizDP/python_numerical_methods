{
 "cells": [
  {
   "cell_type": "markdown",
   "id": "8d5066a2",
   "metadata": {},
   "source": [
    "# ЛАБОРАТОРНАЯ РАБОТА 5\n",
    "## ЧИСЛЕННОЕ ИНТЕГРИРОВАНИЕ"
   ]
  },
  {
   "cell_type": "markdown",
   "id": "d311ee5b",
   "metadata": {},
   "source": [
    "### Задача 5.1.\n",
    "Вычислить значение интеграла $\\int\\limits_1^3 {P_m(x)dx}$, где $P_m(x)= \\displaystyle\\sum_{i=0}^{m} C_ix^{i}$ , с помощью  квадратурных  формул  левых прямоугольников и по формуле индивидуального варианта с точностью  0.01. Вычислить интеграл по формуле Гаусса."
   ]
  },
  {
   "cell_type": "markdown",
   "id": "76dcb996",
   "metadata": {},
   "source": [
    "### ПОРЯДОК РЕШЕНИЯ ЗАДАЧИ\n",
    "\n",
    "1. Вычислить  аналитически значение интеграла $I$.\n",
    "2. Используя выражение для остаточного  члена интегрирования (см. ПРИЛОЖЕНИЕ 5.B), оценить шаг интегрирования  $h$ , при котором  величина погрешности  квадратурной формулы  будет меньше $\\varepsilon$ . Вычислить число отрезков разбиения n.\n",
    "3. Вычислить значение интеграла $I^h$ по составной квадратурной  формуле левых прямоугольников  с найденным шагом $h$ . Найти величину погрешности $R^h =  |{I-I^h}|$ .\n",
    "4. Проделать те же действия (п. 2 - 3)  для вычисления интеграла $I$ по квадратурной формуле  из индивидуального варианта.\n",
    "5. Основываясь на  заданной степени многочлена m, выбрать число узлов для квадратуры Гаусса, обеспечивающее вычисление интеграла без погрешности. Вычислить  интеграл $I^G$.\n",
    "6. Результаты внести в таблицу 5.1"
   ]
  },
  {
   "cell_type": "markdown",
   "id": "0f15153c",
   "metadata": {},
   "source": [
    "### По формуле левых прямоугольников:"
   ]
  },
  {
   "cell_type": "code",
   "execution_count": 1,
   "id": "7a48ee73",
   "metadata": {},
   "outputs": [
    {
     "name": "stdout",
     "output_type": "stream",
     "text": [
      "I =  155.92000000000002 err =  1.7310597399955443e-12\n",
      "h =  4.170141784820684e-05\n",
      "n =  47960\n",
      "Интеграл по ф-ле л. прямоугольников=  155.912578847678\n",
      "Остаточный член ф-лы л. прямоугольников=  0.007421152322024227\n"
     ]
    },
    {
     "data": {
      "image/png": "[encoded data removed]",
      "text/plain": [
       "<Figure size 720x720 with 1 Axes>"
      ]
     },
     "metadata": {
      "needs_background": "light"
     },
     "output_type": "display_data"
    }
   ],
   "source": [
    "import numpy as np\n",
    "import matplotlib.pyplot as plt\n",
    "from scipy.integrate import quad \n",
    "#from scipy import quad \n",
    "\n",
    "\n",
    "C0 = 7.4\n",
    "C1 = -2.3\n",
    "C2 = 6.6\n",
    "C3 = 0.3\n",
    "C4 = 1.8\n",
    "a=1\n",
    "b=3\n",
    "e=0.01\n",
    "\n",
    "def P(x):\n",
    "    return C0*x**0+C1*x**1+C2*x**2+C3*x**3+C4*x**4\n",
    "\n",
    "def dP(x):\n",
    "    return C1+C2*2*x+C3*3*x**2+C4*4*x**3\n",
    "\n",
    "\n",
    "x_data=np.linspace(1, 3, 100000)\n",
    "M1 = max(abs(dP(x_data)))\n",
    "y_data=P(x_data)\n",
    "I, err = quad(P, a, b)\n",
    "print(\"I = \", I, \"err = \", err)\n",
    "\n",
    "figure, ax = plt.subplots(1,1, figsize = (10, 10))\n",
    "ax.grid()\n",
    "ax.plot(x_data, y_data, label = '$P(x)$')\n",
    "ax.legend()\n",
    "\n",
    "h=2*e/(M1*(b-a))\n",
    "n=round((b-a)/h)\n",
    "print(\"h = \", h)\n",
    "print(\"n = \", n)\n",
    "\n",
    "x_data=np.linspace(1, 3, n)\n",
    "\n",
    "def LeftRectangle(x, n):\n",
    "    res=0\n",
    "    for i in range (n-1):\n",
    "        res+=P(x[i])\n",
    "    res*=h\n",
    "    return res\n",
    "\n",
    "ILeft = LeftRectangle(x_data, n)\n",
    "print(\"Интеграл по ф-ле л. прямоугольников= \", ILeft)\n",
    "\n",
    "Rh_l=abs(I-ILeft)\n",
    "print(\"Остаточный член ф-лы л. прямоугольников= \", Rh_l)"
   ]
  },
  {
   "cell_type": "markdown",
   "id": "0e78ed6f",
   "metadata": {},
   "source": [
    "### По формуле Симпсона:"
   ]
  },
  {
   "cell_type": "code",
   "execution_count": 2,
   "id": "8d56628f",
   "metadata": {},
   "outputs": [
    {
     "name": "stdout",
     "output_type": "stream",
     "text": [
      "h=  0.7598356856515925\n",
      "n=  3\n",
      "h_new =  0.6666666666666666\n",
      "Интеграл по ф-ле Симпсона =  155.9259259259259\n",
      "Ост. член ф-лы Симпсона =  0.005925925925879483\n"
     ]
    }
   ],
   "source": [
    "x_data=np.linspace(a, b, 100000)\n",
    "def d4P(x):\n",
    "    return C4*4*3*2\n",
    "M4 = abs(d4P(x_data))\n",
    "I, err = quad(P, a, b)\n",
    "h=(e*2880/(M4*(b-a)))**(1/4)\n",
    "print(\"h= \", h)\n",
    "n = round((b-a)/h)\n",
    "print(\"n= \", n)\n",
    "h = (b-a)/(n)\n",
    "print(\"h_new = \", h)\n",
    "k=2*n\n",
    "\n",
    "x_data = np.linspace(a, b, k+1)   \n",
    "\n",
    "def Simpson(x, h, n):\n",
    "    res=P(x[0])+P(x[n])\n",
    "    s1 =0\n",
    "    s2=0\n",
    "    for i in range(0, n, 2):\n",
    "        j=i+1\n",
    "        s1+=P(x[j])\n",
    "    s1*=4\n",
    "    for i in range (2, n, 2):\n",
    "        s2+=P(x[i])\n",
    "    s2*=2\n",
    "    res+=s1+s2\n",
    "    res*=h/6\n",
    "    return res\n",
    "\n",
    "ISimpson=Simpson(x_data, h, k)\n",
    "R_simp=abs(I-ISimpson)\n",
    "\n",
    "print(\"Интеграл по ф-ле Симпсона = \", ISimpson)\n",
    "print(\"Ост. член ф-лы Симпсона = \", R_simp)"
   ]
  },
  {
   "cell_type": "markdown",
   "id": "d5ddc6f4",
   "metadata": {},
   "source": [
    "Основываясь на  заданной степени многочлена $m=4$, выбрать число узлов для квадратуры Гаусса, обеспечивающее вычисление интеграла без погрешности. Вычислить  интеграл $I^G$ <br>\n",
    "\n",
    "Число узлов = $m-1=3$<br>\n",
    "Используя таблицу узлов и весов квадратурной формулы Гаусса, построим квадратурную формулу для конкретного нашего случая"
   ]
  },
  {
   "cell_type": "code",
   "execution_count": 3,
   "id": "88ff2738",
   "metadata": {},
   "outputs": [
    {
     "name": "stdout",
     "output_type": "stream",
     "text": [
      "Интеграл по кв. ф-ле Гаусса=  155.91999999897078\n",
      "Погр. интеграла по ф-ле Гаусса=  1.0292353636032203e-09\n"
     ]
    }
   ],
   "source": [
    "I, err = quad(P, a, b)\n",
    "ai=[0.5555555556, 0.8888888888, 0.5555555556]\n",
    "t=[-0.7745966692, 0.0000000000, 0.7745966692]\n",
    "def Gauss(a, b, N):\n",
    "    s=0\n",
    "    for i in range(0, N+1):\n",
    "        s+=ai[i]*P((a+b)/2 -t[i]*(b-a)/2)\n",
    "    s*=(b-a)/2\n",
    "    return s\n",
    "\n",
    "IG=Gauss(a, b, 2)\n",
    "print(\"Интеграл по кв. ф-ле Гаусса= \", IG)\n",
    "R_gauss=abs(I-IG)\n",
    "print(\"Погр. интеграла по ф-ле Гаусса= \", R_gauss)"
   ]
  },
  {
   "cell_type": "markdown",
   "id": "1ac63636",
   "metadata": {},
   "source": [
    "|Найденное точное значение интеграла: 155.92000000000002| n | h |$I^{h}$| $R^{h}$|\n",
    "|:-----------------------------------------------------:|:-:|:-:|:-----:|:-:|\n",
    "|Ф-ла Левых Прямоугольников|47960|4.170141784820684e-05|155.912578847678|0.007421152322024227|\n",
    "|Ф-ла Симпсона|3|0.6666666666666666|155.9259259259259|0.005925925925879483|\n",
    "|Ф-ла квадратуры Гаусса|3| |155.91999999897078|1.0292353636032203e-09|"
   ]
  },
  {
   "cell_type": "markdown",
   "id": "7be92a5a",
   "metadata": {},
   "source": [
    "## Задача 5.2\n",
    "Вычислить интеграл $\\int\\limits_{-3}^0 {3e^xsin(3\\pi x)dx}$ <br>\n",
    "1. Вычислить интеграл $I$ с помощью средств пакета PYTHON.\n",
    "2. Составить программу, содержащую следующие разделы: \n",
    "    1. процедуру-функцию, вычисляющую  интеграл по составной квадратурной формуле  из  индивидуального варианта  $I^h$   с заданным шагом  $h$.\n",
    "    2. подпрограмму, вычисляющую значение интеграла с заданной точностью $10^{-12}$;  оценку погрешности производить на основе правила Рунге.\n",
    "    3. вычисление уточненного значение интеграла $I^{уточн}$ и величину погрешности $R^{уточн}=|I^{уточн}-I|$\n",
    "    Результатом работы программы должны быть следующие величины:<br>\n",
    "n- число разбиений отрезка интегрирования, при котором заданная точность достигнута,<br>\n",
    "$I^h$ и $I^{h/2}$- полученные  значения интеграла при шагах $h$ и $h/2$ соответственно, <br>$R^h=|I^h-I|$ и $R^{h/2}=|I^{h/2}-I|$ - величины  абсолютных погрешностей, <br>$I^{уточн}$ и $R^{уточн}=|I-I^{уточн}|$ -  величины для уточненного значения интеграла."
   ]
  },
  {
   "cell_type": "markdown",
   "id": "99635b07",
   "metadata": {},
   "source": [
    "## По ф-ле Симсона:"
   ]
  },
  {
   "cell_type": "code",
   "execution_count": 10,
   "id": "8582da80",
   "metadata": {},
   "outputs": [
    {
     "name": "stdout",
     "output_type": "stream",
     "text": [
      "Точное значение интеграла =  -0.330437566103007\n",
      "Число разбиений отрезка:  4096\n",
      "h=  0.000732421875\n",
      "Интеграл по ф-ле Симпсона =  -0.3304375661032615\n",
      "Интеграл по ф-ле Симпсона с шагом h/2 =  -0.33043756610302266\n",
      "Величина погрешности:  2.5451862839531714e-13\n"
     ]
    }
   ],
   "source": [
    "import math as m\n",
    "a=-3\n",
    "b=0\n",
    "e=10**(-12)\n",
    "def F(x):\n",
    "    return 3*np.exp(x)*np.sin(3*np.pi*x)\n",
    "I, err = quad(F, a, b)\n",
    "print(\"Точное значение интеграла = \", I)\n",
    "\n",
    "def d4F(x):\n",
    "    return 3*np.exp(x)*np.sin(3*np.pi*x)+36*np.pi*np.exp(x)*np.cos(3*np.pi*x)-162*(np.pi**2)*np.exp(x)*np.sin(3*np.pi*x)-324*(np.pi**3)*np.exp(x)*np.cos(3*np.pi*x)+243*(np.pi**4)*np.exp(x)*np.sin(3*np.pi*x)\n",
    "\n",
    "def SimpsonF(x, h, n):\n",
    "    res=F(x[0])+F(x[n])\n",
    "    s1 =0\n",
    "    s2=0\n",
    "    for i in range(0, n, 2):\n",
    "        j=i+1\n",
    "        s1+=F(x[j])\n",
    "    s1*=4\n",
    "    for i in range (2, n, 2):\n",
    "        s2+=F(x[i])\n",
    "    s2*=2\n",
    "    res+=s1+s2\n",
    "    res*=h/6\n",
    "    return res\n",
    "\n",
    "def H(a, b):\n",
    "    n1=1\n",
    "    n2=2\n",
    "    k1=2*n1\n",
    "    k2=2*n2\n",
    "    x1=np.linspace(a,b, k1+1)\n",
    "    x2=np.linspace(a,b, k2+1)\n",
    "    h1 = (b-a)/n1\n",
    "    h2 = (b-a)/n2\n",
    "    I_h1= SimpsonF(x1, h1, k1)\n",
    "    I_h2= SimpsonF(x2, h2, k2)\n",
    "    while abs(I_h1-I_h2)>=e:\n",
    "        I_h1=I_h2\n",
    "        h1=h2\n",
    "        n1=n2\n",
    "        n2*=2\n",
    "        k2=2*n2\n",
    "        h2=(b-a)/n2\n",
    "        x2=np.linspace(a,b, k2+1)\n",
    "        I_h2 = SimpsonF(x2, h2, k2)\n",
    "    \n",
    "    return n1, h1, I_h1, I_h2\n",
    "\n",
    "n, h, ISimpson, ISimpson2 = H(a,b)\n",
    "\n",
    "print(\"Число разбиений отрезка: \", n)\n",
    "print(\"h= \", h)\n",
    "print(\"Интеграл по ф-ле Симпсона = \",ISimpson)\n",
    "print(\"Интеграл по ф-ле Симпсона с шагом h/2 = \",ISimpson2)\n",
    "print(\"Величина погрешности: \",abs(ISimpson-I))\n"
   ]
  },
  {
   "cell_type": "code",
   "execution_count": 6,
   "id": "6591c058",
   "metadata": {},
   "outputs": [
    {
     "name": "stdout",
     "output_type": "stream",
     "text": [
      "I уточн. =  -0.33043756610300673\n",
      "R уточн =  2.7755575615628914e-16\n"
     ]
    }
   ],
   "source": [
    "Iy=ISimpson2+(ISimpson2-ISimpson)/(2**4-1)\n",
    "Ry=abs(I-Iy)\n",
    "\n",
    "print(\"I уточн. = \", Iy)\n",
    "print(\"R уточн = \", Ry)"
   ]
  },
  {
   "cell_type": "markdown",
   "id": "df3e19d2",
   "metadata": {},
   "source": [
    "|I = -0.330437566103007|Ф-ла Симпсона|\n",
    "|:--------------------|:-----------:|\n",
    "|Число разбиений отрезка|4096|\n",
    "|Значение интеграла|-0.3304375661032615|\n",
    "|Величина погрешности|2.5451862839531714e-13|\n",
    "|Уточненное значение интеграла|-0.33043756610300673|\n",
    "|Величина погрешности уточненного значения интеграла|2.7755575615628914e-16|"
   ]
  },
  {
   "cell_type": "code",
   "execution_count": null,
   "id": "5eb1683e",
   "metadata": {},
   "outputs": [],
   "source": []
  },
  {
   "cell_type": "code",
   "execution_count": null,
   "id": "d654cb0b",
   "metadata": {},
   "outputs": [],
   "source": []
  }
 ],
 "metadata": {
  "kernelspec": {
   "display_name": "Python 3 (ipykernel)",
   "language": "python",
   "name": "python3"
  },
  "language_info": {
   "codemirror_mode": {
    "name": "ipython",
    "version": 3
   },
   "file_extension": ".py",
   "mimetype": "text/x-python",
   "name": "python",
   "nbconvert_exporter": "python",
   "pygments_lexer": "ipython3",
   "version": "3.9.7"
  }
 },
 "nbformat": 4,
 "nbformat_minor": 5
}
