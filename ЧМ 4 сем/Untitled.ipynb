{
 "cells": [
  {
   "cell_type": "code",
   "execution_count": 51,
   "id": "dc9d84d2",
   "metadata": {},
   "outputs": [
    {
     "name": "stdout",
     "output_type": "stream",
     "text": [
      "0.4586937976471886\n"
     ]
    }
   ],
   "source": [
    "import math\n",
    "a0=(-3.2-2.8-4.7-6.6-7.6)/5\n",
    "#print(\"a0 = \",a0)\n",
    "\n",
    "x = [-5.8, -2.9, 0, 2.9, 5.8]\n",
    "y = [-3.2, -2.8, -4.7, -6.6, -7.6]\n",
    "s0 = 0\n",
    "s1 = 0\n",
    "s2 = 0\n",
    "s3 = 0\n",
    "s4 = 0\n",
    "b0 = 0\n",
    "b1 = 0\n",
    "b2 = 0\n",
    "for i in range (5):\n",
    "    s0 += x[i]**0\n",
    "    s1 += x[i]\n",
    "    s2 += x[i]**2\n",
    "    s3 += x[i]**3\n",
    "    s4 += x[i]**4\n",
    "    b0 += y[i]\n",
    "    b1 += x[i]*y[i]\n",
    "    b2 += y[i]*(x[i]**2)\n",
    "s1=0\n",
    "#print(\"s0 = \", s0, '\\n',\"s1 = \", s1,'\\n',\"s2 = \", s2,'\\n',\"s3 = \", s3,'\\n',\"s4 = \", s4)\n",
    "#b0=a0*s0\n",
    "#print(b0)\n",
    "a1 = b1/s2\n",
    "#print(a1, '\\n')\n",
    "\n",
    "def P1(x):\n",
    "    return a0 + a1*x\n",
    "\n",
    "res = 0\n",
    "o = 0\n",
    "for i in range (5):\n",
    "    res = P1(x[i])\n",
    "    #print (res)\n",
    "    o += (res-y[i])**2\n",
    "o /= 5    \n",
    "#print(math.sqrt(o))\n",
    "\n",
    "a0 = (b2-(s4/s2)*b0)/(s2-(s0*s4)/s2)\n",
    "a2 = (b0-s0*a0)/s2\n",
    "#print (\"a0 = \", a0, '\\n', \"a1 = \", a1, '\\n',\"a2 = \", a2, '\\n')\n",
    "\n",
    "def P2(x):\n",
    "    return a0 + a1*x + a2*x**2\n",
    "\n",
    "o = 0\n",
    "for i in range (5):\n",
    "    res = P2(x[i])\n",
    "    #print(res)\n",
    "    o += (res-y[i])**2\n",
    "    \n",
    "o /= 5\n",
    "print (math.sqrt(o))"
   ]
  },
  {
   "cell_type": "code",
   "execution_count": 1,
   "id": "2e24a866",
   "metadata": {},
   "outputs": [
    {
     "name": "stdout",
     "output_type": "stream",
     "text": [
      "[4, 49]\n"
     ]
    }
   ],
   "source": [
    "my_list = [0,1,4,9,13,25,34,49,55]\n",
    "print(my_list[2::5])"
   ]
  },
  {
   "cell_type": "code",
   "execution_count": 10,
   "id": "523882cd",
   "metadata": {},
   "outputs": [
    {
     "name": "stdout",
     "output_type": "stream",
     "text": [
      "1.0892160000000002\n"
     ]
    }
   ],
   "source": [
    "x = [3, 4, 5, 6]\n",
    "y = [2, 1, 0, -5]\n",
    "\n",
    "n = 4\n",
    "m = 1\n",
    "def L(z):\n",
    "    summ = 0\n",
    "    for i in range (n):\n",
    "        m = 1\n",
    "        for k in range (n):\n",
    "            if (k!=i):\n",
    "                m *= ((z-x[k])/(x[i]-x[k]))\n",
    "        summ += y[i]*m\n",
    "    return summ\n",
    "\n",
    "#print(L(3.76))\n",
    "\n",
    "def N(z):\n",
    "    return 2 + (-1)*(z-3) + (-4)*(z-3)*(z-4)*(z-5)/6\n",
    "\n",
    "print(N(3.76))"
   ]
  },
  {
   "cell_type": "code",
   "execution_count": 49,
   "id": "a8321f90",
   "metadata": {},
   "outputs": [
    {
     "name": "stdout",
     "output_type": "stream",
     "text": [
      "f1:  [2.8749999999999996, 2.4999999999999996, 2.0, 3.041666666666667]\n",
      "f2:  [0.9375, 0.3124999999999997, 0.5208333333333335]\n",
      "f3:  [0.7812500000000002, 0.26041666666666724] \n",
      "\n",
      "\n",
      "0.7812500000000002\n",
      "P1 =  -0.13865624999999993 \n",
      " P2 =  -0.07972734375000012 \n",
      " P3 =  3.11536640625\n"
     ]
    }
   ],
   "source": [
    "x = [0.8, 1.6, 0.4, 0, 2.4]\n",
    "y = [2.5, 4.8, 1.8, 1, 8.3]\n",
    "\n",
    "n = 4\n",
    "f1 = []\n",
    "for i in range (n):\n",
    "    f1.append((y[i+1]-y[i])/(x[i+1]-x[i]))\n",
    "\n",
    "print(\"f1: \", f1)\n",
    "\n",
    "n-=1\n",
    "f2 = []\n",
    "\n",
    "\n",
    "for i in range (n):\n",
    "    f2.append((f1[i+1]-f1[i])/(x[i+2]-x[i]))\n",
    "\n",
    "    \n",
    "    \n",
    "c0 = f1[0]\n",
    "c1 = f1[1]\n",
    "c2 = f1[2]\n",
    "c3 = f1[3]\n",
    "\n",
    "print(\"f2: \", f2)\n",
    "\n",
    "n-=1\n",
    "f3 = []\n",
    "for i in range (n):\n",
    "    f3.append((f2[i+1]-f2[i])/(x[i+3]-x[i]))\n",
    "\n",
    "s0 = f2[0]\n",
    "s1 = f2[1]\n",
    "s2 = f2[2]\n",
    "\n",
    "print(\"f3: \", f3, \"\\n\\n\")\n",
    "\n",
    "\n",
    "\n",
    "print(f3[0])\n",
    "\n",
    "v = 1.09\n",
    "P1 = 2.5+f1[0]*(v-x[0])\n",
    "\n",
    "P2 = P1 + f2[0]*(v-1.6)*(v-0.8)\n",
    "\n",
    "P3 = P2 + f3[0]*(v-0.4)*(v-1.6)*(v-0.8)\n",
    "\n",
    "\n",
    "print(\"P1 = \", P2 - P1 ,\"\\n\", \"P2 = \", P3 - P2, \"\\n\", \"P3 = \", P3)"
   ]
  },
  {
   "cell_type": "code",
   "execution_count": 3,
   "id": "f9c5be5d",
   "metadata": {},
   "outputs": [
    {
     "name": "stdout",
     "output_type": "stream",
     "text": [
      "s0 =  6 \n",
      " s1 =  0.2959341153622493 \n",
      " s2 =  0.020788056185369955 \n",
      " b0 =  9.553 \n",
      " b1 =  0.4953593983701781 \n",
      "\n",
      "\n",
      "a0 =  1.3995339152333874 \n",
      " a1 =  3.9055872527061655 \n",
      "\n",
      "\n",
      " f =  [1.8639319238785914, 1.6012687939888712, 1.5439713136322841, 1.524074325077334, 1.5117311933921396, 1.5080224500307808]\n",
      "Погрешность:  0.00016124137593698533\n"
     ]
    }
   ],
   "source": [
    "x = [2.7, 4.2, 5, 5.4, 5.7, 5.8]\n",
    "y = [1.864, 1.601, 1.544, 1.524, 1.512, 1.508]\n",
    "\n",
    "def f0(z):\n",
    "    return 1\n",
    "def f1(z):\n",
    "    return 1/(z+0.2)**2\n",
    "\n",
    "s0 = 0\n",
    "s1 = 0\n",
    "s2 = 0\n",
    "b0 = 0\n",
    "b1 = 0\n",
    "\n",
    "for i in range (6):\n",
    "    s0 += (f0(x[i]))**2\n",
    "    s1 += f0(x[i])*f1(x[i])\n",
    "    s2 += (f1(x[i]))**2\n",
    "    b0 += y[i]*f0(x[i])\n",
    "    b1 += y[i]*f1(x[i])\n",
    "\n",
    "print (\"s0 = \", s0, \"\\n\", \"s1 = \", s1, \"\\n\", \"s2 = \", s2, \"\\n\",\"b0 = \", b0, \"\\n\", \"b1 = \", b1, \"\\n\\n\")\n",
    "\n",
    "a0 = (b1 - (s2/s1)*b0)/(s1 - s2*s0/s1)\n",
    "a1 = (b0-s0*a0)/s1\n",
    "print (\"a0 = \", a0, \"\\n\", \"a1 = \", a1, \"\\n\\n\")\n",
    "\n",
    "def F(z):\n",
    "    return a0 + a1/(z+0.2)**2\n",
    "f = []\n",
    "for i in range (6):\n",
    "    f.append(F(x[i]))\n",
    "\n",
    "print(\" f = \", f)\n",
    "\n",
    "o = 0\n",
    "\n",
    "for i in range (6):\n",
    "    o += (f[i] - y[i])**2\n",
    "\n",
    "o /= 6\n",
    "\n",
    "import math\n",
    "print (\"Погрешность: \", math.sqrt(o))"
   ]
  },
  {
   "cell_type": "code",
   "execution_count": null,
   "id": "5cfe1319",
   "metadata": {},
   "outputs": [],
   "source": [
    "x = [0, 1, 2, 3, 4]\n",
    "y = [-1, -8, -25, -44]\n",
    "\n",
    "def P (z):\n",
    "    "
   ]
  }
 ],
 "metadata": {
  "kernelspec": {
   "display_name": "Python 3 (ipykernel)",
   "language": "python",
   "name": "python3"
  },
  "language_info": {
   "codemirror_mode": {
    "name": "ipython",
    "version": 3
   },
   "file_extension": ".py",
   "mimetype": "text/x-python",
   "name": "python",
   "nbconvert_exporter": "python",
   "pygments_lexer": "ipython3",
   "version": "3.9.7"
  }
 },
 "nbformat": 4,
 "nbformat_minor": 5
}
