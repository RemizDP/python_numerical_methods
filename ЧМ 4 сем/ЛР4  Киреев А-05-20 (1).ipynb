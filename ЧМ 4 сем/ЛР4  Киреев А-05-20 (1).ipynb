{
 "cells": [
  {
   "cell_type": "markdown",
   "id": "234fd188",
   "metadata": {},
   "source": [
    "Лабораторная работа $№4$\n",
    "--\n",
    "Киреев Дмитрий $А$-$05$-$20$\n",
    "--\n",
    "**Вариант $13$**"
   ]
  },
  {
   "cell_type": "code",
   "execution_count": 1,
   "id": "819a966c",
   "metadata": {},
   "outputs": [],
   "source": [
    "import numpy as np\n",
    "import matplotlib.pyplot as plt\n",
    "import pandas as pd"
   ]
  },
  {
   "cell_type": "markdown",
   "id": "4475e691",
   "metadata": {},
   "source": [
    "**Задача 4.1**\n",
    "\n",
    "Приведены данные о численности населения некоторых крупнейших стран мира по годам с $1950$ -$2000$ г.г. Заполнить последние два столбца таблицы (взять сведения из интернета).  На основе этих данных для конкретного варианта построить наилучший многочлен  по МНК.  Найти численность  населения страны  в $2019$ году  и сравнить полученное значение  с актуальным значением  (взять из интернета).\n",
    "Решить ту же  задачу на основе интерполяционного многочлена.  То есть построить интерполяционный многочлен по значениям с $1950$-$2020$ г.г. Вычислить значение  для $2019$ года и сравнить с актуальными данными.  Составить отчет по задаче."
   ]
  },
  {
   "cell_type": "markdown",
   "id": "dce3d083",
   "metadata": {},
   "source": [
    "Создаем массивы данных населения Италии в соответствующие года"
   ]
  },
  {
   "cell_type": "code",
   "execution_count": 2,
   "id": "f3fb0f61",
   "metadata": {},
   "outputs": [],
   "source": [
    "Italia = [46.5, 50, 53, 56.5, 56.5, 58, 59.3, 59.6]\n",
    "Years = [1950, 1960, 1970, 1980, 1990, 2000, 2010, 2020]"
   ]
  },
  {
   "cell_type": "markdown",
   "id": "104b840f",
   "metadata": {},
   "source": [
    "Для решения задачи методом наименьших квадратов реализуем функции расчета сумм $Si$ и $Bi$. Так же реализуем функцию решения СЛАУ полученной из вычисленных коэффициентов."
   ]
  },
  {
   "cell_type": "code",
   "execution_count": 3,
   "id": "92563a5b",
   "metadata": {},
   "outputs": [],
   "source": [
    "def SBorn(years):\n",
    "    n = 8\n",
    "    s = [0]*(n*2 - 1)\n",
    "    for i in range(n*2 - 1):\n",
    "        for j in range(n):\n",
    "            s[i] = s[i] + years[j]**i\n",
    "    return s"
   ]
  },
  {
   "cell_type": "code",
   "execution_count": 4,
   "id": "1e0f511c",
   "metadata": {},
   "outputs": [],
   "source": [
    "def BBorn(years, people):\n",
    "    n = 8\n",
    "    b = [0] * n\n",
    "    for i in range(n):\n",
    "        for j in range(n):\n",
    "            b[i] = b[i] + people[j]*(years[j])**i\n",
    "    return b"
   ]
  },
  {
   "cell_type": "code",
   "execution_count": 5,
   "id": "692167f5",
   "metadata": {},
   "outputs": [],
   "source": [
    "def MNK(s, b, n):\n",
    "    a = [0] * n\n",
    "    y = [0] * n\n",
    "    A = [ [0]*n for i in range(n) ]\n",
    "    for i in range(n):\n",
    "        for j in range(n):\n",
    "            A[i][j] = s[i + j]\n",
    "    for k in range(n - 1):\n",
    "        for i in range(k + 1, n):\n",
    "            mu = A[i][k]/A[k][k]\n",
    "            for j in range(k, n):\n",
    "                A[i][j] = A[i][j] - mu*A[k][j]\n",
    "            A[i][k] = mu\n",
    "    for i in range(n):\n",
    "        y[i] = b[i]\n",
    "        for j in range(i):\n",
    "            y[i] = y[i] - y[j] * A[i][j]\n",
    "    for i in range(n - 1, -1 , -1):\n",
    "        a[i] = y[i]/A[i][i]\n",
    "        for j in range(n - 1, i, -1):\n",
    "            a[i] = a[i] - (a[j] * A[i][j] / A[i][i])\n",
    "    return a"
   ]
  },
  {
   "cell_type": "markdown",
   "id": "7e020ffb",
   "metadata": {},
   "source": [
    "Вычисляем коэффициенты многочлена"
   ]
  },
  {
   "cell_type": "code",
   "execution_count": 6,
   "id": "6b54ba3f",
   "metadata": {},
   "outputs": [
    {
     "data": {
      "text/plain": [
       "[687302.6426309205,\n",
       " -250.38778734322113,\n",
       " -0.6438052704377022,\n",
       " 0.0002840026825346102,\n",
       " 1.3536743075237473e-07,\n",
       " -4.078993189109483e-11,\n",
       " -2.977006109921746e-14,\n",
       " 9.073543603420017e-18]"
      ]
     },
     "execution_count": 6,
     "metadata": {},
     "output_type": "execute_result"
    }
   ],
   "source": [
    "s = SBorn(Years)\n",
    "b = BBorn(Years, Italia)\n",
    "a = MNK(s, b, 8)\n",
    "a"
   ]
  },
  {
   "cell_type": "markdown",
   "id": "451c7cc0",
   "metadata": {},
   "source": [
    "Реализуем функцию расчета числа населения в заданном году для данных коэффициентов"
   ]
  },
  {
   "cell_type": "code",
   "execution_count": 7,
   "id": "161cb3e0",
   "metadata": {},
   "outputs": [],
   "source": [
    "def FindPeople(a, year, n):\n",
    "    people = 0\n",
    "    for i in range(n):\n",
    "        people = people + a[i] * year**i\n",
    "    return people"
   ]
  },
  {
   "cell_type": "markdown",
   "id": "789129a9",
   "metadata": {},
   "source": [
    "Население Италии в 2019 году составило 59,73 млн. Видно, что функция нашла ответ довольно точно"
   ]
  },
  {
   "cell_type": "code",
   "execution_count": 8,
   "id": "3b9ceaed",
   "metadata": {},
   "outputs": [
    {
     "data": {
      "text/plain": [
       "59.620383482426405"
      ]
     },
     "execution_count": 8,
     "metadata": {},
     "output_type": "execute_result"
    }
   ],
   "source": [
    "FindPeople(a, 2019, 8)"
   ]
  },
  {
   "cell_type": "markdown",
   "id": "06ba1968",
   "metadata": {},
   "source": [
    "Надем наилучий многочлен МНК с помощью погрешность. Выберем тот многочлен, который выдает наименьшую погрешность"
   ]
  },
  {
   "cell_type": "code",
   "execution_count": 9,
   "id": "2a0d7fcb",
   "metadata": {},
   "outputs": [],
   "source": [
    "def Pogr(people, years):\n",
    "    n = 8\n",
    "    q = [0] * n\n",
    "    for i in range(n):\n",
    "        a = MNK(s, b, i)\n",
    "        for j in range(n):\n",
    "            q[i] = q[i] + (people[j] - FindPeople(a, years[j], i))**2\n",
    "        q[i] = np.sqrt(q[i]/n)\n",
    "    MinPogr = q[0]\n",
    "    IndexOfMin = 0\n",
    "    print(q)\n",
    "    for i in range(n):\n",
    "        if MinPogr > q[i]:\n",
    "            MinPogr = q[i]\n",
    "            IndexOfMin = i\n",
    "    return IndexOfMin"
   ]
  },
  {
   "cell_type": "code",
   "execution_count": 10,
   "id": "8ac53f03",
   "metadata": {},
   "outputs": [
    {
     "name": "stdout",
     "output_type": "stream",
     "text": [
      "[55.10036297521097, 4.392536283287822, 1.353291841963074, 0.5069458034345521, 0.45577701125189946, 0.45451183336588724, 0.5132099700199716, 0.4586482499928907]\n"
     ]
    },
    {
     "data": {
      "text/plain": [
       "5"
      ]
     },
     "execution_count": 10,
     "metadata": {},
     "output_type": "execute_result"
    }
   ],
   "source": [
    "Pogr(Italia, Years)"
   ]
  },
  {
   "cell_type": "markdown",
   "id": "7176a686",
   "metadata": {},
   "source": [
    "Многочлен пятой степени - наилучший"
   ]
  },
  {
   "cell_type": "code",
   "execution_count": 11,
   "id": "829822bf",
   "metadata": {},
   "outputs": [
    {
     "name": "stdout",
     "output_type": "stream",
     "text": [
      "46.36015255493112 -- 46.5\n",
      "50.27419534814544 -- 50\n",
      "53.27888519188855 -- 53\n",
      "55.505620431154966 -- 56.5\n",
      "57.09743266692385 -- 56.5\n"
     ]
    }
   ],
   "source": [
    "n = 5\n",
    "a = MNK(s, b, n)\n",
    "for i in range(n):\n",
    "    print(FindPeople(a, Years[i], n), \"--\" , Italia[i])"
   ]
  },
  {
   "cell_type": "code",
   "execution_count": 12,
   "id": "4036465e",
   "metadata": {},
   "outputs": [
    {
     "data": {
      "text/plain": [
       "59.60279955866281"
      ]
     },
     "execution_count": 12,
     "metadata": {},
     "output_type": "execute_result"
    }
   ],
   "source": [
    "FindPeople(a, 2019, 5)"
   ]
  },
  {
   "cell_type": "markdown",
   "id": "944185b2",
   "metadata": {},
   "source": [
    "Реализуем функцию интерполяции"
   ]
  },
  {
   "cell_type": "code",
   "execution_count": 13,
   "id": "df19778e",
   "metadata": {},
   "outputs": [],
   "source": [
    "def Inter(people, years, n):\n",
    "    a = [0] * n\n",
    "    y = [0] * n\n",
    "    A = [ [0]*n for i in range(n) ]\n",
    "    for i in range(n):\n",
    "        for j in range(n):\n",
    "            A[i][j] = (years[i])**j\n",
    "    for k in range(n - 1):\n",
    "        for i in range(k + 1, n):\n",
    "            mu = A[i][k]/A[k][k]\n",
    "            for j in range(k, n):\n",
    "                A[i][j] = A[i][j] - mu*A[k][j]\n",
    "            A[i][k] = mu\n",
    "    for i in range(n):\n",
    "        y[i] = people[i]\n",
    "        for j in range(i):\n",
    "            y[i] = y[i] - y[j] * A[i][j]\n",
    "    for i in range(n - 1, -1 , -1):\n",
    "        a[i] = y[i]/A[i][i]\n",
    "        for j in range(n - 1, i, -1):\n",
    "            a[i] = a[i] - (a[j] * A[i][j] / A[i][i])\n",
    "    return a"
   ]
  },
  {
   "cell_type": "code",
   "execution_count": 14,
   "id": "a77e6d62",
   "metadata": {},
   "outputs": [
    {
     "data": {
      "text/plain": [
       "[-122423372861815.5,\n",
       " 431663613873.93896,\n",
       " -652286747.1621909,\n",
       " 547580.4836872991,\n",
       " -275.80200523962867,\n",
       " 0.08334641671524894,\n",
       " -1.3992417335596937e-05,\n",
       " 1.0067243960051858e-09]"
      ]
     },
     "execution_count": 14,
     "metadata": {},
     "output_type": "execute_result"
    }
   ],
   "source": [
    "a = Inter(Italia, Years, 8)\n",
    "a"
   ]
  },
  {
   "cell_type": "markdown",
   "id": "bb0549e0",
   "metadata": {},
   "source": [
    "Находим ответ с помощью функции интерполяции"
   ]
  },
  {
   "cell_type": "code",
   "execution_count": 15,
   "id": "cac9a804",
   "metadata": {},
   "outputs": [
    {
     "data": {
      "text/plain": [
       "59.203125"
      ]
     },
     "execution_count": 15,
     "metadata": {},
     "output_type": "execute_result"
    }
   ],
   "source": [
    "FindPeople(a, 2019, 8)"
   ]
  },
  {
   "cell_type": "markdown",
   "id": "945876e1",
   "metadata": {},
   "source": [
    "**ВЫВОД: Многочлены МНК и интерполяции позволяют довольно точно находить зависимость между двумя переменными основываясь на небольшом объеме данных.**"
   ]
  },
  {
   "cell_type": "markdown",
   "id": "19d8c484",
   "metadata": {},
   "source": [
    "**Задача 4.2**\n",
    "\n",
    "Дана функция $y = f(x)$ . Приблизить функцию  методом интерполяции, используя многочлен Лагранжа. Степень многочлена $N$ подобрать таким образом, чтобы максимальная величина погрешности на отрезке $[a, b]$ не превышала заданной величины $e$. Построить графики многочленов и графики погрешностей .Приблизить функцию  методом интерполяции, указанным в  индивидуальном варианте. Сравнить полученные результаты. \n"
   ]
  },
  {
   "cell_type": "markdown",
   "id": "8b62fd06",
   "metadata": {},
   "source": [
    "$y = x^3cos(2x)$"
   ]
  },
  {
   "cell_type": "markdown",
   "id": "ad35538e",
   "metadata": {},
   "source": [
    "Вносим данные: $[a, b] = [3, 6]$, $e = 0.01$. Так же реализуем функцию расчета значений функции в тачках данного разбиения."
   ]
  },
  {
   "cell_type": "code",
   "execution_count": 16,
   "id": "1a90c02c",
   "metadata": {},
   "outputs": [],
   "source": [
    "n = 10\n",
    "m = n + 1\n",
    "eps = 0.01\n",
    "a = 3\n",
    "b = 6\n",
    "ba = b - a\n",
    "def XY(n):\n",
    "    otr = ba / n\n",
    "    X = [0] * m\n",
    "    for i in range(m):\n",
    "        X[i] = 3 + i*otr\n",
    "    Y = [0]*m\n",
    "    for i in range(m):\n",
    "        Y[i] = F(X[i])\n",
    "    return X, Y\n",
    "def F(x):\n",
    "    return x**3 * np.cos(2*x)\n",
    "X, Y = XY(n)"
   ]
  },
  {
   "cell_type": "markdown",
   "id": "d02b8110",
   "metadata": {},
   "source": [
    "Результаты заносим в таблицу"
   ]
  },
  {
   "cell_type": "code",
   "execution_count": 17,
   "id": "9b7a4e6f",
   "metadata": {},
   "outputs": [
    {
     "data": {
      "text/html": [
       "<div>\n",
       "<style scoped>\n",
       "    .dataframe tbody tr th:only-of-type {\n",
       "        vertical-align: middle;\n",
       "    }\n",
       "\n",
       "    .dataframe tbody tr th {\n",
       "        vertical-align: top;\n",
       "    }\n",
       "\n",
       "    .dataframe thead th {\n",
       "        text-align: right;\n",
       "    }\n",
       "</style>\n",
       "<table border=\"1\" class=\"dataframe\">\n",
       "  <thead>\n",
       "    <tr style=\"text-align: right;\">\n",
       "      <th></th>\n",
       "      <th>x</th>\n",
       "      <th>y</th>\n",
       "    </tr>\n",
       "  </thead>\n",
       "  <tbody>\n",
       "    <tr>\n",
       "      <th>0</th>\n",
       "      <td>3.0</td>\n",
       "      <td>25.924598</td>\n",
       "    </tr>\n",
       "    <tr>\n",
       "      <th>1</th>\n",
       "      <td>3.3</td>\n",
       "      <td>34.148509</td>\n",
       "    </tr>\n",
       "    <tr>\n",
       "      <th>2</th>\n",
       "      <td>3.6</td>\n",
       "      <td>28.383239</td>\n",
       "    </tr>\n",
       "    <tr>\n",
       "      <th>3</th>\n",
       "      <td>3.9</td>\n",
       "      <td>3.200582</td>\n",
       "    </tr>\n",
       "    <tr>\n",
       "      <th>4</th>\n",
       "      <td>4.2</td>\n",
       "      <td>-38.473058</td>\n",
       "    </tr>\n",
       "    <tr>\n",
       "      <th>5</th>\n",
       "      <td>4.5</td>\n",
       "      <td>-83.026745</td>\n",
       "    </tr>\n",
       "    <tr>\n",
       "      <th>6</th>\n",
       "      <td>4.8</td>\n",
       "      <td>-108.898599</td>\n",
       "    </tr>\n",
       "    <tr>\n",
       "      <th>7</th>\n",
       "      <td>5.1</td>\n",
       "      <td>-94.748053</td>\n",
       "    </tr>\n",
       "    <tr>\n",
       "      <th>8</th>\n",
       "      <td>5.4</td>\n",
       "      <td>-30.599964</td>\n",
       "    </tr>\n",
       "    <tr>\n",
       "      <th>9</th>\n",
       "      <td>5.7</td>\n",
       "      <td>72.871754</td>\n",
       "    </tr>\n",
       "    <tr>\n",
       "      <th>10</th>\n",
       "      <td>6.0</td>\n",
       "      <td>182.272455</td>\n",
       "    </tr>\n",
       "  </tbody>\n",
       "</table>\n",
       "</div>"
      ],
      "text/plain": [
       "      x           y\n",
       "0   3.0   25.924598\n",
       "1   3.3   34.148509\n",
       "2   3.6   28.383239\n",
       "3   3.9    3.200582\n",
       "4   4.2  -38.473058\n",
       "5   4.5  -83.026745\n",
       "6   4.8 -108.898599\n",
       "7   5.1  -94.748053\n",
       "8   5.4  -30.599964\n",
       "9   5.7   72.871754\n",
       "10  6.0  182.272455"
      ]
     },
     "execution_count": 17,
     "metadata": {},
     "output_type": "execute_result"
    }
   ],
   "source": [
    "T1 = pd.DataFrame({'x' : X, 'y' : Y})\n",
    "T1"
   ]
  },
  {
   "cell_type": "markdown",
   "id": "bf5ae925",
   "metadata": {},
   "source": [
    "Разбираемся с многочленом Лагранжа. Реализуем расчетную функцию."
   ]
  },
  {
   "cell_type": "code",
   "execution_count": 18,
   "id": "a575cbad",
   "metadata": {},
   "outputs": [],
   "source": [
    "def LBorn(X, Y, m, t):\n",
    "    AL = Y\n",
    "    for i in range(m):\n",
    "        for j in range(m):\n",
    "            if j != i:\n",
    "                AL[i] = AL[i] * (t - X[j]) / (X[i] - X[j])\n",
    "    return sum(AL)"
   ]
  },
  {
   "cell_type": "markdown",
   "id": "3b2424e3",
   "metadata": {},
   "source": [
    "Разбираемся с Крвадратичным сплайном с дополнительным условием $y'(a) = f'(a)$. Реализуем расчетную функцию, возвращающую матрицу коэффициентов, функцию расчета значения многочлена в данной точке, и функцию расчета погрешности"
   ]
  },
  {
   "cell_type": "code",
   "execution_count": 19,
   "id": "415944ec",
   "metadata": {},
   "outputs": [],
   "source": [
    "def Spline(x,y):\n",
    "    splines = []\n",
    "    matrix = np.zeros((3,3))\n",
    "    solve = np.zeros(3)\n",
    "    for i in range(len(x) - 1):\n",
    "        for j in range(3):\n",
    "            matrix[0][j] = x[i]**(2-j)\n",
    "            matrix[1][j] = x[i+1]**(2-j)\n",
    "        matrix[2][0] = 2 * x[i]\n",
    "        matrix[2][1] = 1\n",
    "        solve[0] = y[i]\n",
    "        solve[1] = y[i+1]\n",
    "        if i == 0:\n",
    "            solve[2] = np.sin(3 * x[0]) + 3 * x[0] * np.cos(3 * x[0])\n",
    "        else:\n",
    "            solve[2] = 2 * splines[i-1][0] * x[i] + splines[i-1][1]\n",
    "        splines.append(np.linalg.solve(matrix, solve))\n",
    "    return splines\n",
    "\n",
    "def solution(t, spl, xn):\n",
    "    ans = 0\n",
    "    for i in range(len(xn) - 1):\n",
    "        if (t >= xn[i] and t<= xn[i+1]):\n",
    "            ans = spl[i][0] * t**2 + spl[i][1] * t + spl[i][2]\n",
    "            break\n",
    "    return ans\n",
    "        \n",
    "def check2(n):\n",
    "    x2 = np.linspace(2.5, 4.5, n+1)\n",
    "    y2 = [F(i) for i in x2]\n",
    "    spl = Spline(x2,y2)\n",
    "    x3 = np.linspace(2.5, 4.5, 50)\n",
    "    EpsList = [abs(F(i) - solution(i, spl, x2)) for i in x3]\n",
    "    return max(EpsList)"
   ]
  },
  {
   "cell_type": "markdown",
   "id": "58436047",
   "metadata": {},
   "source": [
    "Чисто символически проверяем значение многочлена в крайней точке. Как мы видим, расчет верный!"
   ]
  },
  {
   "cell_type": "code",
   "execution_count": 20,
   "id": "44870786",
   "metadata": {},
   "outputs": [
    {
     "data": {
      "text/plain": [
       "182.27245508621672"
      ]
     },
     "execution_count": 20,
     "metadata": {},
     "output_type": "execute_result"
    }
   ],
   "source": [
    "spl = Spline(X, Y)\n",
    "res = solution(b, spl, X)\n",
    "res"
   ]
  },
  {
   "cell_type": "markdown",
   "id": "98eca177",
   "metadata": {},
   "source": [
    "Для поиска оптимального $n$, при котором достигается точность, составим график погрешности. Как видим, про $n = 10$, погрешность не превышает значения $e = 0.01$"
   ]
  },
  {
   "cell_type": "code",
   "execution_count": 21,
   "id": "e107b1ed",
   "metadata": {},
   "outputs": [
    {
     "data": {
      "text/plain": [
       "<matplotlib.legend.Legend at 0x183de4a0970>"
      ]
     },
     "execution_count": 21,
     "metadata": {},
     "output_type": "execute_result"
    },
    {
     "data": {
      "image/png": "[encoded data removed]",
      "text/plain": [
       "<Figure size 1080x360 with 1 Axes>"
      ]
     },
     "metadata": {
      "needs_background": "light"
     },
     "output_type": "display_data"
    }
   ],
   "source": [
    "fig, axs = plt.subplots(figsize=(15, 5))\n",
    "x_dataL = np.linspace(a, b, 1000)\n",
    "axs.plot(x_dataL, abs(LBorn(X, Y, m, x_dataL) - F(x_dataL)), label='L(x)')\n",
    "axs.axhline(0, color = \"black\")\n",
    "axs.legend()"
   ]
  },
  {
   "cell_type": "markdown",
   "id": "2e4dd497",
   "metadata": {},
   "source": [
    "Составим графики нашей функции и двух многочленов. Как мы видим, графики почти идеально совпадают."
   ]
  },
  {
   "cell_type": "code",
   "execution_count": 22,
   "id": "6ed6f05e",
   "metadata": {},
   "outputs": [
    {
     "ename": "ValueError",
     "evalue": "operands could not be broadcast together with shapes (1000,) (100,) ",
     "output_type": "error",
     "traceback": [
      "\u001b[1;31m---------------------------------------------------------------------------\u001b[0m",
      "\u001b[1;31mValueError\u001b[0m                                Traceback (most recent call last)",
      "\u001b[1;32mC:\\Users\\DD69~1\\AppData\\Local\\Temp/ipykernel_23592/1156525846.py\u001b[0m in \u001b[0;36m<module>\u001b[1;34m\u001b[0m\n\u001b[0;32m     10\u001b[0m \u001b[0mx_dataS\u001b[0m \u001b[1;33m=\u001b[0m \u001b[0mnp\u001b[0m\u001b[1;33m.\u001b[0m\u001b[0mlinspace\u001b[0m\u001b[1;33m(\u001b[0m\u001b[0ma\u001b[0m\u001b[1;33m,\u001b[0m \u001b[0mb\u001b[0m\u001b[1;33m,\u001b[0m \u001b[0mdots\u001b[0m\u001b[1;33m)\u001b[0m\u001b[1;33m\u001b[0m\u001b[1;33m\u001b[0m\u001b[0m\n\u001b[0;32m     11\u001b[0m \u001b[0maxs\u001b[0m\u001b[1;33m.\u001b[0m\u001b[0mplot\u001b[0m\u001b[1;33m(\u001b[0m\u001b[0mx_dataS\u001b[0m\u001b[1;33m,\u001b[0m \u001b[0mSF\u001b[0m\u001b[1;33m,\u001b[0m \u001b[0mlabel\u001b[0m\u001b[1;33m=\u001b[0m\u001b[1;34m'S(x)'\u001b[0m\u001b[1;33m)\u001b[0m\u001b[1;33m\u001b[0m\u001b[1;33m\u001b[0m\u001b[0m\n\u001b[1;32m---> 12\u001b[1;33m \u001b[0maxs\u001b[0m\u001b[1;33m.\u001b[0m\u001b[0mplot\u001b[0m\u001b[1;33m(\u001b[0m\u001b[0mx_data\u001b[0m\u001b[1;33m,\u001b[0m \u001b[0mLBorn\u001b[0m\u001b[1;33m(\u001b[0m\u001b[0mX\u001b[0m\u001b[1;33m,\u001b[0m \u001b[0mY\u001b[0m\u001b[1;33m,\u001b[0m \u001b[0mm\u001b[0m\u001b[1;33m,\u001b[0m \u001b[0mx_data\u001b[0m\u001b[1;33m)\u001b[0m\u001b[1;33m,\u001b[0m \u001b[0mlabel\u001b[0m\u001b[1;33m=\u001b[0m\u001b[1;34m'L(x)'\u001b[0m\u001b[1;33m)\u001b[0m\u001b[1;33m\u001b[0m\u001b[1;33m\u001b[0m\u001b[0m\n\u001b[0m\u001b[0;32m     13\u001b[0m \u001b[0maxs\u001b[0m\u001b[1;33m.\u001b[0m\u001b[0mplot\u001b[0m\u001b[1;33m(\u001b[0m\u001b[0mx_data\u001b[0m\u001b[1;33m,\u001b[0m \u001b[0mF\u001b[0m\u001b[1;33m(\u001b[0m\u001b[0mx_data\u001b[0m\u001b[1;33m)\u001b[0m\u001b[1;33m,\u001b[0m \u001b[0mlabel\u001b[0m\u001b[1;33m=\u001b[0m\u001b[1;34m'F(x)'\u001b[0m\u001b[1;33m)\u001b[0m\u001b[1;33m\u001b[0m\u001b[1;33m\u001b[0m\u001b[0m\n\u001b[0;32m     14\u001b[0m \u001b[0maxs\u001b[0m\u001b[1;33m.\u001b[0m\u001b[0maxhline\u001b[0m\u001b[1;33m(\u001b[0m\u001b[1;36m0\u001b[0m\u001b[1;33m,\u001b[0m \u001b[0mcolor\u001b[0m \u001b[1;33m=\u001b[0m \u001b[1;34m\"black\"\u001b[0m\u001b[1;33m)\u001b[0m\u001b[1;33m\u001b[0m\u001b[1;33m\u001b[0m\u001b[0m\n",
      "\u001b[1;32mC:\\Users\\DD69~1\\AppData\\Local\\Temp/ipykernel_23592/3599114878.py\u001b[0m in \u001b[0;36mLBorn\u001b[1;34m(X, Y, m, t)\u001b[0m\n\u001b[0;32m      4\u001b[0m         \u001b[1;32mfor\u001b[0m \u001b[0mj\u001b[0m \u001b[1;32min\u001b[0m \u001b[0mrange\u001b[0m\u001b[1;33m(\u001b[0m\u001b[0mm\u001b[0m\u001b[1;33m)\u001b[0m\u001b[1;33m:\u001b[0m\u001b[1;33m\u001b[0m\u001b[1;33m\u001b[0m\u001b[0m\n\u001b[0;32m      5\u001b[0m             \u001b[1;32mif\u001b[0m \u001b[0mj\u001b[0m \u001b[1;33m!=\u001b[0m \u001b[0mi\u001b[0m\u001b[1;33m:\u001b[0m\u001b[1;33m\u001b[0m\u001b[1;33m\u001b[0m\u001b[0m\n\u001b[1;32m----> 6\u001b[1;33m                 \u001b[0mAL\u001b[0m\u001b[1;33m[\u001b[0m\u001b[0mi\u001b[0m\u001b[1;33m]\u001b[0m \u001b[1;33m=\u001b[0m \u001b[0mAL\u001b[0m\u001b[1;33m[\u001b[0m\u001b[0mi\u001b[0m\u001b[1;33m]\u001b[0m \u001b[1;33m*\u001b[0m \u001b[1;33m(\u001b[0m\u001b[0mt\u001b[0m \u001b[1;33m-\u001b[0m \u001b[0mX\u001b[0m\u001b[1;33m[\u001b[0m\u001b[0mj\u001b[0m\u001b[1;33m]\u001b[0m\u001b[1;33m)\u001b[0m \u001b[1;33m/\u001b[0m \u001b[1;33m(\u001b[0m\u001b[0mX\u001b[0m\u001b[1;33m[\u001b[0m\u001b[0mi\u001b[0m\u001b[1;33m]\u001b[0m \u001b[1;33m-\u001b[0m \u001b[0mX\u001b[0m\u001b[1;33m[\u001b[0m\u001b[0mj\u001b[0m\u001b[1;33m]\u001b[0m\u001b[1;33m)\u001b[0m\u001b[1;33m\u001b[0m\u001b[1;33m\u001b[0m\u001b[0m\n\u001b[0m\u001b[0;32m      7\u001b[0m     \u001b[1;32mreturn\u001b[0m \u001b[0msum\u001b[0m\u001b[1;33m(\u001b[0m\u001b[0mAL\u001b[0m\u001b[1;33m)\u001b[0m\u001b[1;33m\u001b[0m\u001b[1;33m\u001b[0m\u001b[0m\n",
      "\u001b[1;31mValueError\u001b[0m: operands could not be broadcast together with shapes (1000,) (100,) "
     ]
    },
    {
     "data": {
      "image/png": "[encoded data removed]",
      "text/plain": [
       "<Figure size 1080x360 with 1 Axes>"
      ]
     },
     "metadata": {
      "needs_background": "light"
     },
     "output_type": "display_data"
    }
   ],
   "source": [
    "fig, axs = plt.subplots(figsize=(15, 5))\n",
    "x_data = np.linspace(a, b, 100)\n",
    "\n",
    "dots = 100\n",
    "SF = [0] * dots\n",
    "otrezok = ba/(dots - 1)\n",
    "for i in range(dots):\n",
    "    SF[i] = solution(a + i*otrezok, spl, X)\n",
    "\n",
    "x_dataS = np.linspace(a, b, dots)\n",
    "axs.plot(x_dataS, SF, label='S(x)')\n",
    "axs.plot(x_data, LBorn(X, Y, m, x_data), label='L(x)')\n",
    "axs.plot(x_data, F(x_data), label='F(x)')\n",
    "axs.axhline(0, color = \"black\")\n",
    "axs.legend()"
   ]
  },
  {
   "cell_type": "markdown",
   "id": "233fea2d",
   "metadata": {},
   "source": [
    "**ВЫВОД: Исходя из проделанных расчетов можно сделать вывод о том, что интерполирующи многочлены находят точное значение в заданных точках разбиения, но на отрезках разбиения имеет место погрешность**"
   ]
  },
  {
   "cell_type": "markdown",
   "id": "58fdc6f8",
   "metadata": {},
   "source": [
    "**Задача 4.3**\n",
    "\n",
    "Задана функция $f(x)$, определенная на отрезке $[-1;1]$. Требуется разложить функцию в ряд Тейлора в окрестности нуля с точностью $e$ и произвести экономизацию полученного степенного ряда."
   ]
  },
  {
   "cell_type": "markdown",
   "id": "b71a184e",
   "metadata": {},
   "source": [
    "$f(x) = xcos(x^2)$"
   ]
  },
  {
   "cell_type": "markdown",
   "id": "ff23189e",
   "metadata": {},
   "source": [
    "Реализуем функции расчета по данной формуле и расчета по разложению в ряд Тейлора с заданной точностью"
   ]
  },
  {
   "cell_type": "code",
   "execution_count": 34,
   "id": "9f3d9a2d",
   "metadata": {},
   "outputs": [],
   "source": [
    "def F(x):\n",
    "    return x * np.cos(x**2)\n",
    "\n",
    "def Teilor(x, eps):\n",
    "    Pogr = [x]\n",
    "    sumN = x\n",
    "    i = 0\n",
    "    fact = 1\n",
    "    y = F(x)\n",
    "    Cmas = [1]\n",
    "    while abs(sumN - y) > eps:\n",
    "        i = i + 1\n",
    "        fact = fact*(2*i)*(2*i - 1)\n",
    "        sumN = sumN + ((-1)**i)*((x**(4*i+1))/fact)\n",
    "        Pogr.append(abs(sumN - y))\n",
    "        Cmas.append(((-1)**i)/fact)\n",
    "    return sumN, i, Pogr, Cmas"
   ]
  },
  {
   "cell_type": "code",
   "execution_count": 35,
   "id": "427757a9",
   "metadata": {},
   "outputs": [
    {
     "data": {
      "text/plain": [
       "0.48445621085532237"
      ]
     },
     "execution_count": 35,
     "metadata": {},
     "output_type": "execute_result"
    }
   ],
   "source": [
    "F(0.5)"
   ]
  },
  {
   "cell_type": "code",
   "execution_count": 33,
   "id": "f4bb395a",
   "metadata": {},
   "outputs": [
    {
     "name": "stdout",
     "output_type": "stream",
     "text": [
      "0.4844562108554537\n",
      "4\n",
      "[0.5, 8.121085532236672e-05, 1.693530109481145e-07, 1.8908974386278032e-10, 1.3133938381315602e-13]\n",
      "[1, -0.5, 0.041666666666666664, -0.001388888888888889, 2.48015873015873e-05]\n"
     ]
    }
   ],
   "source": [
    "eps = 0.000000000001\n",
    "Res, N, PogrMas, CMas = Teilor(0.5, eps)\n",
    "print(Res)\n",
    "print(N)\n",
    "print(PogrMas)\n",
    "print(CMas)"
   ]
  },
  {
   "cell_type": "markdown",
   "id": "a2065fc9",
   "metadata": {},
   "source": [
    "Функция расчета \"по Тейлору\" возвращает нам: $Res$ - значение для заданной точки, $N$ - кол-во понадобившихся итераций, $PogrMas$ - массив погрешностей на каждом шаге для построения графика, $CMas$ - массив коэффициентов прои $x$ для дальнейшей экономизации"
   ]
  },
  {
   "cell_type": "markdown",
   "id": "ceda21bc",
   "metadata": {},
   "source": [
    "Строим график зависимости погрешности от номера итерации в разложении Тейлора"
   ]
  },
  {
   "cell_type": "code",
   "execution_count": null,
   "id": "9d14771b",
   "metadata": {},
   "outputs": [],
   "source": [
    "fig, axs = plt.subplots(figsize=(20, 5))\n",
    "axs.plot(list(range(N + 1)), PogrMas, label='Steps To WIN')\n",
    "axs.legend()\n",
    "axs.grid()"
   ]
  },
  {
   "cell_type": "markdown",
   "id": "e9e10bca",
   "metadata": {},
   "source": [
    "Сотсавляем массив коэффициентов ряда Тейлора. Номер элемента - степень при $x$, на который данный коэффициент домножается"
   ]
  },
  {
   "cell_type": "code",
   "execution_count": null,
   "id": "34bc0b4d",
   "metadata": {},
   "outputs": [],
   "source": [
    "CT = [0] * (N*4+2)\n",
    "for i in range(N + 1):\n",
    "    CT[i*4 + 1] = CMas[i]\n",
    "CT"
   ]
  },
  {
   "cell_type": "markdown",
   "id": "a16a7c76",
   "metadata": {},
   "source": [
    "Реализуем функцию расчета коэффициентов многочлена Чебышева. Для этого дополнительно реализуем функции: домножения на $2x$, иными словами смешения всех элементов на один вправо и домножение каждого на 2, вычитания массивы из массивы и домножение массива на заданное число (это уже для эконамизации)"
   ]
  },
  {
   "cell_type": "code",
   "execution_count": null,
   "id": "536b0a61",
   "metadata": {},
   "outputs": [],
   "source": [
    "def TC(num):\n",
    "    T = [ [0]*(num + 1) for i in range(num + 1)]\n",
    "    T[0][0] = 1\n",
    "    T[1][1] = 1\n",
    "    for i in range(2, num + 1):\n",
    "        T[i] = RazMas(Move2x(T[i - 1], num + 1), T[i - 2], num + 1)\n",
    "    return T[num]"
   ]
  },
  {
   "cell_type": "code",
   "execution_count": null,
   "id": "8847514d",
   "metadata": {},
   "outputs": [],
   "source": [
    "def Move2x(X, n):\n",
    "    Y = [0] * n\n",
    "    for i in range(n - 1, -1, -1):\n",
    "        Y[i] = X[i - 1] * 2\n",
    "    Y[0] = 0\n",
    "    return Y\n",
    "def RazMas(X, Y, n):\n",
    "    Z = [0] * n\n",
    "    for i in range(n):\n",
    "        Z[i] = X[i] - Y[i]\n",
    "    return Z\n",
    "def PowMas(X, z, n):\n",
    "    Y = [0]*n\n",
    "    for i in range(n):\n",
    "        Y[i] = X[i] * z\n",
    "    return Y"
   ]
  },
  {
   "cell_type": "markdown",
   "id": "c0cc22db",
   "metadata": {},
   "source": [
    "$step$ - максимальная степень данного разложения. Приводим коэффициенты многочлена Чебышева к виду, который можно подставить в ряд Тейлора. \n",
    "\n",
    "$step = 17$"
   ]
  },
  {
   "cell_type": "code",
   "execution_count": null,
   "id": "9353e370",
   "metadata": {},
   "outputs": [],
   "source": [
    "step = N*4+1\n",
    "T = TC(step)\n",
    "for i in range(step):\n",
    "    T[i] = T[i] / T[step]\n",
    "T[step] = 0\n",
    "T"
   ]
  },
  {
   "cell_type": "code",
   "execution_count": null,
   "id": "b3bf7145",
   "metadata": {},
   "outputs": [],
   "source": [
    "T = PowMas(T, CT[N*4+1], step + 1)\n",
    "CE1 = RazMas(CT, T, step + 1)\n",
    "CE1"
   ]
  },
  {
   "cell_type": "markdown",
   "id": "1da6ba64",
   "metadata": {},
   "source": [
    "При подстановке приводим подобные в раде Тейлора. Для этого просто вычитаем из массива коэффициентов разложения Тейлора массив коэффициентов многочена Чебышева. Сразу проверяем, сохраняется ли у нас точность.\n",
    "\n",
    "**Как мы видим, точность не достигнута. Следовательно наш многочле уже достаточно экономезирован**\n",
    "\n",
    "При увелчиении точности $e$, увеличивается кол-во итераций в ряде Тейлора, что не дает нам возможности к экономизации. Так е не помогает уменьшение точности."
   ]
  },
  {
   "cell_type": "code",
   "execution_count": null,
   "id": "057736ae",
   "metadata": {},
   "outputs": [],
   "source": [
    "resE = 0\n",
    "for i in range(N*4+1):\n",
    "    resE = resE + (0.5**i) * CE1[i]\n",
    "abs(resE - F(0.5)) < eps"
   ]
  },
  {
   "cell_type": "markdown",
   "id": "2e056eab",
   "metadata": {},
   "source": [
    "**ВЫВОД: Экономизация позволяет нам найти точное решение за меньшее кол-во вычеслений. Но не всегда это имеет смысл, так как функция уже может находить решение достаточно эффективно.**"
   ]
  }
 ],
 "metadata": {
  "kernelspec": {
   "display_name": "Python 3 (ipykernel)",
   "language": "python",
   "name": "python3"
  },
  "language_info": {
   "codemirror_mode": {
    "name": "ipython",
    "version": 3
   },
   "file_extension": ".py",
   "mimetype": "text/x-python",
   "name": "python",
   "nbconvert_exporter": "python",
   "pygments_lexer": "ipython3",
   "version": "3.9.7"
  }
 },
 "nbformat": 4,
 "nbformat_minor": 5
}
