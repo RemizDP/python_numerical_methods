{
 "cells": [
  {
   "cell_type": "markdown",
   "id": "554b8a0c",
   "metadata": {},
   "source": [
    "# Ремизов Дмитрий А-05-20\n",
    "\n",
    "## Лабораторная работа №1"
   ]
  },
  {
   "cell_type": "markdown",
   "id": "6707f968",
   "metadata": {},
   "source": [
    "#### Задача 1.1.\n",
    "Найти значения  машинного нуля, машинной бесконечности и машинного эпсилон."
   ]
  },
  {
   "cell_type": "markdown",
   "id": "7b5a8346",
   "metadata": {},
   "source": [
    "Импортируем библиотеки (для задачи 1.2)"
   ]
  },
  {
   "cell_type": "code",
   "execution_count": 1,
   "id": "eee7d74d",
   "metadata": {},
   "outputs": [],
   "source": [
    "import numpy as np\n",
    "import matplotlib.pyplot as plt\n",
    "import math as m"
   ]
  },
  {
   "cell_type": "markdown",
   "id": "81b705ba",
   "metadata": {},
   "source": [
    "Машинная бесконечность (порог переполнения): $X_{\\infty}=2^{P_{max}}$, где $P_{max}=2^{l+1}-1$; $l+1$ -- конечное количество двоичных разрядов  <br>\n",
    "Используя функцию, проверяющую, является ли число машинной бесконечностью, делим m на 2, пока не выполнится условие остановки цикла."
   ]
  },
  {
   "cell_type": "code",
   "execution_count": 2,
   "id": "d3652139",
   "metadata": {},
   "outputs": [
    {
     "name": "stdout",
     "output_type": "stream",
     "text": [
      "1.1125369292536007e-308\n"
     ]
    }
   ],
   "source": [
    "#Поиск машинной бесконечности:\n",
    "def m_inf(m):\n",
    "    while not (np.isinf(2/m)):\n",
    "        m/=2\n",
    "    return m\n",
    "\n",
    "print(m_inf(1.0))"
   ]
  },
  {
   "cell_type": "markdown",
   "id": "1f629aa0",
   "metadata": {},
   "source": [
    "Магинный нуль: $X_{0}=2^{P_{min}}$, где $P_{min}=-(2^{l+1}-2)$.  <br>\n",
    "Пока число $n/2$ не станет равно нулю, делим $n$ на 2. Получим машинный нуль "
   ]
  },
  {
   "cell_type": "code",
   "execution_count": 3,
   "id": "73cdc7b1",
   "metadata": {},
   "outputs": [
    {
     "name": "stdout",
     "output_type": "stream",
     "text": [
      "5e-324\n"
     ]
    }
   ],
   "source": [
    "#Поиск машинного нуля:\n",
    "def null(n):\n",
    "    while not ((n/2)==0):\n",
    "        n/=2\n",
    "    return n\n",
    "\n",
    "print(null(1.0))"
   ]
  },
  {
   "cell_type": "markdown",
   "id": "7860a89b",
   "metadata": {},
   "source": [
    "Машинное $eps$: $eps=2^{-l}$. Пока $1+eps$ не достигнет 1, $eps$ делим на 2. "
   ]
  },
  {
   "cell_type": "code",
   "execution_count": 4,
   "id": "f886a4cd",
   "metadata": {},
   "outputs": [
    {
     "name": "stdout",
     "output_type": "stream",
     "text": [
      "1.1e-16\n"
     ]
    }
   ],
   "source": [
    "#Поиск машинного е:\n",
    "def m_eps(e):\n",
    "    while e+1>1:\n",
    "        e/=2\n",
    "    return e\n",
    "\n",
    "eps=m_eps(1.0)\n",
    "print(f'{eps:.2}')"
   ]
  },
  {
   "cell_type": "markdown",
   "id": "84282276",
   "metadata": {},
   "source": [
    "### Задача 1.2.\n",
    "\n",
    "Исследовать поведение погрешности приближения функции $F(x)$ частичными суммами  на отрезке  $[a,b]$ .\n",
    "\n",
    "   #### ПОРЯДОК  РЕШЕНИЯ  ЗАДАЧИ: <br>\n",
    "             \n",
    "    1. Используя разложения стандартных функций  в ряд Тейлора в окрестности нуля, получить \n",
    "разложение функции  F(x) по степеням x. <br>\n",
    "    2. Составить процедуру, вычисляющую частичную сумму N членов ряда S(x,N). <br>\n",
    "    3. Построить графики исходной функции и первых пяти  частичных сумм: S(x,1),…S(x.5). <br>\n",
    "    4. Составить функции, вычисляющие абсолютную погрешность  и\n",
    "относительную  погрешность   . Построить графики погрешностей первых  пяти частичных сумм. <br>\n",
    "    5. Определить количество членов ряда N, при котором величина относительной погрешности  в средней  точке отрезка   станет меньше машинного эпсилон.  Величину  относительной погрешности вычислять как  отношение    прибавляемого члена к  накопленной частичной  сумме , взятое по модулю. <br> \n",
    "    6. При найденном значении N построить графики  абсолютной погрешности   и относительной погрешности   . <br>\n",
    "    7. Составить программу округления вычислений результата до t разрядов мантиссы и произвести расчеты  п. 4  с учетом округления. <br>\n",
    "    8. Сравнить полученные  результаты и составить отчет по задаче."
   ]
  },
  {
   "attachments": {
    "image.png": {
     "image/png": "[encoded data removed]"
    }
   },
   "cell_type": "markdown",
   "id": "fe3dd99a",
   "metadata": {},
   "source": [
    "Функция: $f(x)=(x^2*(e^x-x-1))$ <br>\n",
    "Промежуток: $[-4, 0]$ <br>\n",
    "Разложение по Тейлору функции $e^x$: ![image.png](attachment:image.png)<br>\n",
    "<br>\n",
    "Разложив $e^x$ и приведя подобные слагаемые и раскрыв скобки, получим ряд:$\\sum (x^{N+4})/(N+2)!$ <br>\n",
    "Для нахождения суммы в цикле суммируем необходимое количество n-ых членов ряда. <br>\n",
    "<br>\n",
    "По формулам для абсолютной и относительной погрешностей находим оба значения: <br>"
   ]
  },
  {
   "cell_type": "code",
   "execution_count": 5,
   "id": "b058dc25",
   "metadata": {},
   "outputs": [],
   "source": [
    "def F(x):\n",
    "    return x**2*(np.exp(x)-x-1)\n",
    "\n",
    "#Функция нахождения N-го члена ряда\n",
    "def nx (x, N, nf):\n",
    "    return (x**(N + 4) )/ (nf) \n",
    "\n",
    "#Функция нахождения N-ой частичной суммы\n",
    "def Sn (x,N):\n",
    "    nf = 2\n",
    "    S=nx(x, 0, nf)\n",
    "    for i in range(1, N-1):\n",
    "        nf *= (i + 2)\n",
    "        S=S +nx(x, i, nf)\n",
    "    return S\n",
    "\n",
    "def AbsP(x, N):\n",
    "    return np.abs(Sn(x,N)-F(x))\n",
    "\n",
    "def OtnP(x,N):\n",
    "            return AbsP(x,N)/np.abs(Sn(x,N))"
   ]
  },
  {
   "cell_type": "markdown",
   "id": "0745cc25",
   "metadata": {},
   "source": [
    "Задаем границы отрезка, находим середину <br>\n",
    "Для того, чтобы не было деления на ноль в дальнейших этапах, вычитаю из 0 машинное эпсилон (приближаюсь к нулю слева).<br>\n",
    "Задаю разбиение отрезка на 1000 точек."
   ]
  },
  {
   "cell_type": "code",
   "execution_count": 6,
   "id": "a713124d",
   "metadata": {},
   "outputs": [
    {
     "name": "stdout",
     "output_type": "stream",
     "text": [
      "[4.82930502e+01 4.81336533e+01 4.79746093e+01 4.78159179e+01\n",
      " 4.76575785e+01 4.74995909e+01 4.73419547e+01 4.71846694e+01\n",
      " 4.70277347e+01 4.68711502e+01 4.67149155e+01 4.65590302e+01\n",
      " 4.64034940e+01 4.62483064e+01 4.60934670e+01 4.59389755e+01\n",
      " 4.57848315e+01 4.56310346e+01 4.54775843e+01 4.53244804e+01\n",
      " 4.51717224e+01 4.50193100e+01 4.48672427e+01 4.47155201e+01\n",
      " 4.45641420e+01 4.44131078e+01 4.42624172e+01 4.41120699e+01\n",
      " 4.39620653e+01 4.38124032e+01 4.36630832e+01 4.35141048e+01\n",
      " 4.33654676e+01 4.32171714e+01 4.30692156e+01 4.29216000e+01\n",
      " 4.27743240e+01 4.26273874e+01 4.24807898e+01 4.23345306e+01\n",
      " 4.21886097e+01 4.20430265e+01 4.18977807e+01 4.17528720e+01\n",
      " 4.16082998e+01 4.14640638e+01 4.13201637e+01 4.11765991e+01\n",
      " 4.10333694e+01 4.08904745e+01 4.07479138e+01 4.06056871e+01\n",
      " 4.04637938e+01 4.03222337e+01 4.01810062e+01 4.00401111e+01\n",
      " 3.98995480e+01 3.97593164e+01 3.96194160e+01 3.94798464e+01\n",
      " 3.93406072e+01 3.92016979e+01 3.90631183e+01 3.89248679e+01\n",
      " 3.87869464e+01 3.86493533e+01 3.85120883e+01 3.83751509e+01\n",
      " 3.82385408e+01 3.81022577e+01 3.79663010e+01 3.78306704e+01\n",
      " 3.76953656e+01 3.75603861e+01 3.74257316e+01 3.72914016e+01\n",
      " 3.71573958e+01 3.70237137e+01 3.68903551e+01 3.67573195e+01\n",
      " 3.66246064e+01 3.64922156e+01 3.63601467e+01 3.62283992e+01\n",
      " 3.60969727e+01 3.59658669e+01 3.58350814e+01 3.57046158e+01\n",
      " 3.55744697e+01 3.54446426e+01 3.53151344e+01 3.51859444e+01\n",
      " 3.50570724e+01 3.49285179e+01 3.48002806e+01 3.46723601e+01\n",
      " 3.45447559e+01 3.44174678e+01 3.42904952e+01 3.41638379e+01\n",
      " 3.40374953e+01 3.39114673e+01 3.37857532e+01 3.36603529e+01\n",
      " 3.35352657e+01 3.34104915e+01 3.32860297e+01 3.31618801e+01\n",
      " 3.30380421e+01 3.29145155e+01 3.27912998e+01 3.26683946e+01\n",
      " 3.25457996e+01 3.24235143e+01 3.23015384e+01 3.21798714e+01\n",
      " 3.20585131e+01 3.19374629e+01 3.18167206e+01 3.16962856e+01\n",
      " 3.15761577e+01 3.14563364e+01 3.13368214e+01 3.12176122e+01\n",
      " 3.10987084e+01 3.09801098e+01 3.08618158e+01 3.07438261e+01\n",
      " 3.06261403e+01 3.05087581e+01 3.03916789e+01 3.02749025e+01\n",
      " 3.01584284e+01 3.00422562e+01 2.99263857e+01 2.98108162e+01\n",
      " 2.96955476e+01 2.95805793e+01 2.94659111e+01 2.93515424e+01\n",
      " 2.92374729e+01 2.91237023e+01 2.90102301e+01 2.88970559e+01\n",
      " 2.87841794e+01 2.86716001e+01 2.85593177e+01 2.84473318e+01\n",
      " 2.83356420e+01 2.82242478e+01 2.81131490e+01 2.80023450e+01\n",
      " 2.78918356e+01 2.77816203e+01 2.76716988e+01 2.75620706e+01\n",
      " 2.74527353e+01 2.73436926e+01 2.72349421e+01 2.71264833e+01\n",
      " 2.70183160e+01 2.69104396e+01 2.68028538e+01 2.66955583e+01\n",
      " 2.65885526e+01 2.64818363e+01 2.63754090e+01 2.62692704e+01\n",
      " 2.61634200e+01 2.60578575e+01 2.59525825e+01 2.58475945e+01\n",
      " 2.57428933e+01 2.56384783e+01 2.55343492e+01 2.54305057e+01\n",
      " 2.53269472e+01 2.52236735e+01 2.51206841e+01 2.50179787e+01\n",
      " 2.49155568e+01 2.48134181e+01 2.47115621e+01 2.46099885e+01\n",
      " 2.45086969e+01 2.44076869e+01 2.43069581e+01 2.42065101e+01\n",
      " 2.41063424e+01 2.40064549e+01 2.39068469e+01 2.38075182e+01\n",
      " 2.37084683e+01 2.36096968e+01 2.35112035e+01 2.34129877e+01\n",
      " 2.33150493e+01 2.32173877e+01 2.31200026e+01 2.30228936e+01\n",
      " 2.29260603e+01 2.28295024e+01 2.27332193e+01 2.26372107e+01\n",
      " 2.25414763e+01 2.24460156e+01 2.23508283e+01 2.22559139e+01\n",
      " 2.21612720e+01 2.20669024e+01 2.19728044e+01 2.18789779e+01\n",
      " 2.17854224e+01 2.16921374e+01 2.15991226e+01 2.15063777e+01\n",
      " 2.14139021e+01 2.13216956e+01 2.12297576e+01 2.11380879e+01\n",
      " 2.10466861e+01 2.09555517e+01 2.08646843e+01 2.07740836e+01\n",
      " 2.06837491e+01 2.05936806e+01 2.05038775e+01 2.04143394e+01\n",
      " 2.03250661e+01 2.02360570e+01 2.01473119e+01 2.00588302e+01\n",
      " 1.99706116e+01 1.98826558e+01 1.97949623e+01 1.97075307e+01\n",
      " 1.96203607e+01 1.95334518e+01 1.94468036e+01 1.93604158e+01\n",
      " 1.92742879e+01 1.91884196e+01 1.91028105e+01 1.90174601e+01\n",
      " 1.89323681e+01 1.88475341e+01 1.87629577e+01 1.86786385e+01\n",
      " 1.85945761e+01 1.85107701e+01 1.84272201e+01 1.83439257e+01\n",
      " 1.82608866e+01 1.81781022e+01 1.80955723e+01 1.80132964e+01\n",
      " 1.79312742e+01 1.78495052e+01 1.77679891e+01 1.76867254e+01\n",
      " 1.76057138e+01 1.75249539e+01 1.74444452e+01 1.73641874e+01\n",
      " 1.72841801e+01 1.72044229e+01 1.71249153e+01 1.70456571e+01\n",
      " 1.69666478e+01 1.68878869e+01 1.68093742e+01 1.67311092e+01\n",
      " 1.66530915e+01 1.65753207e+01 1.64977964e+01 1.64205183e+01\n",
      " 1.63434859e+01 1.62666989e+01 1.61901568e+01 1.61138592e+01\n",
      " 1.60378058e+01 1.59619962e+01 1.58864299e+01 1.58111065e+01\n",
      " 1.57360258e+01 1.56611872e+01 1.55865904e+01 1.55122350e+01\n",
      " 1.54381205e+01 1.53642467e+01 1.52906130e+01 1.52172191e+01\n",
      " 1.51440646e+01 1.50711492e+01 1.49984723e+01 1.49260336e+01\n",
      " 1.48538328e+01 1.47818694e+01 1.47101430e+01 1.46386532e+01\n",
      " 1.45673996e+01 1.44963819e+01 1.44255996e+01 1.43550523e+01\n",
      " 1.42847397e+01 1.42146613e+01 1.41448168e+01 1.40752057e+01\n",
      " 1.40058276e+01 1.39366822e+01 1.38677691e+01 1.37990879e+01\n",
      " 1.37306381e+01 1.36624193e+01 1.35944312e+01 1.35266734e+01\n",
      " 1.34591455e+01 1.33918471e+01 1.33247777e+01 1.32579370e+01\n",
      " 1.31913246e+01 1.31249401e+01 1.30587831e+01 1.29928532e+01\n",
      " 1.29271499e+01 1.28616730e+01 1.27964219e+01 1.27313964e+01\n",
      " 1.26665960e+01 1.26020202e+01 1.25376688e+01 1.24735413e+01\n",
      " 1.24096373e+01 1.23459564e+01 1.22824982e+01 1.22192624e+01\n",
      " 1.21562484e+01 1.20934560e+01 1.20308847e+01 1.19685342e+01\n",
      " 1.19064039e+01 1.18444936e+01 1.17828028e+01 1.17213312e+01\n",
      " 1.16600783e+01 1.15990437e+01 1.15382270e+01 1.14776279e+01\n",
      " 1.14172460e+01 1.13570807e+01 1.12971319e+01 1.12373989e+01\n",
      " 1.11778815e+01 1.11185793e+01 1.10594918e+01 1.10006186e+01\n",
      " 1.09419594e+01 1.08835138e+01 1.08252813e+01 1.07672615e+01\n",
      " 1.07094541e+01 1.06518587e+01 1.05944748e+01 1.05373021e+01\n",
      " 1.04803401e+01 1.04235885e+01 1.03670468e+01 1.03107147e+01\n",
      " 1.02545918e+01 1.01986776e+01 1.01429718e+01 1.00874739e+01\n",
      " 1.00321836e+01 9.97710052e+00 9.92222415e+00 9.86755415e+00\n",
      " 9.81309011e+00 9.75883163e+00 9.70477832e+00 9.65092978e+00\n",
      " 9.59728559e+00 9.54384538e+00 9.49060873e+00 9.43757524e+00\n",
      " 9.38474452e+00 9.33211616e+00 9.27968977e+00 9.22746495e+00\n",
      " 9.17544129e+00 9.12361840e+00 9.07199587e+00 9.02057330e+00\n",
      " 8.96935030e+00 8.91832647e+00 8.86750140e+00 8.81687469e+00\n",
      " 8.76644594e+00 8.71621476e+00 8.66618074e+00 8.61634349e+00\n",
      " 8.56670259e+00 8.51725766e+00 8.46800828e+00 8.41895407e+00\n",
      " 8.37009462e+00 8.32142952e+00 8.27295838e+00 8.22468080e+00\n",
      " 8.17659638e+00 8.12870471e+00 8.08100540e+00 8.03349804e+00\n",
      " 7.98618223e+00 7.93905758e+00 7.89212367e+00 7.84538012e+00\n",
      " 7.79882652e+00 7.75246246e+00 7.70628756e+00 7.66030140e+00\n",
      " 7.61450358e+00 7.56889371e+00 7.52347138e+00 7.47823619e+00\n",
      " 7.43318774e+00 7.38832563e+00 7.34364946e+00 7.29915882e+00\n",
      " 7.25485332e+00 7.21073255e+00 7.16679612e+00 7.12304361e+00\n",
      " 7.07947464e+00 7.03608879e+00 6.99288567e+00 6.94986487e+00\n",
      " 6.90702599e+00 6.86436864e+00 6.82189241e+00 6.77959689e+00\n",
      " 6.73748169e+00 6.69554641e+00 6.65379064e+00 6.61221398e+00\n",
      " 6.57081603e+00 6.52959638e+00 6.48855465e+00 6.44769041e+00\n",
      " 6.40700328e+00 6.36649285e+00 6.32615872e+00 6.28600048e+00\n",
      " 6.24601774e+00 6.20621009e+00 6.16657713e+00 6.12711846e+00\n",
      " 6.08783367e+00 6.04872237e+00 6.00978415e+00 5.97101862e+00\n",
      " 5.93242536e+00 5.89400397e+00 5.85575406e+00 5.81767522e+00\n",
      " 5.77976705e+00 5.74202915e+00 5.70446111e+00 5.66706253e+00\n",
      " 5.62983302e+00 5.59277216e+00 5.55587956e+00 5.51915481e+00\n",
      " 5.48259751e+00 5.44620727e+00 5.40998366e+00 5.37392631e+00\n",
      " 5.33803479e+00 5.30230871e+00 5.26674768e+00 5.23135127e+00\n",
      " 5.19611910e+00 5.16105076e+00 5.12614584e+00 5.09140395e+00\n",
      " 5.05682468e+00 5.02240763e+00 4.98815240e+00 4.95405859e+00\n",
      " 4.92012578e+00 4.88635359e+00 4.85274160e+00 4.81928942e+00\n",
      " 4.78599664e+00 4.75286287e+00 4.71988768e+00 4.68707070e+00\n",
      " 4.65441151e+00 4.62190970e+00 4.58956489e+00 4.55737665e+00\n",
      " 4.52534461e+00 4.49346834e+00 4.46174745e+00 4.43018153e+00\n",
      " 4.39877018e+00 4.36751301e+00 4.33640960e+00 4.30545956e+00\n",
      " 4.27466248e+00 4.24401796e+00 4.21352559e+00 4.18318498e+00\n",
      " 4.15299572e+00 4.12295742e+00 4.09306966e+00 4.06333204e+00\n",
      " 4.03374417e+00 4.00430563e+00 3.97501604e+00 3.94587497e+00\n",
      " 3.91688204e+00 3.88803684e+00 3.85933897e+00 3.83078803e+00\n",
      " 3.80238360e+00 3.77412530e+00 3.74601272e+00 3.71804545e+00\n",
      " 3.69022309e+00 3.66254525e+00 3.63501151e+00 3.60762149e+00\n",
      " 3.58037476e+00 3.55327094e+00 3.52630962e+00 3.49949040e+00\n",
      " 3.47281287e+00 3.44627664e+00 3.41988130e+00 3.39362644e+00\n",
      " 3.36751168e+00 3.34153660e+00 3.31570080e+00 3.29000389e+00\n",
      " 3.26444546e+00 3.23902510e+00 3.21374242e+00 3.18859701e+00\n",
      " 3.16358848e+00 3.13871641e+00 3.11398041e+00 3.08938009e+00\n",
      " 3.06491502e+00 3.04058482e+00 3.01638908e+00 2.99232741e+00\n",
      " 2.96839939e+00 2.94460463e+00 2.92094272e+00 2.89741327e+00\n",
      " 2.87401587e+00 2.85075013e+00 2.82761563e+00 2.80461199e+00\n",
      " 2.78173879e+00 2.75899564e+00 2.73638214e+00 2.71389788e+00\n",
      " 2.69154247e+00 2.66931550e+00 2.64721657e+00 2.62524529e+00\n",
      " 2.60340124e+00 2.58168404e+00 2.56009327e+00 2.53862854e+00\n",
      " 2.51728946e+00 2.49607561e+00 2.47498659e+00 2.45402202e+00\n",
      " 2.43318148e+00 2.41246458e+00 2.39187092e+00 2.37140009e+00\n",
      " 2.35105170e+00 2.33082535e+00 2.31072063e+00 2.29073715e+00\n",
      " 2.27087451e+00 2.25113231e+00 2.23151014e+00 2.21200761e+00\n",
      " 2.19262433e+00 2.17335988e+00 2.15421387e+00 2.13518591e+00\n",
      " 2.11627558e+00 2.09748251e+00 2.07880627e+00 2.06024649e+00\n",
      " 2.04180275e+00 2.02347465e+00 2.00526181e+00 1.98716382e+00\n",
      " 1.96918029e+00 1.95131081e+00 1.93355498e+00 1.91591242e+00\n",
      " 1.89838271e+00 1.88096547e+00 1.86366029e+00 1.84646679e+00\n",
      " 1.82938455e+00 1.81241318e+00 1.79555229e+00 1.77880148e+00\n",
      " 1.76216035e+00 1.74562850e+00 1.72920555e+00 1.71289108e+00\n",
      " 1.69668470e+00 1.68058603e+00 1.66459465e+00 1.64871018e+00\n",
      " 1.63293222e+00 1.61726037e+00 1.60169424e+00 1.58623342e+00\n",
      " 1.57087754e+00 1.55562618e+00 1.54047896e+00 1.52543548e+00\n",
      " 1.51049534e+00 1.49565815e+00 1.48092351e+00 1.46629104e+00\n",
      " 1.45176033e+00 1.43733099e+00 1.42300263e+00 1.40877485e+00\n",
      " 1.39464726e+00 1.38061947e+00 1.36669108e+00 1.35286169e+00\n",
      " 1.33913092e+00 1.32549838e+00 1.31196366e+00 1.29852637e+00\n",
      " 1.28518613e+00 1.27194254e+00 1.25879521e+00 1.24574375e+00\n",
      " 1.23278776e+00 1.21992686e+00 1.20716064e+00 1.19448873e+00\n",
      " 1.18191072e+00 1.16942623e+00 1.15703487e+00 1.14473625e+00\n",
      " 1.13252997e+00 1.12041565e+00 1.10839289e+00 1.09646131e+00\n",
      " 1.08462052e+00 1.07287012e+00 1.06120973e+00 1.04963896e+00\n",
      " 1.03815741e+00 1.02676471e+00 1.01546046e+00 1.00424428e+00\n",
      " 9.93115772e-01 9.82074554e-01 9.71120237e-01 9.60252434e-01\n",
      " 9.49470759e-01 9.38774823e-01 9.28164242e-01 9.17638628e-01\n",
      " 9.07197595e-01 8.96840757e-01 8.86567730e-01 8.76378127e-01\n",
      " 8.66271563e-01 8.56247654e-01 8.46306015e-01 8.36446261e-01\n",
      " 8.26668009e-01 8.16970874e-01 8.07354474e-01 7.97818424e-01\n",
      " 7.88362342e-01 7.78985846e-01 7.69688551e-01 7.60470078e-01\n",
      " 7.51330042e-01 7.42268064e-01 7.33283761e-01 7.24376752e-01\n",
      " 7.15546657e-01 7.06793096e-01 6.98115688e-01 6.89514052e-01\n",
      " 6.80987811e-01 6.72536584e-01 6.64159993e-01 6.55857658e-01\n",
      " 6.47629203e-01 6.39474248e-01 6.31392416e-01 6.23383329e-01\n",
      " 6.15446611e-01 6.07581886e-01 5.99788776e-01 5.92066906e-01\n",
      " 5.84415899e-01 5.76835382e-01 5.69324978e-01 5.61884314e-01\n",
      " 5.54513015e-01 5.47210707e-01 5.39977016e-01 5.32811570e-01\n",
      " 5.25713995e-01 5.18683920e-01 5.11720972e-01 5.04824779e-01\n",
      " 4.97994971e-01 4.91231176e-01 4.84533024e-01 4.77900145e-01\n",
      " 4.71332169e-01 4.64828726e-01 4.58389449e-01 4.52013968e-01\n",
      " 4.45701915e-01 4.39452923e-01 4.33266625e-01 4.27142653e-01\n",
      " 4.21080641e-01 4.15080224e-01 4.09141035e-01 4.03262710e-01\n",
      " 3.97444885e-01 3.91687194e-01 3.85989274e-01 3.80350762e-01\n",
      " 3.74771295e-01 3.69250511e-01 3.63788047e-01 3.58383543e-01\n",
      " 3.53036637e-01 3.47746969e-01 3.42514179e-01 3.37337908e-01\n",
      " 3.32217796e-01 3.27153485e-01 3.22144617e-01 3.17190834e-01\n",
      " 3.12291780e-01 3.07447098e-01 3.02656433e-01 2.97919427e-01\n",
      " 2.93235728e-01 2.88604980e-01 2.84026829e-01 2.79500923e-01\n",
      " 2.75026908e-01 2.70604432e-01 2.66233145e-01 2.61912694e-01\n",
      " 2.57642729e-01 2.53422900e-01 2.49252858e-01 2.45132254e-01\n",
      " 2.41060741e-01 2.37037969e-01 2.33063593e-01 2.29137265e-01\n",
      " 2.25258641e-01 2.21427374e-01 2.17643121e-01 2.13905537e-01\n",
      " 2.10214279e-01 2.06569004e-01 2.02969371e-01 1.99415037e-01\n",
      " 1.95905663e-01 1.92440907e-01 1.89020431e-01 1.85643895e-01\n",
      " 1.82310962e-01 1.79021294e-01 1.75774554e-01 1.72570407e-01\n",
      " 1.69408516e-01 1.66288547e-01 1.63210167e-01 1.60173041e-01\n",
      " 1.57176837e-01 1.54221224e-01 1.51305870e-01 1.48430444e-01\n",
      " 1.45594618e-01 1.42798061e-01 1.40040447e-01 1.37321448e-01\n",
      " 1.34640736e-01 1.31997986e-01 1.29392873e-01 1.26825073e-01\n",
      " 1.24294261e-01 1.21800116e-01 1.19342315e-01 1.16920537e-01\n",
      " 1.14534462e-01 1.12183770e-01 1.09868143e-01 1.07587262e-01\n",
      " 1.05340811e-01 1.03128474e-01 1.00949934e-01 9.88048780e-02\n",
      " 9.66929920e-02 9.46139631e-02 9.25674797e-02 9.05532306e-02\n",
      " 8.85709057e-02 8.66201960e-02 8.47007931e-02 8.28123895e-02\n",
      " 8.09546790e-02 7.91273559e-02 7.73301157e-02 7.55626547e-02\n",
      " 7.38246701e-02 7.21158604e-02 7.04359246e-02 6.87845630e-02\n",
      " 6.71614768e-02 6.55663681e-02 6.39989400e-02 6.24588968e-02\n",
      " 6.09459436e-02 5.94597865e-02 5.80001328e-02 5.65666907e-02\n",
      " 5.51591696e-02 5.37772796e-02 5.24207323e-02 5.10892401e-02\n",
      " 4.97825165e-02 4.85002760e-02 4.72422345e-02 4.60081087e-02\n",
      " 4.47976166e-02 4.36104770e-02 4.24464102e-02 4.13051375e-02\n",
      " 4.01863812e-02 3.90898649e-02 3.80153134e-02 3.69624524e-02\n",
      " 3.59310092e-02 3.49207119e-02 3.39312899e-02 3.29624740e-02\n",
      " 3.20139959e-02 3.10855888e-02 3.01769868e-02 2.92879256e-02\n",
      " 2.84181420e-02 2.75673740e-02 2.67353608e-02 2.59218431e-02\n",
      " 2.51265628e-02 2.43492629e-02 2.35896881e-02 2.28475840e-02\n",
      " 2.21226977e-02 2.14147777e-02 2.07235738e-02 2.00488371e-02\n",
      " 1.93903201e-02 1.87477767e-02 1.81209620e-02 1.75096329e-02\n",
      " 1.69135472e-02 1.63324646e-02 1.57661458e-02 1.52143531e-02\n",
      " 1.46768505e-02 1.41534030e-02 1.36437773e-02 1.31477417e-02\n",
      " 1.26650658e-02 1.21955207e-02 1.17388791e-02 1.12949151e-02\n",
      " 1.08634046e-02 1.04441247e-02 1.00368543e-02 9.64137365e-03\n",
      " 9.25746483e-03 8.88491132e-03 8.52349828e-03 8.17301244e-03\n",
      " 7.83324218e-03 7.50397751e-03 7.18501008e-03 6.87613319e-03\n",
      " 6.57714182e-03 6.28783264e-03 6.00800400e-03 5.73745595e-03\n",
      " 5.47599027e-03 5.22341047e-03 4.97952180e-03 4.74413126e-03\n",
      " 4.51704763e-03 4.29808145e-03 4.08704507e-03 3.88375264e-03\n",
      " 3.68802013e-03 3.49966534e-03 3.31850791e-03 3.14436933e-03\n",
      " 2.97707299e-03 2.81644413e-03 2.66230991e-03 2.51449938e-03\n",
      " 2.37284354e-03 2.23717530e-03 2.10732954e-03 1.98314310e-03\n",
      " 1.86445478e-03 1.75110541e-03 1.64293779e-03 1.53979677e-03\n",
      " 1.44152920e-03 1.34798402e-03 1.25901219e-03 1.17446679e-03\n",
      " 1.09420296e-03 1.01807796e-03 9.45951173e-04 8.77684112e-04\n",
      " 8.13140445e-04 7.52186005e-04 6.94688805e-04 6.40519056e-04\n",
      " 5.89549179e-04 5.41653823e-04 4.96709878e-04 4.54596493e-04\n",
      " 4.15195089e-04 3.78389377e-04 3.44065373e-04 3.12111413e-04\n",
      " 2.82418171e-04 2.54878672e-04 2.29388312e-04 2.05844872e-04\n",
      " 1.84148534e-04 1.64201899e-04 1.45910002e-04 1.29180332e-04\n",
      " 1.13922843e-04 1.00049978e-04 8.74766793e-05 7.61204105e-05\n",
      " 6.59011712e-05 5.67415153e-05 4.85665681e-05 4.13040438e-05\n",
      " 3.48842633e-05 2.92401720e-05 2.43073576e-05 2.00240678e-05\n",
      " 1.63312288e-05 1.31724633e-05 1.04941089e-05 8.24523607e-06\n",
      " 6.37766743e-06 4.84599573e-06 3.60760292e-06 2.62267891e-06\n",
      " 1.85424060e-06 1.26815090e-06 8.33138003e-07 5.20814676e-07\n",
      " 3.05697699e-07 1.65227427e-07 7.97874656e-08 3.27244622e-08\n",
      " 1.03680208e-08 2.05073477e-09 1.28341932e-10 0.00000000e+00]\n"
     ]
    }
   ],
   "source": [
    "a=-4.0\n",
    "b=0-eps\n",
    "c=(a+b)/2\n",
    "\n",
    "x_data = np.linspace(a, b, 1000)\n",
    "y = F(x_data)"
   ]
  },
  {
   "cell_type": "markdown",
   "id": "98b7fb42",
   "metadata": {},
   "source": [
    "Создаю рисунок, состоящий из двух графиков заданной высты и ширины в одной строке <br>\n",
    "Черным цветом рисуем на первой координатной плоскости график $F(x)$, затем различными линиями рисуем 5 графиков частичных сумм <br>\n",
    "с помощью функций из библиотеки matplotlib.<br>\n",
    "На второй рисуем графики всех 5-и абсолютных погрешностей этих сумм.<br>\n",
    "\n",
    "Задаем легенды (подписи) на графиках"
   ]
  },
  {
   "cell_type": "code",
   "execution_count": 7,
   "id": "7771213a",
   "metadata": {},
   "outputs": [
    {
     "data": {
      "text/plain": [
       "<matplotlib.legend.Legend at 0x1ef8f16d850>"
      ]
     },
     "execution_count": 7,
     "metadata": {},
     "output_type": "execute_result"
    },
    {
     "data": {
      "image/png": "[encoded data removed]",
      "text/plain": [
       "<Figure size 1440x720 with 2 Axes>"
      ]
     },
     "metadata": {
      "needs_background": "light"
     },
     "output_type": "display_data"
    }
   ],
   "source": [
    "#Рисунок из двух графиков\n",
    "fig, axs = plt.subplots(1, 2, figsize=(20, 10))\n",
    "\n",
    "#Рисуем на 1-м графике \n",
    "axs[0].plot(x_data, F(x_data), label='$F$', color=\"black\")\n",
    "\n",
    "#Задаем кортеж из стилей линий\n",
    "line_styles =((0, (3, 1, 1, 1, 1, 1)), 'dotted', 'dashed', 'dashdot',\n",
    "              (0,(1, 10)))\n",
    "#С помощью цикла рисуем 5 частичных сумм на 1-м графике\n",
    "for i in range(1, 6):\n",
    "    axs[0].plot(x_data, Sn(x_data, i), label=f'$S(x,{i})$',\n",
    "               ls=line_styles[i-1])\n",
    "\n",
    "#С помощью цикла рисуем погрешность S на втором графике\n",
    "for i in range(1,6):\n",
    "    axs[1].plot(x_data, AbsP(x_data, i),\n",
    "               label =f'$\\Delta S(x, {i})$', ls=line_styles[i-1])\n",
    "    \n",
    "axs[0].legend()\n",
    "axs[1].legend()\n"
   ]
  },
  {
   "cell_type": "markdown",
   "id": "0e4586be",
   "metadata": {},
   "source": [
    "С помощью цикла находим минимальное количество операций $N_{eps}$, при котором достигается точность машинного эпсилон"
   ]
  },
  {
   "cell_type": "code",
   "execution_count": 8,
   "id": "04ba0f27",
   "metadata": {
    "scrolled": true
   },
   "outputs": [
    {
     "name": "stdout",
     "output_type": "stream",
     "text": [
      "25\n"
     ]
    }
   ],
   "source": [
    "#Вычисление N, при котором величина относительной погрешности в средней \n",
    "#точке отрезка станет меньше машинного эпсилон\n",
    "\n",
    "p_sum = nx(c, 0, 1)\n",
    "N_eps = 1\n",
    "n_t = nx(c, 1, 1)\n",
    "nf = 1\n",
    "while (np.abs(n_t/p_sum) > eps):\n",
    "    p_sum += n_t\n",
    "    N_eps += 1\n",
    "    nf *= N_eps\n",
    "    n_t = nx(c, N_eps, nf)\n",
    "    \n",
    "    \n",
    "print(N_eps)"
   ]
  },
  {
   "cell_type": "markdown",
   "id": "f8c49685",
   "metadata": {},
   "source": [
    "Строим рисунок из 4-х графиков, по два в каждом столбце и каждой строке.<br>\n",
    "Масштаб верхних задается автоматически, масштаб нижних задаем сами для укрупнения графика. <br>\n",
    "На левых рисуем графики абсолютной погрешности, на правых графики относительной погрешности.<br>\n",
    "\n",
    "Задаем легенду у каждного графика.\n",
    "Задаем ограничение по оси у для рассмотрения нужной части графика (увеличение масштаба)."
   ]
  },
  {
   "cell_type": "code",
   "execution_count": 9,
   "id": "0e074d49",
   "metadata": {},
   "outputs": [
    {
     "data": {
      "text/plain": [
       "[(0.0, 1e-14)]"
      ]
     },
     "execution_count": 9,
     "metadata": {},
     "output_type": "execute_result"
    },
    {
     "data": {
      "image/png": "[encoded data removed]",
      "text/plain": [
       "<Figure size 720x360 with 4 Axes>"
      ]
     },
     "metadata": {
      "needs_background": "light"
     },
     "output_type": "display_data"
    }
   ],
   "source": [
    "#Рисунок из 4-х графиков\n",
    "fig, axs=plt.subplots(2,2, figsize=(10, 5))\n",
    "axs[0][0].plot(x_data, AbsP(x_data, N_eps),\n",
    "               label=f'$\\Delta S(x, {N_eps})$')\n",
    "axs[0][1].plot(x_data, OtnP(x_data, N_eps),\n",
    "                           label=f'$\\delta S(x, {N_eps})$')\n",
    "\n",
    "axs[1][0].plot(x_data, AbsP(x_data, N_eps),\n",
    "               label=f'$\\Delta S(x, {N_eps})$')\n",
    "axs[1][1].plot(x_data, OtnP(x_data, N_eps),\n",
    "                           label=f'$\\delta S(x, {N_eps})$')\n",
    "\n",
    "axs[0][0].legend()\n",
    "axs[0][1].legend()\n",
    "axs[1][0].legend()\n",
    "axs[1][1].legend()\n",
    "\n",
    "\n",
    "axs[1][0].set(ylim=(0.0, 10E-14))\n",
    "axs[1][1].set(ylim=(0.0, 10E-15))\n"
   ]
  },
  {
   "cell_type": "markdown",
   "id": "c6635de6",
   "metadata": {},
   "source": [
    "Определяем функцию для округления до 4-х разрядов.<br>\n",
    "Проверяем работоспособность функции."
   ]
  },
  {
   "cell_type": "code",
   "execution_count": 10,
   "id": "54053f88",
   "metadata": {},
   "outputs": [
    {
     "name": "stdout",
     "output_type": "stream",
     "text": [
      "111111111111 111110000000.0\n",
      "1.11111111111e-07 1.1111e-07\n"
     ]
    }
   ],
   "source": [
    "def Roundf(x):\n",
    "    return np.float64(np.format_float_scientific(x, precision=4))\n",
    "print(111111111111, Roundf(111111111111))\n",
    "print(0.000000111111111111, Roundf(0.000000111111111111))"
   ]
  },
  {
   "cell_type": "markdown",
   "id": "a9f5c69a",
   "metadata": {},
   "source": [
    "Применяем функцию округления в функции для округленной частичной суммы, абсолютной и относительной погрешностей. "
   ]
  },
  {
   "cell_type": "code",
   "execution_count": 11,
   "id": "a8bb1f6f",
   "metadata": {},
   "outputs": [],
   "source": [
    "#Функция для вычисления округленной суммы\n",
    "def Sn_r(x, N):\n",
    "    nf = 2\n",
    "    S=nx(x, 0, nf)\n",
    "    for i in range(1, N-1):\n",
    "        nf *= (i + 2)\n",
    "        S=S + Roundf(nx(x, i, nf))\n",
    "    return S\n",
    "\n",
    "def Sn_R(x, N):\n",
    "    res=x.copy()\n",
    "    for i in range(len(x)):\n",
    "        res[i] = Sn_r(x[i], N)\n",
    "    return res\n",
    "\n",
    "#Функци абсолютной и относительной погрешностей\n",
    "def AbsP_R(x, N):\n",
    "    return np.abs(Sn_R(x,N)-F(x))\n",
    "\n",
    "def OtnP_R(x,N):\n",
    "            return AbsP_R(x,N)/np.abs(Sn_R(x,N))"
   ]
  },
  {
   "cell_type": "markdown",
   "id": "4976c216",
   "metadata": {},
   "source": [
    "Создаем рисунок из 4-х графиков, аналогично предыдущим 4-м с тем различием, что теперь строим графики округленных погрешностей"
   ]
  },
  {
   "cell_type": "code",
   "execution_count": 12,
   "id": "477e418d",
   "metadata": {},
   "outputs": [
    {
     "data": {
      "text/plain": [
       "[(0.0, 0.001)]"
      ]
     },
     "execution_count": 12,
     "metadata": {},
     "output_type": "execute_result"
    },
    {
     "data": {
      "image/png": "[encoded data removed]",
      "text/plain": [
       "<Figure size 720x360 with 4 Axes>"
      ]
     },
     "metadata": {
      "needs_background": "light"
     },
     "output_type": "display_data"
    }
   ],
   "source": [
    "fig, axs=plt.subplots(2,2, figsize=(10, 5))\n",
    "axs[0][0].plot(x_data, AbsP_R(x_data, N_eps),\n",
    "               label=f'$\\Delta S(x, {N_eps})$')\n",
    "axs[0][1].plot(x_data, OtnP_R(x_data, N_eps),\n",
    "                           label=f'$\\delta S(x, {N_eps})$')\n",
    "\n",
    "axs[1][0].plot(x_data, AbsP_R(x_data, N_eps),\n",
    "               label=f'$\\Delta S(x, {N_eps})$')\n",
    "axs[1][1].plot(x_data, OtnP_R(x_data, N_eps),\n",
    "                           label=f'$\\delta S(x, {N_eps})$')\n",
    "\n",
    "axs[0][0].legend()\n",
    "axs[0][1].legend()\n",
    "axs[1][0].legend()\n",
    "axs[1][1].legend()\n",
    "\n",
    "\n",
    "axs[1][0].set(ylim=(0.0, 10E-3))\n",
    "axs[1][1].set(ylim=(0.0, 10E-4))"
   ]
  },
  {
   "cell_type": "markdown",
   "id": "3b428486",
   "metadata": {},
   "source": [
    "Различия в графиках видно невооруженным глазом."
   ]
  },
  {
   "cell_type": "markdown",
   "id": "5a8a1857",
   "metadata": {},
   "source": [
    "# Задача 1.3\n",
    "\n",
    "$f(a,b,c)=(a/b^2)+c$\n",
    "\n",
    "$a=12.45;$\n",
    "\n",
    "$b=11.98;$\n",
    "\n",
    "$c=8.6;$\n",
    "\n",
    "По условию:\n",
    "\n",
    "$\\Delta(a)=0.01$\n",
    "\n",
    "$\\Delta(b)=0.01$\n",
    "\n",
    "$\\Delta(c)=0.1$\n",
    "\n",
    "Посчитаем относительные погрешности для чисел a, b, c:"
   ]
  },
  {
   "cell_type": "code",
   "execution_count": 13,
   "id": "b3ba4e38",
   "metadata": {},
   "outputs": [
    {
     "name": "stdout",
     "output_type": "stream",
     "text": [
      "F=8.686747249868311\n",
      "d(a)=0.0008032128514056225\n",
      "d(b)=0.0008347245409015025\n",
      "d(c)=0.011627906976744188\n"
     ]
    }
   ],
   "source": [
    "A=12.45\n",
    "B=11.98\n",
    "C=8.6\n",
    "\n",
    "f=(A/(B**2)+C)\n",
    "print(f'F={f}')\n",
    "\n",
    "Da=0.01\n",
    "Db=0.01\n",
    "Dc=0.1\n",
    "\n",
    "da=Da/A\n",
    "print(f'd(a)={da}')\n",
    "\n",
    "db=Db/B\n",
    "print(f'd(b)={db}')\n",
    "\n",
    "dc=Dc/C\n",
    "print(f'd(c)={dc}')\n"
   ]
  },
  {
   "cell_type": "markdown",
   "id": "2872c1e0",
   "metadata": {},
   "source": [
    "Вычислим относительную погрешность выражения $(a/b^2)$.\n",
    "\n",
    "Т.к. $\\delta(a), \\delta(b) <=0.01$, то \n",
    "\n",
    "$\\delta(a/b^2)=\\delta(a)+\\delta(b^2)=\\delta(a)+2*\\delta(b)$\n",
    "\n",
    "$\\delta(x+y)<=max(\\delta(x), \\delta(y))$"
   ]
  },
  {
   "cell_type": "code",
   "execution_count": 14,
   "id": "910ccb61",
   "metadata": {},
   "outputs": [
    {
     "name": "stdout",
     "output_type": "stream",
     "text": [
      "Относительная погрешность функции, используя оценки погрешности для арифметических операций: 0.011627906976744188\n",
      "Абсолютная погрешность функции, используя оценки погрешности для арифметических операций: 0.10100868895195712\n"
     ]
    }
   ],
   "source": [
    "dab=da+2*db\n",
    "df1=0\n",
    "if dab>dc:\n",
    "    df1=dab\n",
    "else:\n",
    "    df1=dc\n",
    "\n",
    "Df1=(A/(B**2)+C)*df1\n",
    "print(f'Относительная погрешность функции, используя оценки погрешности для арифметических операций: {df1}')\n",
    "print(f'Абсолютная погрешность функции, используя оценки погрешности для арифметических операций: {Df1}')"
   ]
  },
  {
   "cell_type": "markdown",
   "id": "81c1dfea",
   "metadata": {},
   "source": [
    "$\\Delta(f(x_1,x_2,x_3))=|df/dx_1|\\Delta(x_1)+|df/dx_2|\\Delta(x_2)+ |df/dx_3|\\Delta(x_3)$, где $df/dx_i$ -- частная производная функции по переменной $x_i$\n",
    "\n",
    "$df/da=1/b^2$\n",
    "\n",
    "$df/db=-2*a*/b^3$\n",
    "\n",
    "$df/dc= 1$"
   ]
  },
  {
   "cell_type": "code",
   "execution_count": 15,
   "id": "e3a3efad",
   "metadata": {},
   "outputs": [
    {
     "name": "stdout",
     "output_type": "stream",
     "text": [
      "Относительная погрешность функции, используя общую формулу погрешностей: 0.011536481232843414\n",
      "Абсолютная погрешность функции, используя общую формулу погрешностей: 0.10021449662255992\n"
     ]
    }
   ],
   "source": [
    "Df2=abs(1/B**2)*Da+abs((-2*A)/B**3)*Db+abs(1)*Dc\n",
    "\n",
    "df2=Df2/(A/(B**2)+C)\n",
    "print(f'Относительная погрешность функции, используя общую формулу погрешностей: {df2}')\n",
    "print(f'Абсолютная погрешность функции, используя общую формулу погрешностей: {Df2}')"
   ]
  },
  {
   "cell_type": "markdown",
   "id": "9cbc09b8",
   "metadata": {},
   "source": [
    "Выводим округленные до 2-х значащих цифр:"
   ]
  },
  {
   "cell_type": "code",
   "execution_count": 16,
   "id": "8516c891",
   "metadata": {},
   "outputs": [
    {
     "name": "stdout",
     "output_type": "stream",
     "text": [
      "Df1: 0.1\n",
      "df1: 0.012\n",
      "Df2: 0.1\n",
      "df2: 0.012\n"
     ]
    }
   ],
   "source": [
    "print(f'Df1: {Df1:.2}')\n",
    "print(f'df1: {df1:.2}')\n",
    "print(f'Df2: {Df2:.2}')\n",
    "print(f'df2: {df2:.2}')"
   ]
  },
  {
   "cell_type": "markdown",
   "id": "10515cf4",
   "metadata": {},
   "source": [
    "$F(a,b,c)= 8.7 \\pm 0.1$ <br>\n",
    "$F(a,b,c)= 8.7$"
   ]
  },
  {
   "cell_type": "code",
   "execution_count": null,
   "id": "de70870c",
   "metadata": {},
   "outputs": [],
   "source": []
  }
 ],
 "metadata": {
  "kernelspec": {
   "display_name": "Python 3 (ipykernel)",
   "language": "python",
   "name": "python3"
  },
  "language_info": {
   "codemirror_mode": {
    "name": "ipython",
    "version": 3
   },
   "file_extension": ".py",
   "mimetype": "text/x-python",
   "name": "python",
   "nbconvert_exporter": "python",
   "pygments_lexer": "ipython3",
   "version": "3.9.7"
  }
 },
 "nbformat": 4,
 "nbformat_minor": 5
}
