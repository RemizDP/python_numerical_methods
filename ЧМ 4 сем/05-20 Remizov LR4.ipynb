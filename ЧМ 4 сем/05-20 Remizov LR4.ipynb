{
 "cells": [
  {
   "cell_type": "markdown",
   "id": "fffc3865",
   "metadata": {},
   "source": [
    "### Ремизов Дмитрий А-05-20\n",
    "# ЛАБОРАТОРНАЯ РАБОТА №4 <br> <br>\n"
   ]
  },
  {
   "cell_type": "code",
   "execution_count": 1,
   "id": "60f17d61",
   "metadata": {},
   "outputs": [],
   "source": [
    "import numpy as np\n",
    "import matplotlib.pyplot as plt\n",
    "import pandas as pd"
   ]
  },
  {
   "cell_type": "markdown",
   "id": "bb96fab8",
   "metadata": {},
   "source": [
    "**Задача 4.1**\n",
    "\n",
    "Приведены данные о численности населения некоторых крупнейших стран мира по годам с $1950$ -$2000$ г.г. Заполнить последние два столбца таблицы (взять сведения из интернета).  На основе этих данных для конкретного варианта построить наилучший многочлен  по МНК.  Найти численность  населения страны  в $2019$ году  и сравнить полученное значение  с актуальным значением  (взять из интернета).\n",
    "Решить ту же  задачу на основе интерполяционного многочлена.  То есть построить интерполяционный многочлен по значениям с $1950$-$2020$ г.г. Вычислить значение  для $2019$ года и сравнить с актуальными данными.  Составить отчет по задаче."
   ]
  },
  {
   "cell_type": "markdown",
   "id": "fbaea5ef",
   "metadata": {},
   "source": [
    "Создаем массивы данных населения Южной Африки в соответствующие года"
   ]
  },
  {
   "cell_type": "code",
   "execution_count": 2,
   "id": "3c939d40",
   "metadata": {},
   "outputs": [],
   "source": [
    "SAR = [155, 210, 285, 375, 510, 650, 770, 860]\n",
    "Years = [1950, 1960, 1970, 1980, 1990, 2000, 2010, 2020]"
   ]
  },
  {
   "cell_type": "markdown",
   "id": "1a444851",
   "metadata": {},
   "source": [
    "Для решения задачи методом наименьших квадратов реализуем функции расчета сумм $S_i$ и $B_i$. Так же реализуем функцию решения СЛАУ полученной из вычисленных коэффициентов."
   ]
  },
  {
   "cell_type": "code",
   "execution_count": 3,
   "id": "e731fc42",
   "metadata": {},
   "outputs": [],
   "source": [
    "def SInput(years):\n",
    "    n = 8\n",
    "    s = [0]*(n*2 - 1)\n",
    "    for i in range(n*2 - 1):\n",
    "        for j in range(n):\n",
    "            s[i] = s[i] + years[j]**i\n",
    "    return s\n",
    "\n",
    "def BInput(years, people):\n",
    "    n = 8\n",
    "    b = [0] * n\n",
    "    for i in range(n):\n",
    "        for j in range(n):\n",
    "            b[i] = b[i] + people[j]*(years[j])**i\n",
    "    return b\n",
    "\n",
    "def MNK(s, b, n):\n",
    "    a = [0] * n\n",
    "    y = [0] * n\n",
    "    A = [ [0]*n for i in range(n) ]\n",
    "    for i in range(n):\n",
    "        for j in range(n):\n",
    "            A[i][j] = s[i + j]\n",
    "    for k in range(n - 1):\n",
    "        for i in range(k + 1, n):\n",
    "            mu = A[i][k]/A[k][k]\n",
    "            for j in range(k, n):\n",
    "                A[i][j] = A[i][j] - mu*A[k][j]\n",
    "            A[i][k] = mu\n",
    "    for i in range(n):\n",
    "        y[i] = b[i]\n",
    "        for j in range(i):\n",
    "            y[i] = y[i] - y[j] * A[i][j]\n",
    "    for i in range(n - 1, -1 , -1):\n",
    "        a[i] = y[i]/A[i][i]\n",
    "        for j in range(n - 1, i, -1):\n",
    "            a[i] = a[i] - (a[j] * A[i][j] / A[i][i])\n",
    "    return a"
   ]
  },
  {
   "cell_type": "markdown",
   "id": "27dbf2cd",
   "metadata": {},
   "source": [
    "Вычисляем коэффициенты многочлена"
   ]
  },
  {
   "cell_type": "code",
   "execution_count": 4,
   "id": "74866abe",
   "metadata": {},
   "outputs": [
    {
     "name": "stdout",
     "output_type": "stream",
     "text": [
      "[-66098168.547607824, 35403.28853307187, 45.98756620068738, -0.023062905565889608, -1.0627560471387064e-05, 3.2272966391951075e-09, 2.494725323497866e-12, -7.582010070271443e-16]\n"
     ]
    }
   ],
   "source": [
    "s = SInput(Years)\n",
    "b = BInput(Years, SAR)\n",
    "a = MNK(s, b, 8)\n",
    "print(a)"
   ]
  },
  {
   "cell_type": "markdown",
   "id": "56f93ea2",
   "metadata": {},
   "source": [
    "Функция расчета населения в заданном году для данных коэффициентов"
   ]
  },
  {
   "cell_type": "code",
   "execution_count": 5,
   "id": "17b997a1",
   "metadata": {},
   "outputs": [
    {
     "data": {
      "text/plain": [
       "853.8057630807161"
      ]
     },
     "execution_count": 5,
     "metadata": {},
     "output_type": "execute_result"
    }
   ],
   "source": [
    "def FindPeople(a, year, n):\n",
    "    people = 0\n",
    "    for i in range(n):\n",
    "        people = people + a[i] * year**i\n",
    "    return people\n",
    "\n",
    "FindPeople(a, 2019, 8)"
   ]
  },
  {
   "cell_type": "markdown",
   "id": "44536016",
   "metadata": {},
   "source": [
    "Население Южной Африке в 2019 году составило 853 млн. Функция нашла ответ довольно точно <br> <br>\n",
    "Надем наилучий многочлен МНК с помощью погрешность. Выберем тот многочлен, который выдает наименьшую погрешность"
   ]
  },
  {
   "cell_type": "code",
   "execution_count": 6,
   "id": "420c1419",
   "metadata": {},
   "outputs": [
    {
     "name": "stdout",
     "output_type": "stream",
     "text": [
      "[536.7814965141775, 246.42363801997567, 30.407084270109223, 19.510852444098365, 7.642495550912246, 7.119913535386948, 20.955544773307015, 8.573422340452828]\n"
     ]
    },
    {
     "data": {
      "text/plain": [
       "5"
      ]
     },
     "execution_count": 6,
     "metadata": {},
     "output_type": "execute_result"
    }
   ],
   "source": [
    "def Pogr(people, years):\n",
    "    n = 8\n",
    "    q = [0] * n\n",
    "    for i in range(n):\n",
    "        a = MNK(s, b, i)\n",
    "        for j in range(n):\n",
    "            q[i] = q[i] + (people[j] - FindPeople(a, years[j], i))**2\n",
    "        q[i] = np.sqrt(q[i]/n)\n",
    "    MinPogr = q[0]\n",
    "    IndexOfMin = 0\n",
    "    print(q)\n",
    "    for i in range(n):\n",
    "        if MinPogr > q[i]:\n",
    "            MinPogr = q[i]\n",
    "            IndexOfMin = i\n",
    "    return IndexOfMin\n",
    "\n",
    "Pogr(SAR, Years)"
   ]
  },
  {
   "cell_type": "markdown",
   "id": "c59553ca",
   "metadata": {},
   "source": [
    "Многочлен пятой степени - наилучший"
   ]
  },
  {
   "cell_type": "code",
   "execution_count": 7,
   "id": "319b4a0c",
   "metadata": {},
   "outputs": [
    {
     "name": "stdout",
     "output_type": "stream",
     "text": [
      "160.37474656105042 -- 155\n",
      "200.395102314651 -- 210\n",
      "279.8296252563596 -- 285\n",
      "388.07146394252777 -- 375\n",
      "513.5623080283403 -- 510\n",
      "\n",
      "\n"
     ]
    },
    {
     "data": {
      "text/plain": [
       "855.308028653264"
      ]
     },
     "execution_count": 7,
     "metadata": {},
     "output_type": "execute_result"
    }
   ],
   "source": [
    "n = 5\n",
    "a = MNK(s, b, n)\n",
    "for i in range(n):\n",
    "    print(FindPeople(a, Years[i], n), \"--\" , SAR[i])\n",
    "\n",
    "print('\\n')    \n",
    "FindPeople(a, 2019, 5)"
   ]
  },
  {
   "cell_type": "markdown",
   "id": "6d84329a",
   "metadata": {},
   "source": [
    "Функция интерполяции"
   ]
  },
  {
   "cell_type": "code",
   "execution_count": 8,
   "id": "d4ed2a8f",
   "metadata": {},
   "outputs": [
    {
     "name": "stdout",
     "output_type": "stream",
     "text": [
      "[638236348983136.0, -2248892331742.508, 3395995243.1741886, -2848925.2927274853, 1433.9512924629298, -0.43303909660253675, 7.264997165850594e-05, -5.223422583159556e-09] \n",
      "\n"
     ]
    },
    {
     "data": {
      "text/plain": [
       "857.0"
      ]
     },
     "execution_count": 8,
     "metadata": {},
     "output_type": "execute_result"
    }
   ],
   "source": [
    "def Inter(people, years, n):\n",
    "    a = [0] * n\n",
    "    y = [0] * n\n",
    "    A = [ [0]*n for i in range(n) ]\n",
    "    for i in range(n):\n",
    "        for j in range(n):\n",
    "            A[i][j] = (years[i])**j\n",
    "    for k in range(n - 1):\n",
    "        for i in range(k + 1, n):\n",
    "            mu = A[i][k]/A[k][k]\n",
    "            for j in range(k, n):\n",
    "                A[i][j] = A[i][j] - mu*A[k][j]\n",
    "            A[i][k] = mu\n",
    "    for i in range(n):\n",
    "        y[i] = people[i]\n",
    "        for j in range(i):\n",
    "            y[i] = y[i] - y[j] * A[i][j]\n",
    "    for i in range(n - 1, -1 , -1):\n",
    "        a[i] = y[i]/A[i][i]\n",
    "        for j in range(n - 1, i, -1):\n",
    "            a[i] = a[i] - (a[j] * A[i][j] / A[i][i])\n",
    "    return a\n",
    "\n",
    "a = Inter(SAR, Years, 8)\n",
    "print(a, '\\n')\n",
    "\n",
    "FindPeople(a, 2019, 8)"
   ]
  },
  {
   "cell_type": "markdown",
   "id": "3c5b5fbc",
   "metadata": {},
   "source": [
    "**ВЫВОД: Многочлены МНК и интерполяции позволяют довольно точно находить зависимость между двумя переменными основываясь на небольшом объеме данных.**"
   ]
  },
  {
   "cell_type": "markdown",
   "id": "23a60ed3",
   "metadata": {},
   "source": [
    "**Задача 4.2**\n",
    "\n",
    "Дана функция $y = f(x)$ . Приблизить функцию  методом интерполяции, используя многочлен Лагранжа. Степень многочлена $N$ подобрать таким образом, чтобы максимальная величина погрешности на отрезке $[a, b]$ не превышала заданной величины $e$. Построить графики многочленов и графики погрешностей .Приблизить функцию  методом интерполяции, указанным в  индивидуальном варианте. Сравнить полученные результаты. "
   ]
  },
  {
   "cell_type": "markdown",
   "id": "b31b5ba8",
   "metadata": {},
   "source": [
    "$y = \\frac{cos(3x)}{x}$ <br><br>\n",
    "Вносим данные: $[a, b] = [2, 4]$, $e = 0.005$. Так же реализуем функцию расчета значений функции в тачках данного разбиения."
   ]
  },
  {
   "cell_type": "code",
   "execution_count": 9,
   "id": "6ccad2ac",
   "metadata": {},
   "outputs": [],
   "source": [
    "n = 10\n",
    "m = n + 1\n",
    "eps = 0.005\n",
    "a = 2\n",
    "b = 4\n",
    "ba = b - a\n",
    "def XY(n):\n",
    "    otr = ba / n\n",
    "    X = [0] * m\n",
    "    for i in range(m):\n",
    "        X[i] = 3 + i*otr\n",
    "    Y = [0]*m\n",
    "    for i in range(m):\n",
    "        Y[i] = F(X[i])\n",
    "    return X, Y\n",
    "\n",
    "def F(x):\n",
    "    return x**(-1) * np.cos(3*x)\n",
    "X, Y = XY(n)"
   ]
  },
  {
   "cell_type": "markdown",
   "id": "a037dac6",
   "metadata": {},
   "source": [
    "Результаты вносим в таблицу:"
   ]
  },
  {
   "cell_type": "code",
   "execution_count": 10,
   "id": "1faefc63",
   "metadata": {},
   "outputs": [
    {
     "data": {
      "text/html": [
       "<div>\n",
       "<style scoped>\n",
       "    .dataframe tbody tr th:only-of-type {\n",
       "        vertical-align: middle;\n",
       "    }\n",
       "\n",
       "    .dataframe tbody tr th {\n",
       "        vertical-align: top;\n",
       "    }\n",
       "\n",
       "    .dataframe thead th {\n",
       "        text-align: right;\n",
       "    }\n",
       "</style>\n",
       "<table border=\"1\" class=\"dataframe\">\n",
       "  <thead>\n",
       "    <tr style=\"text-align: right;\">\n",
       "      <th></th>\n",
       "      <th>x</th>\n",
       "      <th>y</th>\n",
       "    </tr>\n",
       "  </thead>\n",
       "  <tbody>\n",
       "    <tr>\n",
       "      <th>0</th>\n",
       "      <td>3.0</td>\n",
       "      <td>-0.303710</td>\n",
       "    </tr>\n",
       "    <tr>\n",
       "      <th>1</th>\n",
       "      <td>3.2</td>\n",
       "      <td>-0.307715</td>\n",
       "    </tr>\n",
       "    <tr>\n",
       "      <th>2</th>\n",
       "      <td>3.4</td>\n",
       "      <td>-0.210078</td>\n",
       "    </tr>\n",
       "    <tr>\n",
       "      <th>3</th>\n",
       "      <td>3.6</td>\n",
       "      <td>-0.053981</td>\n",
       "    </tr>\n",
       "    <tr>\n",
       "      <th>4</th>\n",
       "      <td>3.8</td>\n",
       "      <td>0.103550</td>\n",
       "    </tr>\n",
       "    <tr>\n",
       "      <th>5</th>\n",
       "      <td>4.0</td>\n",
       "      <td>0.210963</td>\n",
       "    </tr>\n",
       "    <tr>\n",
       "      <th>6</th>\n",
       "      <td>4.2</td>\n",
       "      <td>0.237961</td>\n",
       "    </tr>\n",
       "    <tr>\n",
       "      <th>7</th>\n",
       "      <td>4.4</td>\n",
       "      <td>0.183155</td>\n",
       "    </tr>\n",
       "    <tr>\n",
       "      <th>8</th>\n",
       "      <td>4.6</td>\n",
       "      <td>0.071916</td>\n",
       "    </tr>\n",
       "    <tr>\n",
       "      <th>9</th>\n",
       "      <td>4.8</td>\n",
       "      <td>-0.054129</td>\n",
       "    </tr>\n",
       "    <tr>\n",
       "      <th>10</th>\n",
       "      <td>5.0</td>\n",
       "      <td>-0.151938</td>\n",
       "    </tr>\n",
       "  </tbody>\n",
       "</table>\n",
       "</div>"
      ],
      "text/plain": [
       "      x         y\n",
       "0   3.0 -0.303710\n",
       "1   3.2 -0.307715\n",
       "2   3.4 -0.210078\n",
       "3   3.6 -0.053981\n",
       "4   3.8  0.103550\n",
       "5   4.0  0.210963\n",
       "6   4.2  0.237961\n",
       "7   4.4  0.183155\n",
       "8   4.6  0.071916\n",
       "9   4.8 -0.054129\n",
       "10  5.0 -0.151938"
      ]
     },
     "execution_count": 10,
     "metadata": {},
     "output_type": "execute_result"
    }
   ],
   "source": [
    "T1 = pd.DataFrame({'x' : X, 'y' : Y})\n",
    "T1"
   ]
  },
  {
   "cell_type": "markdown",
   "id": "ba5013ec",
   "metadata": {},
   "source": [
    "Разбираемся с многочленом Лагранжа. Реализуем расчетную функцию.<br>\n",
    "Подберем степень многочлена, чтобы погрешность удовлетворяла eps"
   ]
  },
  {
   "cell_type": "code",
   "execution_count": 11,
   "id": "08317ff4",
   "metadata": {},
   "outputs": [
    {
     "name": "stdout",
     "output_type": "stream",
     "text": [
      "Степень многочлена, удовлетворяющая погрешности =  2\n"
     ]
    },
    {
     "name": "stderr",
     "output_type": "stream",
     "text": [
      "C:\\Users\\DD69~1\\AppData\\Local\\Temp/ipykernel_25372/248922654.py:15: RuntimeWarning: divide by zero encountered in double_scalars\n",
      "  return np.cos(3*x) / x\n"
     ]
    }
   ],
   "source": [
    "def LAGR(xn,yn,t):\n",
    "    sum=0\n",
    "    for j in range(len(yn)):\n",
    "        p1=1; p2=1\n",
    "        for i in range(len(xn)):\n",
    "            if i==j:\n",
    "                p1=p1*1; p2=p2*1   \n",
    "            else: \n",
    "                p1=p1*(t-xn[i])\n",
    "                p2=p2*(xn[j]-xn[i])\n",
    "        sum += yn[j]*p1/p2\n",
    "    return sum\n",
    "\n",
    "def F(x):\n",
    "    return np.cos(3*x) / x\n",
    "\n",
    "def poisk():\n",
    "    i = 0\n",
    "    x1 = np.linspace(2, 4, 100)\n",
    "    y1 = [F(i) for i in x1]\n",
    "    eps = 0.001\n",
    "    x2 = np.linspace(2, 4, 100)\n",
    "    while (abs(F(i) - LAGR(x1,y1,i)) >= eps):\n",
    "        x1 = np.linspace(2, 4, 100)\n",
    "        y1 = [F(i) for i in x1]\n",
    "        i += 1\n",
    "    return i\n",
    "          \n",
    "print(\"Степень многочлена, удовлетворяющая погрешности = \", poisk())"
   ]
  },
  {
   "cell_type": "markdown",
   "id": "25444001",
   "metadata": {},
   "source": [
    "Погрешность многочлена Лагранжа"
   ]
  },
  {
   "cell_type": "code",
   "execution_count": 12,
   "id": "f2d619c0",
   "metadata": {},
   "outputs": [
    {
     "name": "stdout",
     "output_type": "stream",
     "text": [
      "Погрешности в узлах =  [0.0, 0.0, 0.0, 5.551115123125783e-17, 0.0, 0.0, 0.0, 0.0, 0.0, 0.0, 0.0, 0.0, 0.0, 0.0, 0.0, 0.0, 0.0, 0.0, 0.0, 0.0, 0.0, 2.7755575615628914e-17, 2.7755575615628914e-17, 0.0, 0.0, 0.0, 0.0, 0.0, 6.938893903907228e-18, 0.0, 0.0, 0.0, 0.0, 0.0, 0.0, 1.3877787807814457e-17, 0.0, 0.0, 0.0, 0.0, 0.0, 2.7755575615628914e-17, 0.0, 0.0, 0.0, 0.0, 0.0, 0.0, 0.0, 0.0, 0.0, 0.0, 0.0, 0.0, 0.0, 0.0, 0.0, 0.0, 0.0, 0.0, 0.0, 0.0, 0.0, 0.0, 0.0, 0.0, 0.0, 2.7755575615628914e-17, 0.0, 2.7755575615628914e-17, 0.0, 0.0, 0.0, 0.0, 0.0, 1.3877787807814457e-17, 0.0, 1.3877787807814457e-17, 0.0, 6.938893903907228e-18, 0.0, 0.0, 0.0, 0.0, 0.0, 0.0, 0.0, 0.0, 0.0, 0.0, 1.3877787807814457e-17, 0.0, 0.0, 0.0, 0.0, 0.0, 0.0, 2.7755575615628914e-17, 0.0, 0.0]\n"
     ]
    }
   ],
   "source": [
    "def poisk3():\n",
    "    x3 = np.linspace(2, 4, 100)\n",
    "    y3 = [F(i) for i in x3]\n",
    "    ans = [abs(F(i) - LAGR(x3, y3, i)) for i in x3]\n",
    "    return ans\n",
    "\n",
    "print(\"Погрешности в узлах = \", poisk3())"
   ]
  },
  {
   "cell_type": "markdown",
   "id": "506379c8",
   "metadata": {},
   "source": [
    "Разбираемся с Крвадратичным сплайном с дополнительным условием $y'(a) = f'(a)$. Реализуем расчетную функцию, возвращающую матрицу коэффициентов, функцию расчета значения многочлена в данной точке, и функцию расчета погрешности"
   ]
  },
  {
   "cell_type": "code",
   "execution_count": 13,
   "id": "91bd5e1f",
   "metadata": {},
   "outputs": [
    {
     "name": "stdout",
     "output_type": "stream",
     "text": [
      "Погрешность в каждом узле =  [1.482147737874584e-14, 1.3322676295501878e-15, 1.0935696792557792e-14, 2.4424906541753444e-15, 1.0269562977782698e-14, 7.66053886991358e-15, 1.815214645262131e-14, 2.603472992745992e-14, 2.3814283878209608e-14, 6.439293542825908e-15, 2.1371793224034263e-14, 5.856426454897701e-14, 1.1102230246251565e-16, 1.326716514427062e-14, 5.162537064506978e-15, 2.325917236589703e-14, 2.2037927038809357e-14, 2.919886554764162e-14, 3.1807889655510735e-14, 8.1601392309949e-15, 1.0907941216942163e-14, 1.7208456881689926e-15, 2.4924506902834764e-14, 5.5289106626332796e-14, 5.498379529456088e-14, 3.4916514124461173e-14, 1.5709655798445965e-14, 5.523359547510154e-14, 2.7824964554667986e-15, 5.495603971894525e-14, 3.008183979691381e-14, 2.7868332641567406e-14, 1.7819079545233762e-14, 1.3079815008865125e-14, 5.7870375158586285e-15, 4.6351811278100286e-15, 4.489464355827977e-14, 6.711298183859071e-14, 2.245426067304379e-14, 3.502753642692369e-14, 8.537615059367454e-14, 1.8485213360008856e-14, 1.2109757641098895e-13, 5.6343818499726694e-15, 2.3869795029440866e-15, 9.880984919163893e-15, 2.3814283878209608e-14, 2.609024107869118e-15, 1.5931700403370996e-14, 1.2218004385999848e-13, 9.9253938401489e-14, 9.320322291728189e-14, 5.828670879282072e-14, 9.431344594190705e-14, 7.677192215282957e-14, 1.3489209749195652e-14, 7.888134589961737e-14, 3.069766663088558e-14, 6.600275881396556e-14, 2.4591439995447217e-14, 1.000310945187266e-13, 6.494804694057166e-15, 6.766809335090329e-14, 4.0745185003743245e-14, 8.165690346118026e-14, 2.581268532253489e-14, 3.7969627442180354e-14, 6.2727600891321345e-15, 8.515410598874951e-14, 6.050715484207103e-15, 1.5154544286133387e-14, 2.225997164373439e-14, 1.0907941216942163e-14, 1.1796119636642288e-14, 8.021361352916756e-14, 2.3744894939170536e-14, 2.868538739875248e-14, 5.843936445870668e-14, 1.0583200982239305e-13, 3.013561622466909e-14, 8.625045122556685e-15, 5.281886039654182e-14, 1.3994881642442891e-14, 3.406996906818449e-15, 4.036354583902835e-14, 5.627442956068762e-14, 6.183248357771731e-14, 1.806610416821286e-13, 5.084821452783217e-14, 6.326883461582611e-14, 9.811595980124821e-14, 1.6256440638073855e-13, 1.4854784069484595e-13, 5.08759701034478e-14, 1.4843681839238343e-13, 5.601075159233915e-14, 9.489631302983526e-14, 1.199040866595169e-13, 3.938516179857743e-14, 4.182765245275277e-14]\n"
     ]
    }
   ],
   "source": [
    "x2 = np.linspace(2, 4, 100)\n",
    "\n",
    "def F_proizv(x):\n",
    "    return (-np.sin(x)*x+np.cos(x))/x**2\n",
    "\n",
    "def Spline(x, y):\n",
    "    buf = []\n",
    "    A = np.zeros((3,3))\n",
    "    b = np.zeros(3)\n",
    "    for i in range(len(x) - 1):\n",
    "        for j in range(3):\n",
    "            A[0][j] = x[i]**(2-j)\n",
    "            A[1][j] = x[i+1]**(2-j)\n",
    "        A[2][0] = 2 * x[i]\n",
    "        A[2][1] = 1\n",
    "        b[0] = y[i]\n",
    "        b[1] = y[i+1]\n",
    "        if i == 0:\n",
    "            b[2] = F_proizv(x[0])\n",
    "        else:\n",
    "            b[2] = 2 * buf[i-1][0] * x[i] + buf[i-1][1]\n",
    "        buf.append(np.linalg.solve(A, b))\n",
    "    return buf\n",
    "\n",
    "def solve(t, spl):\n",
    "    ans = 0\n",
    "    for i in range(len(x2) - 1):\n",
    "        if (t >= x2[i] and t <= x2[i+1]):\n",
    "            ans = spl[i][0] * t**2 + spl[i][1] * t + spl[i][2]\n",
    "    return ans\n",
    "        \n",
    "def poisk2():\n",
    "    x2 = np.linspace(2, 4, 100)\n",
    "    y2 = [F(i) for i in x2]\n",
    "    spl = Spline(x2,y2)\n",
    "    ans = [abs(F(i) - solve(i, spl)) for i in x2]\n",
    "    return ans\n",
    "                   \n",
    "print(\"Погрешность в каждом узле = \", poisk2())\n"
   ]
  },
  {
   "cell_type": "markdown",
   "id": "cdf25bd5",
   "metadata": {},
   "source": [
    "Графики погрешностей"
   ]
  },
  {
   "cell_type": "code",
   "execution_count": 25,
   "id": "c0c961e0",
   "metadata": {
    "scrolled": true
   },
   "outputs": [
    {
     "data": {
      "text/plain": [
       "<matplotlib.legend.Legend at 0x2bbdb830640>"
      ]
     },
     "execution_count": 25,
     "metadata": {},
     "output_type": "execute_result"
    },
    {
     "data": {
      "image/png": "[encoded data removed]",
      "text/plain": [
       "<Figure size 1080x360 with 1 Axes>"
      ]
     },
     "metadata": {
      "needs_background": "light"
     },
     "output_type": "display_data"
    }
   ],
   "source": [
    "err = poisk2()\n",
    "err_l = poisk3()\n",
    "length = np.linspace(2, 4, 100)\n",
    "fig, axs = plt.subplots(1,1, figsize = (15,5))\n",
    "axs.plot(length, err, label = \"Сплайн\")\n",
    "axs.plot(length, err_l, label = \"Лагранж\")\n",
    "axs.legend()"
   ]
  },
  {
   "cell_type": "markdown",
   "id": "b220bc75",
   "metadata": {},
   "source": [
    "Составим графики нашей функции и двух многочленов"
   ]
  },
  {
   "cell_type": "code",
   "execution_count": 15,
   "id": "76db205e",
   "metadata": {},
   "outputs": [
    {
     "name": "stdout",
     "output_type": "stream",
     "text": [
      "[0.480085143325183, 0.48278901125254814, 0.483684102619588, 0.48280298194652244, 0.48018334416739666, 0.4758678190321254, 0.4699037634647038, 0.46234304257344877, 0.4532418000411507, 0.4426602186524, 0.43066227174207233, 0.41731546637293887, 0.40269057907156036, 0.38686138497000494, 0.36990438121645236, 0.35189850553038066, 0.33292485078778283, 0.3130663765286962, 0.29240761828328116, 0.27103439561370485, 0.2490335197672839, 0.22649250183164496, 0.2034992622751837, 0.18014184274582434, 0.15650812098812325, 0.1326855297231126, 0.1087607803170429, 0.0848195920444555, 0.06094642772783054, 0.0372242365105232, 0.013734204491951845, -0.009444486075920524, -0.032234888363728176, -0.05456251267823007, -0.07635553771667115, -0.09754501080175722, -0.11806503657591123, -0.13785295367376765, -0.15684949893344566, -0.17499895874980304, -0.19224930721659905, -0.2085523307489822, -0.22386373892295128, -0.23814326131418392, -0.25135473016478943, -0.26346614875290164, -0.27444974538653816, -0.2842820129895384, -0.29294373429361714, -0.30041999269639913, -0.30670016889065743, -0.31177792341465876, -0.315651165317432, -0.3183220071757466, -0.3197967067415192, -0.32008559553908283, -0.31920299477118236, -0.3171671189305391, -0.31399996755026444, -0.3097272055611843, -0.30437803275715625, -0.29798504290062705, -0.29058407302990136, -0.2822140435567756, -0.2729167897682921, -0.26273688536926704, -0.2517214587229357, -0.23992000246544706, -0.22738417718599646, -0.2141676098780689, -0.2003256878785616, -0.1859153490203989, -0.170994868730691, -0.15562364481046373, -0.13986198063353122, -0.12377086750118349, -0.10741176688608815, -0.09084639329307559, -0.07413649845649037, -0.0573436575834006, -0.040529058339368006, -0.023753293258668623, -0.007076156243883463, 0.009443556199247492, 0.025748238366832647, 0.0417816627997928, 0.057489161187613276, 0.07281779818224673, 0.08771653759965292, 0.10213640051613805, 0.1160306147977352, 0.12935475563329304, 0.14206687667550644, 0.15412763142881516, 0.16550038455871963, 0.17615131283349766, 0.18604949544648722, 0.19516699350480685, 0.20347891850856895, 0.21096348968312303]\n"
     ]
    },
    {
     "data": {
      "text/plain": [
       "<matplotlib.legend.Legend at 0x2bbdb7cf8b0>"
      ]
     },
     "execution_count": 15,
     "metadata": {},
     "output_type": "execute_result"
    },
    {
     "data": {
      "image/png": "[encoded data removed]",
      "text/plain": [
       "<Figure size 1080x360 with 3 Axes>"
      ]
     },
     "metadata": {
      "needs_background": "light"
     },
     "output_type": "display_data"
    }
   ],
   "source": [
    "a1 = np.linspace(2, 4, 100)\n",
    "z1 = [F(i) for i in a1]\n",
    "z2 = []\n",
    "for i in a1:\n",
    "    z2.append(LAGR(a1, z1, i))\n",
    "spl2 = Spline(a1, z1)\n",
    "z3 = [solve(i, spl2) for i in a1]\n",
    "fig, axs = plt.subplots(1,3, figsize = (15,5))\n",
    "print(z2)\n",
    "axs[0].plot(a1, z1, label=\"F(x)\")\n",
    "axs[1].plot(a1, z2, label=\"Lagranz\")\n",
    "axs[2].plot(a1, z3, label=\"Spline\")\n",
    "axs[0].legend()\n",
    "axs[1].legend()\n",
    "axs[2].legend()"
   ]
  },
  {
   "cell_type": "markdown",
   "id": "6a46694d",
   "metadata": {},
   "source": [
    "Т.к. графики совпадают\n",
    "### ВЫВОД: интерполирующие многочлены находят точное значение в заданных точках разбиения, но на отрезках разбиения может быть погрешность. Погрешности Лагранжа и сплайна минимальны"
   ]
  },
  {
   "cell_type": "markdown",
   "id": "4f2c4206",
   "metadata": {},
   "source": [
    "**Задача 4.3**\n",
    "\n",
    "Задана функция $f(x)$, определенная на отрезке $[-1;1]$. Требуется разложить функцию в ряд Тейлора в окрестности нуля с точностью $e$ и произвести экономизацию полученного степенного ряда. <br><br>\n",
    "$F(x) = x^2e^{-x}$"
   ]
  },
  {
   "cell_type": "markdown",
   "id": "02e5d9e3",
   "metadata": {},
   "source": [
    "**F(x) - исходная функция, F_coef(i) - коэфиициэнт i-го элемента в разложении Тейлора, S(x, c) - сумма n членов ряда по коэффициенту c_n**"
   ]
  },
  {
   "cell_type": "code",
   "execution_count": 16,
   "id": "4d1295c6",
   "metadata": {},
   "outputs": [],
   "source": [
    "import math\n",
    "a = -1\n",
    "b = 1\n",
    "cnt = 100\n",
    "x = np.linspace(a, b, cnt)\n",
    "\n",
    "def F(x):\n",
    "    return x**2*np.exp(-x)\n",
    "\n",
    "def F_coef(i):\n",
    "    return 1/ math.factorial(i)\n",
    "\n",
    "def S(x, c):\n",
    "    sum = 0\n",
    "    for i in range(len(c)):\n",
    "        sum += x**2*((-x)**i) * F_coef(i)\n",
    "    return sum"
   ]
  },
  {
   "cell_type": "markdown",
   "id": "7f480d1d",
   "metadata": {},
   "source": [
    "Массив коэффициентов"
   ]
  },
  {
   "cell_type": "code",
   "execution_count": 17,
   "id": "54e0ebc6",
   "metadata": {},
   "outputs": [],
   "source": [
    "def mas_coef(n):\n",
    "    mas = []\n",
    "    for i in range(n):\n",
    "        mas.append(F_coef(i))\n",
    "    return mas\n",
    "\n",
    "p = mas_coef(4)"
   ]
  },
  {
   "cell_type": "markdown",
   "id": "9c3f079e",
   "metadata": {},
   "source": [
    "Пусть eps = 10^(-5). Функция асс(х) определяет требуемое количество слагаемых для достижения требуемой точности"
   ]
  },
  {
   "cell_type": "code",
   "execution_count": 18,
   "id": "93715b10",
   "metadata": {},
   "outputs": [
    {
     "name": "stdout",
     "output_type": "stream",
     "text": [
      "Требуемое кол-во слагаемых для достижения заданной точности =  38\n"
     ]
    }
   ],
   "source": [
    "def acc(x, p):\n",
    "    eps = 10**(-5)\n",
    "    i = 0\n",
    "    while abs(S(x[i], p) - F(x[i])) >= eps:\n",
    "        i += 1\n",
    "    return i\n",
    "\n",
    "z = acc(x, p)\n",
    "print(\"Требуемое кол-во слагаемых для достижения заданной точности = \", z)"
   ]
  },
  {
   "cell_type": "markdown",
   "id": "e40dbed4",
   "metadata": {},
   "source": [
    "Графики исходной функции и суммы ряда Тейлора n членов"
   ]
  },
  {
   "cell_type": "code",
   "execution_count": 19,
   "id": "39bffd3b",
   "metadata": {},
   "outputs": [
    {
     "data": {
      "text/plain": [
       "<matplotlib.legend.Legend at 0x2bbdb878670>"
      ]
     },
     "execution_count": 19,
     "metadata": {},
     "output_type": "execute_result"
    },
    {
     "data": {
      "image/png": "[encoded data removed]",
      "text/plain": [
       "<Figure size 1080x360 with 2 Axes>"
      ]
     },
     "metadata": {
      "needs_background": "light"
     },
     "output_type": "display_data"
    }
   ],
   "source": [
    "fig, axs = plt.subplots(1,2, figsize = (15,5))\n",
    "axs[0].plot(x, S(x, p), label=\"Taylor\", color=\"red\")\n",
    "axs[1].plot(x, F(x), label=\"F(x)\", color=\"black\")\n",
    "axs[0].legend()\n",
    "axs[1].legend()"
   ]
  },
  {
   "cell_type": "markdown",
   "id": "afb84599",
   "metadata": {},
   "source": [
    "## Экономизация степенного ряда"
   ]
  },
  {
   "cell_type": "markdown",
   "id": "224d5ed6",
   "metadata": {},
   "source": [
    "$x^6 = 1/32*(148x^4-18x^2+1+T_6)$"
   ]
  },
  {
   "cell_type": "code",
   "execution_count": 20,
   "id": "4d18d692",
   "metadata": {},
   "outputs": [],
   "source": [
    "p[0] += 1/(32*math.factorial(7))\n",
    "p[1] -= 18/(32*math.factorial(7))\n",
    "p[2] += 148/(32*math.factorial(7))\n",
    "p[3] = 0"
   ]
  },
  {
   "cell_type": "markdown",
   "id": "73e9f681",
   "metadata": {},
   "source": [
    "График погрешности экономизации"
   ]
  },
  {
   "cell_type": "code",
   "execution_count": 21,
   "id": "1b21a6d7",
   "metadata": {},
   "outputs": [
    {
     "data": {
      "text/plain": [
       "<matplotlib.legend.Legend at 0x2bbdbc17e20>"
      ]
     },
     "execution_count": 21,
     "metadata": {},
     "output_type": "execute_result"
    },
    {
     "data": {
      "image/png": "[encoded data removed]",
      "text/plain": [
       "<Figure size 1080x360 with 1 Axes>"
      ]
     },
     "metadata": {
      "needs_background": "light"
     },
     "output_type": "display_data"
    }
   ],
   "source": [
    "fig, axs = plt.subplots(1,1, figsize = (15,5))\n",
    "axs.plot(x,np.abs(F(x) - S(x,p)), color ='r', label = 'ecoonom')\n",
    "axs.grid()\n",
    "axs.legend()"
   ]
  },
  {
   "cell_type": "markdown",
   "id": "831b8125",
   "metadata": {},
   "source": [
    "### Вывод: после уменьшения количества слагаемых на 1, необходимая точность не сохраняется, а значит ряд нельзя сократить с сохранением первоначальной точности"
   ]
  },
  {
   "cell_type": "code",
   "execution_count": null,
   "id": "4bc148b3",
   "metadata": {},
   "outputs": [],
   "source": []
  }
 ],
 "metadata": {
  "kernelspec": {
   "display_name": "Python 3 (ipykernel)",
   "language": "python",
   "name": "python3"
  },
  "language_info": {
   "codemirror_mode": {
    "name": "ipython",
    "version": 3
   },
   "file_extension": ".py",
   "mimetype": "text/x-python",
   "name": "python",
   "nbconvert_exporter": "python",
   "pygments_lexer": "ipython3",
   "version": "3.9.7"
  }
 },
 "nbformat": 4,
 "nbformat_minor": 5
}
