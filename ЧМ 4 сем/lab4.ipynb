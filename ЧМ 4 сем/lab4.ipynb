{
 "cells": [
  {
   "cell_type": "markdown",
   "id": "5c0092e4",
   "metadata": {},
   "source": [
    "# ЛР4. Выполнил Савчук В.С."
   ]
  },
  {
   "cell_type": "markdown",
   "id": "643f64c9",
   "metadata": {},
   "source": [
    "# В-23\n",
    "# Задача 4.1."
   ]
  },
  {
   "cell_type": "code",
   "execution_count": 1,
   "id": "8b0190df",
   "metadata": {},
   "outputs": [],
   "source": [
    "import numpy as np\n",
    "import matplotlib.pyplot as plt\n",
    "from scipy import interpolate"
   ]
  },
  {
   "cell_type": "markdown",
   "id": "893c4560",
   "metadata": {},
   "source": [
    "# ЮАР (В варианте написано южная африка, но я не нашел абсолютно никаких значений населения южной африки ни за какой год, поэтому взял население ЮАР, ни у кого такого варианта нет)"
   ]
  },
  {
   "cell_type": "code",
   "execution_count": 2,
   "id": "ef473351",
   "metadata": {},
   "outputs": [],
   "source": [
    "x = [1950, 1960, 1970, 1980, 1990, 2000, 2010, 2020]\n",
    "y = [13.5, 17, 22, 28.5, 37, 45, 51, 59.5]"
   ]
  },
  {
   "cell_type": "markdown",
   "id": "77cde06f",
   "metadata": {},
   "source": [
    "# 1) МНК"
   ]
  },
  {
   "cell_type": "code",
   "execution_count": 3,
   "id": "8ef2fc0f",
   "metadata": {},
   "outputs": [],
   "source": [
    "def MNK(n):\n",
    "    b = np.zeros(n+1)\n",
    "    for i in range(n+1):\n",
    "        sum = 0\n",
    "        for j in range(8):\n",
    "            sum += y[j] * x[j]**i\n",
    "        b[i] = sum\n",
    "    s = np.zeros(2*n + 1)\n",
    "    for i in range(2*n + 1):\n",
    "        sum = 0\n",
    "        for j in range(8):\n",
    "            sum += x[j]**i\n",
    "        s[i] = sum\n",
    "    \n",
    "    A = np.zeros((n+1,n+1))\n",
    "    for i in range(n+1):\n",
    "        for j in range(n+1):\n",
    "            A[i][j] = s[j+i]\n",
    "                \n",
    "    return np.linalg.solve(A, b)"
   ]
  },
  {
   "cell_type": "markdown",
   "id": "1cad7f6f",
   "metadata": {},
   "source": [
    "# Среднеквадратичная ошибка"
   ]
  },
  {
   "cell_type": "code",
   "execution_count": 4,
   "id": "a2abd3d7",
   "metadata": {},
   "outputs": [],
   "source": [
    "def ASE(n):\n",
    "    a = MNK(n)\n",
    "    ans = 0\n",
    "    for i in range(len(y)):\n",
    "        cnt = 0\n",
    "        for j in range(len(a)):\n",
    "            cnt += a[j]*x[i]**j\n",
    "        ans += (cnt - y[i])**2\n",
    "    return (1/(n+1)*ans)**(1/2)"
   ]
  },
  {
   "cell_type": "markdown",
   "id": "8fcc2198",
   "metadata": {},
   "source": [
    "При n>46 получаем ошибку: \"OverflowError: int too large to convert to float\""
   ]
  },
  {
   "cell_type": "code",
   "execution_count": 5,
   "id": "450ab674",
   "metadata": {},
   "outputs": [
    {
     "name": "stdout",
     "output_type": "stream",
     "text": [
      "Минимальная ошибка =  0.029001054907431257\n",
      "Степень при минимальной ошибке =  45\n"
     ]
    },
    {
     "data": {
      "image/png": "[encoded data removed]",
      "text/plain": [
       "<Figure size 432x288 with 1 Axes>"
      ]
     },
     "metadata": {
      "needs_background": "light"
     },
     "output_type": "display_data"
    }
   ],
   "source": [
    "z=np.zeros(47)\n",
    "for i in range(47):\n",
    "    z[i] = (ASE(i))\n",
    "print(\"Минимальная ошибка = \", np.min(z))\n",
    "print(\"Степень при минимальной ошибке = \", np.argmin(z))\n",
    "xnew = np.linspace(1950, 2020, 8)\n",
    "plt.plot(xnew, y, \"o\", xnew, y)\n",
    "plt.grid()"
   ]
  },
  {
   "cell_type": "markdown",
   "id": "0a901bda",
   "metadata": {},
   "source": [
    "# С помощью встроенной функции 37 степени"
   ]
  },
  {
   "cell_type": "code",
   "execution_count": 6,
   "id": "c0fb0ed6",
   "metadata": {},
   "outputs": [
    {
     "name": "stdout",
     "output_type": "stream",
     "text": [
      "Ошибка встроенной функции многочлена 37 степени =  0.0644421305342835\n"
     ]
    },
    {
     "name": "stderr",
     "output_type": "stream",
     "text": [
      "C:\\ProgramData\\Anaconda3\\lib\\site-packages\\IPython\\core\\interactiveshell.py:3444: RankWarning: Polyfit may be poorly conditioned\n",
      "  exec(code_obj, self.user_global_ns, self.user_ns)\n"
     ]
    },
    {
     "data": {
      "image/png": "[encoded data removed]",
      "text/plain": [
       "<Figure size 432x288 with 1 Axes>"
      ]
     },
     "metadata": {
      "needs_background": "light"
     },
     "output_type": "display_data"
    }
   ],
   "source": [
    "t = np.polyfit(x, y, 37)\n",
    "f = np.poly1d(t)\n",
    "plt.plot(x, y, \"o\", x, f(x))\n",
    "plt.grid()\n",
    "print(\"Ошибка встроенной функции многочлена 37 степени = \", ASE(37))"
   ]
  },
  {
   "cell_type": "markdown",
   "id": "5c0fb426",
   "metadata": {},
   "source": [
    "# Население ЮАР в 2019(инфа из интернета) = 58.5"
   ]
  },
  {
   "cell_type": "markdown",
   "id": "da8f94ba",
   "metadata": {},
   "source": [
    "# Население в 2019 году, с помощью встроенной функции"
   ]
  },
  {
   "cell_type": "code",
   "execution_count": 7,
   "id": "744c0a46",
   "metadata": {},
   "outputs": [
    {
     "name": "stdout",
     "output_type": "stream",
     "text": [
      "58.31321203708649\n"
     ]
    }
   ],
   "source": [
    "print(f(2019))"
   ]
  },
  {
   "cell_type": "markdown",
   "id": "6c54416c",
   "metadata": {},
   "source": [
    "# Население в 2019 году, с помощью функции MNK"
   ]
  },
  {
   "cell_type": "code",
   "execution_count": 8,
   "id": "1eafc46e",
   "metadata": {},
   "outputs": [
    {
     "name": "stdout",
     "output_type": "stream",
     "text": [
      "58.26220328733325\n"
     ]
    }
   ],
   "source": [
    "P = MNK(37)\n",
    "sum = 0\n",
    "for i in range(38):\n",
    "    sum += (P[i]*2019**i)\n",
    "print(sum)"
   ]
  },
  {
   "cell_type": "markdown",
   "id": "b23b06ea",
   "metadata": {},
   "source": [
    "# 2) Интерполяция\n",
    "\n",
    "# Построим многочлен Лагранжа"
   ]
  },
  {
   "cell_type": "code",
   "execution_count": 9,
   "id": "3ac1d85e",
   "metadata": {},
   "outputs": [],
   "source": [
    "def LAGRANZ(n):\n",
    "    s = 0\n",
    "    for j in range(len(y)):\n",
    "        k1 = 1\n",
    "        k2 = 1\n",
    "        for i in range(len(x)):\n",
    "            if i == j:\n",
    "                k1 = k1*1; k2 = k2*1   \n",
    "            else: \n",
    "                k1 = k1*(n-x[i])\n",
    "                k2 = k2*(x[j]-x[i])\n",
    "        s += y[j]*k1/k2\n",
    "    return s"
   ]
  },
  {
   "cell_type": "markdown",
   "id": "65555a29",
   "metadata": {},
   "source": [
    "# Население в 2019 году, с помощью иногочлена Лагранжа"
   ]
  },
  {
   "cell_type": "code",
   "execution_count": 10,
   "id": "9a5c419a",
   "metadata": {},
   "outputs": [
    {
     "name": "stdout",
     "output_type": "stream",
     "text": [
      "58.263638263125\n"
     ]
    }
   ],
   "source": [
    "print(LAGRANZ(2019))"
   ]
  },
  {
   "cell_type": "markdown",
   "id": "5377cdf2",
   "metadata": {},
   "source": [
    "# Встроенная функция"
   ]
  },
  {
   "cell_type": "code",
   "execution_count": 11,
   "id": "8066879f",
   "metadata": {},
   "outputs": [
    {
     "name": "stdout",
     "output_type": "stream",
     "text": [
      "Значение функции многочлена 7 степени =  58.263638263124996\n",
      "Значение функции многочлена 2 степени =  58.50135714285714\n"
     ]
    }
   ],
   "source": [
    "f = interpolate.interp1d(x, y, 7)\n",
    "print(\"Значение функции многочлена 7 степени = \", f(2019))\n",
    "f = interpolate.interp1d(x, y, 2)\n",
    "print(\"Значение функции многочлена 2 степени = \", f(2019))"
   ]
  },
  {
   "cell_type": "markdown",
   "id": "7f5185d0",
   "metadata": {},
   "source": [
    "# Вывод: для МНК получили довольно маленькую погрешность. Погрешность МНК совпадает со встроенной, что показывает устойчивость и эффективность функции. Лагранж показал довольно точные цифры"
   ]
  },
  {
   "cell_type": "markdown",
   "id": "fad5b03f",
   "metadata": {},
   "source": [
    "# Задача 4.2"
   ]
  },
  {
   "cell_type": "markdown",
   "id": "e5a1a14a",
   "metadata": {},
   "source": [
    "# Дана функция. Приблизить функцию методом интерполяции,\n",
    "# используя многочлен Лагранжа. Степень многочлена N подобрать таким образом, чтобы максимальная величина погрешности на отрезке [a, b] не превышала заданной величины eps. Построить графики многочленов и графики погрешностей .Приблизить функцию\n",
    "# методом интерполяции, указанным в индивидуальном варианте. Сравнить полученные htpekmnfns"
   ]
  },
  {
   "cell_type": "markdown",
   "id": "4577479a",
   "metadata": {},
   "source": [
    "# f(x) = cosx/x\n",
    "\n",
    "# eps = 0.001\n",
    "\n",
    "# Отрезок [2; 4]"
   ]
  },
  {
   "cell_type": "markdown",
   "id": "7d44c995",
   "metadata": {},
   "source": [
    "# Многочлен Лагранжа"
   ]
  },
  {
   "cell_type": "code",
   "execution_count": 12,
   "id": "9d4ceabb",
   "metadata": {},
   "outputs": [],
   "source": [
    "def LAGRANZ_1(xn,yn,t):\n",
    "    sum=0\n",
    "    for j in range(len(yn)):\n",
    "        p1=1; p2=1\n",
    "        for i in range(len(xn)):\n",
    "            if i==j:\n",
    "                p1=p1*1; p2=p2*1   \n",
    "            else: \n",
    "                p1=p1*(t-xn[i])\n",
    "                p2=p2*(xn[j]-xn[i])\n",
    "        sum += yn[j]*p1/p2\n",
    "    return sum"
   ]
  },
  {
   "cell_type": "code",
   "execution_count": 13,
   "id": "7ef683dc",
   "metadata": {},
   "outputs": [],
   "source": [
    "def F(x):\n",
    "    return np.cos(3*x) / x"
   ]
  },
  {
   "cell_type": "markdown",
   "id": "69642397",
   "metadata": {},
   "source": [
    "# Подберем степень многочлена, чтобы погрешность удовлетворяла eps"
   ]
  },
  {
   "cell_type": "code",
   "execution_count": 14,
   "id": "c4228bc7",
   "metadata": {},
   "outputs": [
    {
     "name": "stdout",
     "output_type": "stream",
     "text": [
      "Степень многочлена, удовлетворяющая погрешности =  2\n"
     ]
    },
    {
     "name": "stderr",
     "output_type": "stream",
     "text": [
      "C:\\Users\\DD69~1\\AppData\\Local\\Temp/ipykernel_24420/2434487149.py:2: RuntimeWarning: divide by zero encountered in double_scalars\n",
      "  return np.cos(3*x) / x\n"
     ]
    }
   ],
   "source": [
    "def poisk():\n",
    "    i = 0\n",
    "    x1 = np.linspace(2, 4, 10)\n",
    "    y1 = [F(i) for i in x1]\n",
    "    eps = 0.001\n",
    "    x2 = np.linspace(2, 4, 100)\n",
    "    while (abs(F(i) - LAGRANZ_1(x1,y1,i)) >= eps):\n",
    "        x1 = np.linspace(2, 4, 10)\n",
    "        y1 = [F(i) for i in x1]\n",
    "        i += 1\n",
    "    return i\n",
    "          \n",
    "print(\"Степень многочлена, удовлетворяющая погрешности = \", poisk())"
   ]
  },
  {
   "cell_type": "markdown",
   "id": "6938126a",
   "metadata": {},
   "source": [
    "# Погрешность многочлена Лагранжа"
   ]
  },
  {
   "cell_type": "code",
   "execution_count": 15,
   "id": "8dc69eaf",
   "metadata": {},
   "outputs": [
    {
     "name": "stdout",
     "output_type": "stream",
     "text": [
      "Погрешности в узлах =  [0.0, 0.0, 0.0, 0.0, 0.0, 0.0, 0.0, 1.3877787807814457e-17, 0.0, 2.7755575615628914e-17]\n"
     ]
    }
   ],
   "source": [
    "def poisk3():\n",
    "    x3 = np.linspace(2, 4, 10)\n",
    "    y3 = [F(i) for i in x3]\n",
    "    ans = [abs(F(i) - LAGRANZ_1(x3, y3, i)) for i in x3]\n",
    "    return ans\n",
    "\n",
    "print(\"Погрешности в узлах = \", poisk3())"
   ]
  },
  {
   "cell_type": "markdown",
   "id": "dbf79a2a",
   "metadata": {},
   "source": [
    "# СПЛАЙН"
   ]
  },
  {
   "cell_type": "code",
   "execution_count": 16,
   "id": "e37508b1",
   "metadata": {},
   "outputs": [
    {
     "name": "stdout",
     "output_type": "stream",
     "text": [
      "Погрешность в каждом узле =  [2.7755575615628914e-16, 1.8318679906315083e-15, 3.608224830031759e-15, 6.522560269672795e-16, 2.3869795029440866e-15, 7.216449660063518e-16, 9.603429163007604e-15, 5.509481759702339e-15, 5.995204332975845e-15, 8.049116928532385e-16]\n"
     ]
    }
   ],
   "source": [
    "x2 = np.linspace(2, 4, 10)\n",
    "\n",
    "def F_proizv(x):\n",
    "    return (-np.sin(x)*x+np.cos(x))/x**2\n",
    "\n",
    "def Spline(x, y):\n",
    "    buf = []\n",
    "    A = np.zeros((3,3))\n",
    "    b = np.zeros(3)\n",
    "    for i in range(len(x) - 1):\n",
    "        for j in range(3):\n",
    "            A[0][j] = x[i]**(2-j)\n",
    "            A[1][j] = x[i+1]**(2-j)\n",
    "        A[2][0] = 2 * x[i]\n",
    "        A[2][1] = 1\n",
    "        b[0] = y[i]\n",
    "        b[1] = y[i+1]\n",
    "        if i == 0:\n",
    "            b[2] = F_proizv(x[0])\n",
    "        else:\n",
    "            b[2] = 2 * buf[i-1][0] * x[i] + buf[i-1][1]\n",
    "        buf.append(np.linalg.solve(A, b))\n",
    "    return buf\n",
    "\n",
    "def solve(t, spl):\n",
    "    ans = 0\n",
    "    for i in range(len(x2) - 1):\n",
    "        if (t >= x2[i] and t <= x2[i+1]):\n",
    "            ans = spl[i][0] * t**2 + spl[i][1] * t + spl[i][2]\n",
    "    return ans\n",
    "        \n",
    "def poisk2():\n",
    "    x2 = np.linspace(2, 4, 10)\n",
    "    y2 = [F(i) for i in x2]\n",
    "    spl = Spline(x2,y2)\n",
    "    ans = [abs(F(i) - solve(i, spl)) for i in x2]\n",
    "    return ans\n",
    "                   \n",
    "print(\"Погрешность в каждом узле = \", poisk2())"
   ]
  },
  {
   "cell_type": "markdown",
   "id": "68f4298a",
   "metadata": {},
   "source": [
    "# Составим графики погрешностей"
   ]
  },
  {
   "cell_type": "code",
   "execution_count": 17,
   "id": "ef63b6a9",
   "metadata": {},
   "outputs": [
    {
     "data": {
      "text/plain": [
       "<matplotlib.legend.Legend at 0x20e6025fdf0>"
      ]
     },
     "execution_count": 17,
     "metadata": {},
     "output_type": "execute_result"
    },
    {
     "data": {
      "image/png": "[encoded data removed]",
      "text/plain": [
       "<Figure size 1080x360 with 1 Axes>"
      ]
     },
     "metadata": {
      "needs_background": "light"
     },
     "output_type": "display_data"
    }
   ],
   "source": [
    "err = poisk2()\n",
    "err_l = poisk3()\n",
    "length = np.linspace(2, 4, 10)\n",
    "fig, axs = plt.subplots(1,1, figsize = (15,5))\n",
    "axs.plot(length, err, label = \"Сплайн\")\n",
    "axs.plot(length, err_l, label = \"Лагранж\")\n",
    "axs.legend()"
   ]
  },
  {
   "cell_type": "markdown",
   "id": "6fb7ccee",
   "metadata": {},
   "source": [
    "# Составим графифки многочленов"
   ]
  },
  {
   "cell_type": "code",
   "execution_count": 18,
   "id": "81e41cd5",
   "metadata": {},
   "outputs": [
    {
     "name": "stdout",
     "output_type": "stream",
     "text": [
      "[0.480085143325183, 0.41731546637293887, 0.20349926227518372, -0.05456251267823008, -0.25135473016478943, -0.32008559553908283, -0.2517214587229358, -0.09084639329307562, 0.08771653759965292, 0.210963489683123]\n"
     ]
    },
    {
     "data": {
      "text/plain": [
       "<matplotlib.legend.Legend at 0x20e6035eac0>"
      ]
     },
     "execution_count": 18,
     "metadata": {},
     "output_type": "execute_result"
    },
    {
     "data": {
      "image/png": "[encoded data removed]",
      "text/plain": [
       "<Figure size 1080x360 with 3 Axes>"
      ]
     },
     "metadata": {
      "needs_background": "light"
     },
     "output_type": "display_data"
    }
   ],
   "source": [
    "a1 = np.linspace(2, 4, 10)\n",
    "z1 = [F(i) for i in a1]\n",
    "z2 = []\n",
    "for i in a1:\n",
    "    z2.append(LAGRANZ_1(a1, z1, i))\n",
    "spl2 = Spline(a1, z1)\n",
    "z3 = [solve(i, spl2) for i in a1]\n",
    "fig, axs = plt.subplots(1,3, figsize = (15,5))\n",
    "print(z2)\n",
    "axs[0].plot(a1, z1, label=\"F(x)\")\n",
    "axs[1].plot(a1, z2, label=\"Lagranz\")\n",
    "axs[2].plot(a1, z3, label=\"Spline\")\n",
    "axs[0].legend()\n",
    "axs[1].legend()\n",
    "axs[2].legend()"
   ]
  },
  {
   "cell_type": "markdown",
   "id": "1fdbec48",
   "metadata": {},
   "source": [
    "# Вывод: Графики получились идентичные, так как погрешности Лагранжа и сплайна минимальны"
   ]
  },
  {
   "cell_type": "markdown",
   "id": "1ee90166",
   "metadata": {},
   "source": [
    "# Задача 4.3"
   ]
  },
  {
   "cell_type": "markdown",
   "id": "f3548600",
   "metadata": {},
   "source": [
    "# Задана функция $f(x) = x^2*exp(-x)$ , определенная на отрезке [-1;1]. Требуется разложить функцию в ряд Тейлора в окрестности нуля с точностью eps и произвести экономизацию полученного степенного ряда."
   ]
  },
  {
   "cell_type": "code",
   "execution_count": 19,
   "id": "5b2e902b",
   "metadata": {},
   "outputs": [],
   "source": [
    "import math"
   ]
  },
  {
   "cell_type": "markdown",
   "id": "f4874a71",
   "metadata": {},
   "source": [
    "# F(x) - исходная функция, F_coef(i) - коэфиициэнт i-го элемента в разложении Тейлора, S(x, c) - сумма n членов ряда по коэффициенту c_n"
   ]
  },
  {
   "cell_type": "code",
   "execution_count": 20,
   "id": "0fba3ef5",
   "metadata": {},
   "outputs": [],
   "source": [
    "a = -1\n",
    "b = 1\n",
    "cnt = 10\n",
    "x = np.linspace(a, b, cnt)\n",
    "\n",
    "def F(x):\n",
    "    return x**2*np.exp(-x)\n",
    "\n",
    "def F_coef(i):\n",
    "    return 1/ math.factorial(i)\n",
    "\n",
    "def S(x, c):\n",
    "    sum = 0\n",
    "    for i in range(len(c)):\n",
    "        sum += x**2*((-x)**i) * F_coef(i)\n",
    "    return sum\n"
   ]
  },
  {
   "cell_type": "markdown",
   "id": "9dabf44f",
   "metadata": {},
   "source": [
    "# Массив коэффициентов"
   ]
  },
  {
   "cell_type": "code",
   "execution_count": 21,
   "id": "6c2191fd",
   "metadata": {},
   "outputs": [],
   "source": [
    "def mas_coef(n):\n",
    "    mas = []\n",
    "    for i in range(n):\n",
    "        mas.append(F_coef(i))\n",
    "    return mas\n",
    "\n",
    "p = mas_coef(4)"
   ]
  },
  {
   "cell_type": "markdown",
   "id": "a2e8b8e8",
   "metadata": {},
   "source": [
    "# Пусть eps = 10^(-5). Функция асс(х) определяет требуемое количество слагаемых для достижения требуемой точности"
   ]
  },
  {
   "cell_type": "code",
   "execution_count": 22,
   "id": "b09686bf",
   "metadata": {},
   "outputs": [
    {
     "name": "stdout",
     "output_type": "stream",
     "text": [
      "Требуемое кол-во слагаемых для достижения заданной точности =  4\n"
     ]
    }
   ],
   "source": [
    "def acc(x, p):\n",
    "    eps = 10**(-5)\n",
    "    i = 0\n",
    "    while abs(S(x[i], p) - F(x[i])) >= eps:\n",
    "        i += 1\n",
    "    return i\n",
    "\n",
    "z = acc(x, p)\n",
    "print(\"Требуемое кол-во слагаемых для достижения заданной точности = \", z)"
   ]
  },
  {
   "cell_type": "markdown",
   "id": "3ea82a0c",
   "metadata": {},
   "source": [
    "# Построим графики исходной функции и суммы ряда Тейлора n членов"
   ]
  },
  {
   "cell_type": "code",
   "execution_count": 23,
   "id": "cd6d192f",
   "metadata": {},
   "outputs": [
    {
     "data": {
      "text/plain": [
       "<matplotlib.legend.Legend at 0x20e604096a0>"
      ]
     },
     "execution_count": 23,
     "metadata": {},
     "output_type": "execute_result"
    },
    {
     "data": {
      "image/png": "[encoded data removed]",
      "text/plain": [
       "<Figure size 1080x360 with 2 Axes>"
      ]
     },
     "metadata": {
      "needs_background": "light"
     },
     "output_type": "display_data"
    }
   ],
   "source": [
    "fig, axs = plt.subplots(1,2, figsize = (15,5))\n",
    "axs[0].plot(x, S(x, p), label=\"Taylor\", color=\"red\")\n",
    "axs[1].plot(x, F(x), label=\"F(x)\", color=\"black\")\n",
    "axs[0].legend()\n",
    "axs[1].legend()"
   ]
  },
  {
   "cell_type": "markdown",
   "id": "b7261e15",
   "metadata": {},
   "source": [
    "# Экономизация степенного ряда"
   ]
  },
  {
   "cell_type": "markdown",
   "id": "231783b6",
   "metadata": {},
   "source": [
    "$x^6 = 1/32*(148x^4-18x^2+1+T_6)$"
   ]
  },
  {
   "cell_type": "code",
   "execution_count": 24,
   "id": "ac684fc8",
   "metadata": {},
   "outputs": [],
   "source": [
    "p[0] += 1/(32*math.factorial(7))\n",
    "p[1] -= 18/(32*math.factorial(7))\n",
    "p[2] += 148/(32*math.factorial(7))\n",
    "p[3] = 0"
   ]
  },
  {
   "cell_type": "markdown",
   "id": "7649740b",
   "metadata": {},
   "source": [
    "# Строим график погрешности экономизации"
   ]
  },
  {
   "cell_type": "code",
   "execution_count": 25,
   "id": "a9e44c89",
   "metadata": {},
   "outputs": [
    {
     "data": {
      "text/plain": [
       "<matplotlib.legend.Legend at 0x20e605f76a0>"
      ]
     },
     "execution_count": 25,
     "metadata": {},
     "output_type": "execute_result"
    },
    {
     "data": {
      "image/png": "[encoded data removed]",
      "text/plain": [
       "<Figure size 1080x360 with 1 Axes>"
      ]
     },
     "metadata": {
      "needs_background": "light"
     },
     "output_type": "display_data"
    }
   ],
   "source": [
    "fig, axs = plt.subplots(1,1, figsize = (15,5))\n",
    "axs.plot(x,np.abs(F(x) - S(x,p)), color ='r', label = 'ecoonom')\n",
    "axs.grid()\n",
    "axs.legend()"
   ]
  },
  {
   "cell_type": "markdown",
   "id": "f0c403ce",
   "metadata": {},
   "source": [
    "# вывод: после уменьшения количества слагаемых на 1, необходимая точность не сохраняется, а значит ряд нельзя сократить с сохранением первоначальной точности"
   ]
  },
  {
   "cell_type": "code",
   "execution_count": null,
   "id": "54392efc",
   "metadata": {},
   "outputs": [],
   "source": []
  }
 ],
 "metadata": {
  "kernelspec": {
   "display_name": "Python 3 (ipykernel)",
   "language": "python",
   "name": "python3"
  },
  "language_info": {
   "codemirror_mode": {
    "name": "ipython",
    "version": 3
   },
   "file_extension": ".py",
   "mimetype": "text/x-python",
   "name": "python",
   "nbconvert_exporter": "python",
   "pygments_lexer": "ipython3",
   "version": "3.9.7"
  }
 },
 "nbformat": 4,
 "nbformat_minor": 5
}
