{
 "cells": [
  {
   "cell_type": "markdown",
   "id": "b6b8e2ae",
   "metadata": {},
   "source": [
    "Лабораторная работа $№3$\n",
    "--\n",
    "Киреев Дмитрий А-05-20\n",
    "--\n",
    "**Вариант $13$**"
   ]
  },
  {
   "cell_type": "markdown",
   "id": "7e42f258",
   "metadata": {},
   "source": [
    "Задача 3.1.  Реализовать решение СЛАУ с помощью LU разложения и LU разложения по схеме частичного выбора. Решить систему небольшой размерности с возмущенной матрицей обоими методами, оценить погрешность и сравнить с теоретической оценкой. Проанализировать поведение  методов с ростом числа уравнений."
   ]
  },
  {
   "cell_type": "code",
   "execution_count": 1,
   "id": "13dd5a11",
   "metadata": {},
   "outputs": [],
   "source": [
    "import numpy as np\n",
    "import matplotlib.pyplot as plt\n"
   ]
  },
  {
   "cell_type": "markdown",
   "id": "a31aae38",
   "metadata": {},
   "source": [
    "Реализуем функцию создания матрицы $А$"
   ]
  },
  {
   "cell_type": "code",
   "execution_count": 2,
   "id": "f5e6fb1f",
   "metadata": {},
   "outputs": [],
   "source": [
    "def MatBorn(n, m):\n",
    "    A = [ [0]*m for i in range(n) ]\n",
    "    for i in range(n):\n",
    "        for j in range(m):\n",
    "            A[i][j] = 1/(70 - 3*i - j) \n",
    "    A[0][0] += 0.001\n",
    "    return A"
   ]
  },
  {
   "cell_type": "markdown",
   "id": "62b68398",
   "metadata": {},
   "source": [
    "Реализуем функцию создания вектора $B$"
   ]
  },
  {
   "cell_type": "code",
   "execution_count": 3,
   "id": "5b6bf405",
   "metadata": {},
   "outputs": [],
   "source": [
    "def BBorn(A, n, m):\n",
    "    B = [0] * n\n",
    "    for i in range(n):\n",
    "        for j in range(m):\n",
    "            B[i] = B[i] + A[i][j] * 13\n",
    "    return B"
   ]
  },
  {
   "cell_type": "markdown",
   "id": "dc22e170",
   "metadata": {},
   "source": [
    "Реализуем функцию изменения матрицы $А$ (приводим ее к разложению $LU$) и решения нашей системы $Ax = B$"
   ]
  },
  {
   "cell_type": "code",
   "execution_count": 4,
   "id": "45fbb76a",
   "metadata": {},
   "outputs": [],
   "source": [
    "def LUmod(A, B, n, m):\n",
    "    y = [0] * n\n",
    "    x = [0] * n\n",
    "    for k in range(n - 1):\n",
    "        for i in range(k + 1, n):\n",
    "            mu = A[i][k]/A[k][k]\n",
    "            for j in range(k, m):\n",
    "                A[i][j] = A[i][j] - mu*A[k][j]\n",
    "            A[i][k] = mu\n",
    "    for i in range(n):\n",
    "        y[i] = B[i]\n",
    "        for j in range(i):\n",
    "            y[i] = y[i] - y[j] * A[i][j]\n",
    "    for i in range(n - 1, -1 , -1):\n",
    "        x[i] = y[i]/A[i][i]\n",
    "        for j in range(m - 1, i, -1):\n",
    "            x[i] = x[i] - (x[j] * A[i][j] / A[i][i])\n",
    "    return x"
   ]
  },
  {
   "cell_type": "markdown",
   "id": "1e26da2f",
   "metadata": {},
   "source": [
    "Заносим ответ в вектор $X1$"
   ]
  },
  {
   "cell_type": "code",
   "execution_count": 5,
   "id": "2e5201b5",
   "metadata": {},
   "outputs": [],
   "source": [
    "A = MatBorn(5, 5)\n",
    "B = BBorn(A, 5, 5)\n",
    "X1 = LUmod(A, B, 5, 5)"
   ]
  },
  {
   "cell_type": "markdown",
   "id": "ad81d6ea",
   "metadata": {},
   "source": [
    "Решаем тестовый пример. Ответом данной СЛАУ является вектор $[0, 1, 1]$"
   ]
  },
  {
   "cell_type": "code",
   "execution_count": 6,
   "id": "a62327bc",
   "metadata": {},
   "outputs": [
    {
     "data": {
      "text/plain": [
       "[0.0, 1.0, 1.0]"
      ]
     },
     "execution_count": 6,
     "metadata": {},
     "output_type": "execute_result"
    }
   ],
   "source": [
    "A = [[1, 3, -4], [2, 4, 2], [5, 2, 0]]\n",
    "B = [-1, 6, 2]\n",
    "LUmod(A, B, 3, 3)"
   ]
  },
  {
   "cell_type": "markdown",
   "id": "c2c764a7",
   "metadata": {},
   "source": [
    "Как мы видим, решение найдено верно!"
   ]
  },
  {
   "cell_type": "markdown",
   "id": "0d2c0381",
   "metadata": {},
   "source": [
    "Реализуем функцию создания матриц $L$ и $U$ из матрицы $A$ (с частичным выбором)"
   ]
  },
  {
   "cell_type": "code",
   "execution_count": 7,
   "id": "7a0d3b7b",
   "metadata": {},
   "outputs": [],
   "source": [
    "def LUonly(A, B, n, m):\n",
    "    U = A\n",
    "    BufRow = [0] * m\n",
    "    BufB = 0\n",
    "    L = [ [0]*m for i in range(n) ]\n",
    "    for j in range(m):\n",
    "        MaxEl = U[0][j]\n",
    "        MaxInd = 0\n",
    "        for i in range(j, n):\n",
    "            if MaxEl < U[i][j]:\n",
    "                MaxEl = U[i][j]\n",
    "                MaxInd = i\n",
    "        BufRow = U[j]\n",
    "        U[j] = U[i]\n",
    "        U[i] = BufRow\n",
    "        BBuf = B[j]\n",
    "        B[j] = B[i]\n",
    "        B[i] = BBuf\n",
    "    for i in range(n):\n",
    "        for j in range(m):\n",
    "            if (U[i][j] != 0) and (i > j):\n",
    "                mu = U[i][j]/A[j][j]\n",
    "                L[i][j] = mu\n",
    "                for k in range(j, m):\n",
    "                    U[i][k] = U[i][k] - U[j][k]*mu\n",
    "    for i in range(n):\n",
    "        L[i][i] = 1\n",
    "    return L, U"
   ]
  },
  {
   "cell_type": "markdown",
   "id": "02e79143",
   "metadata": {},
   "source": [
    "Реализуем функцию решения нашей СЛАУ"
   ]
  },
  {
   "cell_type": "code",
   "execution_count": 8,
   "id": "ef1b3b7d",
   "metadata": {},
   "outputs": [],
   "source": [
    "def Worker(L, U, n, m, B):\n",
    "    y = [0] * n\n",
    "    x = [0] * n\n",
    "    for i in range(n):\n",
    "        y[i] = B[i]\n",
    "        for j in range(i):\n",
    "            y[i] = y[i] - y[j] * L[i][j]\n",
    "    for i in range(n - 1, -1 , -1):\n",
    "        x[i] = y[i]/U[i][i]\n",
    "        for j in range(m - 1, i, -1):\n",
    "            x[i] = x[i] - (x[j] * U[i][j] / U[i][i])\n",
    "    return x"
   ]
  },
  {
   "cell_type": "markdown",
   "id": "a23a13db",
   "metadata": {},
   "source": [
    "Проверяем работа способность этой реализации на том же примере"
   ]
  },
  {
   "cell_type": "code",
   "execution_count": 9,
   "id": "a8a7fb63",
   "metadata": {},
   "outputs": [
    {
     "name": "stdout",
     "output_type": "stream",
     "text": [
      "[5.551115123125783e-17, 0.9999999999999999, 1.0]\n"
     ]
    }
   ],
   "source": [
    "A = [[1, 3, -4], [2, 4, 2], [5, 2, 0]]\n",
    "B = [-1, 6, 2]\n",
    "L, U = LUonly(A, B, 3, 3)\n",
    "X2 = Worker(L, U, 3, 3, B)\n",
    "print(X2)"
   ]
  },
  {
   "cell_type": "markdown",
   "id": "00a4e916",
   "metadata": {},
   "source": [
    "Как мы видим, не смотря на небольшую погрешность, решение найдено довольно точно!"
   ]
  },
  {
   "cell_type": "code",
   "execution_count": 10,
   "id": "3a5f94a7",
   "metadata": {},
   "outputs": [],
   "source": [
    "A = MatBorn(5, 5)\n",
    "B = BBorn(A, 5, 5)\n",
    "L, U = LUonly(A, B, 5, 5)\n",
    "X2 = Worker(L, U, 5, 5, B)"
   ]
  },
  {
   "cell_type": "markdown",
   "id": "bd68025d",
   "metadata": {},
   "source": [
    "Записываем результат в вектор $X2$"
   ]
  },
  {
   "cell_type": "code",
   "execution_count": 11,
   "id": "80c39f51",
   "metadata": {},
   "outputs": [
    {
     "name": "stdout",
     "output_type": "stream",
     "text": [
      "[13.000000000000348, 12.999998737179393, 13.000003605261245, 12.999996571950568, 13.000001085575377] [12.999999999999888, 12.999999674752658, 13.000000928439597, 12.999999117316008, 13.000000279483313]\n"
     ]
    }
   ],
   "source": [
    "print(X1, X2)"
   ]
  },
  {
   "cell_type": "markdown",
   "id": "a4fbb398",
   "metadata": {},
   "source": [
    "Как мы видим, решения данных СЛАУ, тоже найденны довольно точно, так как решением является вектор $[13, 13, 13, 13, 13]$"
   ]
  },
  {
   "cell_type": "markdown",
   "id": "faf441c8",
   "metadata": {},
   "source": [
    "Реализуем функцию рпсчета абсолютной погрешности вектора $X$ по норме от бескнечности (все дальнецшие расчеты норм будут проходить по бесконечности)"
   ]
  },
  {
   "cell_type": "code",
   "execution_count": 12,
   "id": "24cfef03",
   "metadata": {},
   "outputs": [],
   "source": [
    "def AbsPogrChekInf(X, n, ans):\n",
    "    Buf = [0] * n\n",
    "    for i in range(n):\n",
    "        Buf[i] = abs(X[i] - ans)\n",
    "    return max(Buf)"
   ]
  },
  {
   "cell_type": "markdown",
   "id": "f6c74528",
   "metadata": {},
   "source": [
    "Расчитываем абсолютную погрешность векоторов $X1$ и $X2$"
   ]
  },
  {
   "cell_type": "code",
   "execution_count": 13,
   "id": "b0b2736b",
   "metadata": {},
   "outputs": [
    {
     "name": "stdout",
     "output_type": "stream",
     "text": [
      "3.6052612450987453e-06\n",
      "9.284395972031234e-07\n"
     ]
    }
   ],
   "source": [
    "AbsX1 = AbsPogrChekInf(X1, 5, 13)\n",
    "AbsX2 = AbsPogrChekInf(X2, 5, 13)\n",
    "print(AbsX1)\n",
    "print(AbsX2)"
   ]
  },
  {
   "cell_type": "markdown",
   "id": "e685748a",
   "metadata": {},
   "source": [
    "Растчитываем относительну погрешность по определению"
   ]
  },
  {
   "cell_type": "code",
   "execution_count": 14,
   "id": "c4681f3b",
   "metadata": {},
   "outputs": [
    {
     "name": "stdout",
     "output_type": "stream",
     "text": [
      "2.773277880845189e-07\n",
      "7.141843055408641e-08\n"
     ]
    }
   ],
   "source": [
    "OtnX1 = AbsX1/13\n",
    "OtnX2 = AbsX2/13\n",
    "print(OtnX1)\n",
    "print(OtnX2)"
   ]
  },
  {
   "cell_type": "markdown",
   "id": "6e4201da",
   "metadata": {},
   "source": [
    "Реализуем функцию для расчета числа обусловленности"
   ]
  },
  {
   "cell_type": "code",
   "execution_count": 15,
   "id": "79eb4a31",
   "metadata": {},
   "outputs": [],
   "source": [
    "AbsA = 0.001\n",
    "def CondInf(A, n, m):\n",
    "    Buf = [0] * n\n",
    "    Buf_inf = [0] * n\n",
    "    A_inv = np.linalg.inv(A)\n",
    "    for i in range(n):\n",
    "        for j in range(m):\n",
    "            Buf[i] = Buf[i] + abs(A[i][j])\n",
    "            Buf_inf[i] = Buf_inf[i] + abs(A_inv[i][j])\n",
    "    return (max(Buf) * max(Buf_inf))"
   ]
  },
  {
   "cell_type": "code",
   "execution_count": 16,
   "id": "eff57118",
   "metadata": {},
   "outputs": [
    {
     "name": "stdout",
     "output_type": "stream",
     "text": [
      "6323372.209616824\n"
     ]
    }
   ],
   "source": [
    "A = MatBorn(5, 5)\n",
    "OCENKA = CondInf(A, 5, 5) * AbsA\n",
    "print(OCENKA)"
   ]
  },
  {
   "cell_type": "markdown",
   "id": "938534c9",
   "metadata": {},
   "source": [
    "Не смотря на, мягко скажем, колоссальное знаение числа обусловленности, погрешность самого решения получилась очень даже малой:\n",
    "\n",
    "$3*10^-7$ для первго решения\n",
    "\n",
    "$7*10^-8$ для второго решения\n",
    "\n",
    "(Согласно лекций, и при таком значении числа обусловленности можно получить корректное решение)"
   ]
  },
  {
   "cell_type": "markdown",
   "id": "002254af",
   "metadata": {},
   "source": [
    "Составляем массивы, который содержат значение относительных погрешностей для матриц порядка от $5$ до $15$"
   ]
  },
  {
   "cell_type": "code",
   "execution_count": 17,
   "id": "4b68055f",
   "metadata": {},
   "outputs": [
    {
     "name": "stdout",
     "output_type": "stream",
     "text": [
      "[2.773277880845189e-07, 3.471796754986109e-05, 0.005065052523049255, 0.0355583281745125, 20.547129201655515, 3.4388262638966194, 63.93252786263796, 24.674055579607774, 26.22822885861046, 46.962010519339735, 38.08978921220649] [7.141843055408641e-08, 6.863180649164546e-06, 0.0021647496334700543, 0.2126831114417233, 428.4117955746417, 4.340008763840047, 59.40937652542712, 23.28316830864511, 2.67168190890085, 356.04361706592766, 15.70901973212629]\n"
     ]
    }
   ],
   "source": [
    "Pogr1 = [0] * 11 \n",
    "for i in range(5, 16):\n",
    "    A = MatBorn(i, i)\n",
    "    B = BBorn(A, i, i)\n",
    "    X1 = LUmod(A, B, i, i)\n",
    "    AbsX1 = AbsPogrChekInf(X1, i, 13)\n",
    "    OtnX1 = AbsX1/13\n",
    "    Pogr1[i - 5] = OtnX1\n",
    "\n",
    "Pogr2 = [0] * 11\n",
    "for i in range(5, 16):\n",
    "    A = MatBorn(i, i)\n",
    "    B = BBorn(A, i, i)\n",
    "    L, U = LUonly(A, B, i, i)\n",
    "    X2 = Worker(L, U, i, i, B)\n",
    "    AbsX2 = AbsPogrChekInf(X2, i, 13)\n",
    "    OtnX2 = AbsX2/13\n",
    "    Pogr2[i - 5] = OtnX2\n",
    "print(Pogr1, Pogr2)"
   ]
  },
  {
   "cell_type": "markdown",
   "id": "e2536094",
   "metadata": {},
   "source": [
    "Строим графики зависимости значения погрешности от порядка матрицы"
   ]
  },
  {
   "cell_type": "code",
   "execution_count": 18,
   "id": "734b4c42",
   "metadata": {},
   "outputs": [
    {
     "data": {
      "image/png": "[encoded data removed]",
      "text/plain": [
       "<Figure size 1080x360 with 2 Axes>"
      ]
     },
     "metadata": {
      "needs_background": "light"
     },
     "output_type": "display_data"
    }
   ],
   "source": [
    "fig, axs = plt.subplots(2, 1, figsize=(15, 5))\n",
    "axs[0].plot([5, 6, 7, 8, 9, 10, 11, 12, 13, 14, 15], Pogr1, label='1')\n",
    "axs[1].plot([5, 6, 7, 8, 9, 10, 11, 12, 13, 14, 15], Pogr2, label='2')\n",
    "axs[0].legend()\n",
    "axs[0].grid()\n",
    "axs[1].legend()\n",
    "axs[1].grid()"
   ]
  },
  {
   "cell_type": "markdown",
   "id": "3ab97cee",
   "metadata": {},
   "source": [
    "**Как мы видим, с увеличением порядка матрицы, значение погрешности увеличивается в разы**"
   ]
  },
  {
   "cell_type": "markdown",
   "id": "5ea706dc",
   "metadata": {},
   "source": [
    "Задача 3.2 Дана система уравнений  Ax=b  порядка n с разреженной матрицей A. Решить систему прямым методом. "
   ]
  },
  {
   "cell_type": "markdown",
   "id": "aafa54ec",
   "metadata": {},
   "source": [
    "на главной и на 12-ой наддиагонали элементы равны 24, в 12 столбце элементы равны 20. **(Вариант 60)**"
   ]
  },
  {
   "cell_type": "markdown",
   "id": "670cbff4",
   "metadata": {},
   "source": [
    "Реализуем функцию создания матрицы $A$"
   ]
  },
  {
   "cell_type": "code",
   "execution_count": 19,
   "id": "483d74d8",
   "metadata": {
    "scrolled": true
   },
   "outputs": [
    {
     "name": "stdout",
     "output_type": "stream",
     "text": [
      "[[24, 0, 0, 0, 0, 0, 0, 0, 0, 0, 0, 0, 24, 0, 0, 0, 0, 0, 0, 0, 0, 0, 0, 0, 0, 0, 0, 0, 0, 0, 0, 0, 0, 0, 0, 0, 0, 0, 0, 0], [0, 24, 0, 0, 0, 0, 0, 0, 0, 0, 0, 0, 20, 24, 0, 0, 0, 0, 0, 0, 0, 0, 0, 0, 0, 0, 0, 0, 0, 0, 0, 0, 0, 0, 0, 0, 0, 0, 0, 0], [0, 0, 24, 0, 0, 0, 0, 0, 0, 0, 0, 0, 20, 0, 24, 0, 0, 0, 0, 0, 0, 0, 0, 0, 0, 0, 0, 0, 0, 0, 0, 0, 0, 0, 0, 0, 0, 0, 0, 0], [0, 0, 0, 24, 0, 0, 0, 0, 0, 0, 0, 0, 20, 0, 0, 24, 0, 0, 0, 0, 0, 0, 0, 0, 0, 0, 0, 0, 0, 0, 0, 0, 0, 0, 0, 0, 0, 0, 0, 0], [0, 0, 0, 0, 24, 0, 0, 0, 0, 0, 0, 0, 20, 0, 0, 0, 24, 0, 0, 0, 0, 0, 0, 0, 0, 0, 0, 0, 0, 0, 0, 0, 0, 0, 0, 0, 0, 0, 0, 0], [0, 0, 0, 0, 0, 24, 0, 0, 0, 0, 0, 0, 20, 0, 0, 0, 0, 24, 0, 0, 0, 0, 0, 0, 0, 0, 0, 0, 0, 0, 0, 0, 0, 0, 0, 0, 0, 0, 0, 0], [0, 0, 0, 0, 0, 0, 24, 0, 0, 0, 0, 0, 20, 0, 0, 0, 0, 0, 24, 0, 0, 0, 0, 0, 0, 0, 0, 0, 0, 0, 0, 0, 0, 0, 0, 0, 0, 0, 0, 0], [0, 0, 0, 0, 0, 0, 0, 24, 0, 0, 0, 0, 20, 0, 0, 0, 0, 0, 0, 24, 0, 0, 0, 0, 0, 0, 0, 0, 0, 0, 0, 0, 0, 0, 0, 0, 0, 0, 0, 0], [0, 0, 0, 0, 0, 0, 0, 0, 24, 0, 0, 0, 20, 0, 0, 0, 0, 0, 0, 0, 24, 0, 0, 0, 0, 0, 0, 0, 0, 0, 0, 0, 0, 0, 0, 0, 0, 0, 0, 0], [0, 0, 0, 0, 0, 0, 0, 0, 0, 24, 0, 0, 20, 0, 0, 0, 0, 0, 0, 0, 0, 24, 0, 0, 0, 0, 0, 0, 0, 0, 0, 0, 0, 0, 0, 0, 0, 0, 0, 0], [0, 0, 0, 0, 0, 0, 0, 0, 0, 0, 24, 0, 20, 0, 0, 0, 0, 0, 0, 0, 0, 0, 24, 0, 0, 0, 0, 0, 0, 0, 0, 0, 0, 0, 0, 0, 0, 0, 0, 0], [0, 0, 0, 0, 0, 0, 0, 0, 0, 0, 0, 24, 20, 0, 0, 0, 0, 0, 0, 0, 0, 0, 0, 24, 0, 0, 0, 0, 0, 0, 0, 0, 0, 0, 0, 0, 0, 0, 0, 0], [0, 0, 0, 0, 0, 0, 0, 0, 0, 0, 0, 0, 20, 0, 0, 0, 0, 0, 0, 0, 0, 0, 0, 0, 24, 0, 0, 0, 0, 0, 0, 0, 0, 0, 0, 0, 0, 0, 0, 0], [0, 0, 0, 0, 0, 0, 0, 0, 0, 0, 0, 0, 20, 24, 0, 0, 0, 0, 0, 0, 0, 0, 0, 0, 0, 24, 0, 0, 0, 0, 0, 0, 0, 0, 0, 0, 0, 0, 0, 0], [0, 0, 0, 0, 0, 0, 0, 0, 0, 0, 0, 0, 20, 0, 24, 0, 0, 0, 0, 0, 0, 0, 0, 0, 0, 0, 24, 0, 0, 0, 0, 0, 0, 0, 0, 0, 0, 0, 0, 0], [0, 0, 0, 0, 0, 0, 0, 0, 0, 0, 0, 0, 20, 0, 0, 24, 0, 0, 0, 0, 0, 0, 0, 0, 0, 0, 0, 24, 0, 0, 0, 0, 0, 0, 0, 0, 0, 0, 0, 0], [0, 0, 0, 0, 0, 0, 0, 0, 0, 0, 0, 0, 20, 0, 0, 0, 24, 0, 0, 0, 0, 0, 0, 0, 0, 0, 0, 0, 24, 0, 0, 0, 0, 0, 0, 0, 0, 0, 0, 0], [0, 0, 0, 0, 0, 0, 0, 0, 0, 0, 0, 0, 20, 0, 0, 0, 0, 24, 0, 0, 0, 0, 0, 0, 0, 0, 0, 0, 0, 24, 0, 0, 0, 0, 0, 0, 0, 0, 0, 0], [0, 0, 0, 0, 0, 0, 0, 0, 0, 0, 0, 0, 20, 0, 0, 0, 0, 0, 24, 0, 0, 0, 0, 0, 0, 0, 0, 0, 0, 0, 24, 0, 0, 0, 0, 0, 0, 0, 0, 0], [0, 0, 0, 0, 0, 0, 0, 0, 0, 0, 0, 0, 20, 0, 0, 0, 0, 0, 0, 24, 0, 0, 0, 0, 0, 0, 0, 0, 0, 0, 0, 24, 0, 0, 0, 0, 0, 0, 0, 0], [0, 0, 0, 0, 0, 0, 0, 0, 0, 0, 0, 0, 20, 0, 0, 0, 0, 0, 0, 0, 24, 0, 0, 0, 0, 0, 0, 0, 0, 0, 0, 0, 24, 0, 0, 0, 0, 0, 0, 0], [0, 0, 0, 0, 0, 0, 0, 0, 0, 0, 0, 0, 20, 0, 0, 0, 0, 0, 0, 0, 0, 24, 0, 0, 0, 0, 0, 0, 0, 0, 0, 0, 0, 24, 0, 0, 0, 0, 0, 0], [0, 0, 0, 0, 0, 0, 0, 0, 0, 0, 0, 0, 20, 0, 0, 0, 0, 0, 0, 0, 0, 0, 24, 0, 0, 0, 0, 0, 0, 0, 0, 0, 0, 0, 24, 0, 0, 0, 0, 0], [0, 0, 0, 0, 0, 0, 0, 0, 0, 0, 0, 0, 20, 0, 0, 0, 0, 0, 0, 0, 0, 0, 0, 24, 0, 0, 0, 0, 0, 0, 0, 0, 0, 0, 0, 24, 0, 0, 0, 0], [0, 0, 0, 0, 0, 0, 0, 0, 0, 0, 0, 0, 20, 0, 0, 0, 0, 0, 0, 0, 0, 0, 0, 0, 24, 0, 0, 0, 0, 0, 0, 0, 0, 0, 0, 0, 24, 0, 0, 0], [0, 0, 0, 0, 0, 0, 0, 0, 0, 0, 0, 0, 20, 0, 0, 0, 0, 0, 0, 0, 0, 0, 0, 0, 0, 24, 0, 0, 0, 0, 0, 0, 0, 0, 0, 0, 0, 24, 0, 0], [0, 0, 0, 0, 0, 0, 0, 0, 0, 0, 0, 0, 20, 0, 0, 0, 0, 0, 0, 0, 0, 0, 0, 0, 0, 0, 24, 0, 0, 0, 0, 0, 0, 0, 0, 0, 0, 0, 24, 0], [0, 0, 0, 0, 0, 0, 0, 0, 0, 0, 0, 0, 20, 0, 0, 0, 0, 0, 0, 0, 0, 0, 0, 0, 0, 0, 0, 24, 0, 0, 0, 0, 0, 0, 0, 0, 0, 0, 0, 24], [0, 0, 0, 0, 0, 0, 0, 0, 0, 0, 0, 0, 20, 0, 0, 0, 0, 0, 0, 0, 0, 0, 0, 0, 0, 0, 0, 0, 24, 0, 0, 0, 0, 0, 0, 0, 0, 0, 0, 0], [0, 0, 0, 0, 0, 0, 0, 0, 0, 0, 0, 0, 20, 0, 0, 0, 0, 0, 0, 0, 0, 0, 0, 0, 0, 0, 0, 0, 0, 24, 0, 0, 0, 0, 0, 0, 0, 0, 0, 0], [0, 0, 0, 0, 0, 0, 0, 0, 0, 0, 0, 0, 20, 0, 0, 0, 0, 0, 0, 0, 0, 0, 0, 0, 0, 0, 0, 0, 0, 0, 24, 0, 0, 0, 0, 0, 0, 0, 0, 0], [0, 0, 0, 0, 0, 0, 0, 0, 0, 0, 0, 0, 20, 0, 0, 0, 0, 0, 0, 0, 0, 0, 0, 0, 0, 0, 0, 0, 0, 0, 0, 24, 0, 0, 0, 0, 0, 0, 0, 0], [0, 0, 0, 0, 0, 0, 0, 0, 0, 0, 0, 0, 20, 0, 0, 0, 0, 0, 0, 0, 0, 0, 0, 0, 0, 0, 0, 0, 0, 0, 0, 0, 24, 0, 0, 0, 0, 0, 0, 0], [0, 0, 0, 0, 0, 0, 0, 0, 0, 0, 0, 0, 20, 0, 0, 0, 0, 0, 0, 0, 0, 0, 0, 0, 0, 0, 0, 0, 0, 0, 0, 0, 0, 24, 0, 0, 0, 0, 0, 0], [0, 0, 0, 0, 0, 0, 0, 0, 0, 0, 0, 0, 20, 0, 0, 0, 0, 0, 0, 0, 0, 0, 0, 0, 0, 0, 0, 0, 0, 0, 0, 0, 0, 0, 24, 0, 0, 0, 0, 0], [0, 0, 0, 0, 0, 0, 0, 0, 0, 0, 0, 0, 20, 0, 0, 0, 0, 0, 0, 0, 0, 0, 0, 0, 0, 0, 0, 0, 0, 0, 0, 0, 0, 0, 0, 24, 0, 0, 0, 0], [0, 0, 0, 0, 0, 0, 0, 0, 0, 0, 0, 0, 20, 0, 0, 0, 0, 0, 0, 0, 0, 0, 0, 0, 0, 0, 0, 0, 0, 0, 0, 0, 0, 0, 0, 0, 24, 0, 0, 0], [0, 0, 0, 0, 0, 0, 0, 0, 0, 0, 0, 0, 20, 0, 0, 0, 0, 0, 0, 0, 0, 0, 0, 0, 0, 0, 0, 0, 0, 0, 0, 0, 0, 0, 0, 0, 0, 24, 0, 0], [0, 0, 0, 0, 0, 0, 0, 0, 0, 0, 0, 0, 20, 0, 0, 0, 0, 0, 0, 0, 0, 0, 0, 0, 0, 0, 0, 0, 0, 0, 0, 0, 0, 0, 0, 0, 0, 0, 24, 0], [0, 0, 0, 0, 0, 0, 0, 0, 0, 0, 0, 0, 20, 0, 0, 0, 0, 0, 0, 0, 0, 0, 0, 0, 0, 0, 0, 0, 0, 0, 0, 0, 0, 0, 0, 0, 0, 0, 0, 24]]\n"
     ]
    }
   ],
   "source": [
    "def ABorn(n):\n",
    "    A = [ [0]*n for i in range(n) ]\n",
    "    for i in range(n):\n",
    "        A[i][i] = 24\n",
    "        for j in range(n):\n",
    "            if (i + 12) == j:\n",
    "                A[i][j] = 24\n",
    "            elif j == 12:\n",
    "                A[i][j] = 20\n",
    "    return A\n",
    "A = ABorn(40)\n",
    "print(A)"
   ]
  },
  {
   "cell_type": "markdown",
   "id": "bab08f92",
   "metadata": {},
   "source": [
    "Реализуем функцию создания вектора $B$"
   ]
  },
  {
   "cell_type": "code",
   "execution_count": 20,
   "id": "2bc431c5",
   "metadata": {},
   "outputs": [
    {
     "name": "stdout",
     "output_type": "stream",
     "text": [
      "[253475.5693805541, -1763.015991538251, -23.34833263642643, 93.02184846833975, -186.3200658563093, -12.901566439668363, 33.87227253797901, -243.79354008250968, -15.443418559381593, 21.52633755286384, -7399.160640201118, -20.74135787431248, 15.15065398108862, 238.99854493172677, -28.57572522362055, 10.183015381742546, 120.31565719245965, -39.8733233918108, 5.416439405314684, 81.5274603194257, -56.80262033441161, 0.335996775664813, 61.5472458242332, -84.47639031074952, -5.394715210107338, 48.62280063477696, -137.85512502651247, -12.096340918925893, 38.91343895107391, -286.6689382718708, -20.165023310965722, 30.77625969182841, -3575.273244675033, -30.17137187332529, 23.365633417146377, 389.3995258654308, -43.026086294619056, 16.170539863517266, 191.7557716420803, -60.32329657852148]\n"
     ]
    }
   ],
   "source": [
    "def BBorn(n):\n",
    "    B = [0] * n\n",
    "    for i in range(n):\n",
    "        B[i] = (i+1)*np.exp(12/(i+1))*np.tan(i+1)\n",
    "    return B\n",
    "B = BBorn(40)\n",
    "print(B)"
   ]
  },
  {
   "cell_type": "markdown",
   "id": "63ba5998",
   "metadata": {},
   "source": [
    "**Решение системы данного типа:**\n",
    "\n",
    "1) Уравнения номера которых кратны 12 (12, 24, 36) образуют систему из трех уравнений и трех неизвестных. Из этой системы мы находим значение $X[12]$ - элемента, который располагается в столбце матрицы.\n",
    "\n",
    "2) Затем мы находим значения остальных элементов вектора $X$. Последний 12 уравнений (и первое уравнение) состаят из двух переменных. Так как одна из переменных это $X[12]$, то достаточно просто выразить вторую переменную. Решаем эти уравнения в первую очередь (шагаем снизу вверх по строка матрицы). Остальные уравнения содержат три переменные. В каждом из них, 2 уже найдены. Следовательно достаточно выразить третью.\n",
    "\n",
    "Уравнение для уравнений с двумя переменными: $X[i] = (B[i] - (X[12] * A[i][12]))/A[i][i]$\n",
    "\n",
    "Уравнение для уравнений с тремя переменными: $X[i] = (B[i] - (X[12] * A[i][12]) - (X[i + 12] * A[i][i + 12])) / A[i][i]$"
   ]
  },
  {
   "cell_type": "code",
   "execution_count": 21,
   "id": "0340173a",
   "metadata": {},
   "outputs": [
    {
     "data": {
      "text/plain": [
       "(40, 3)"
      ]
     },
     "execution_count": 21,
     "metadata": {},
     "output_type": "execute_result"
    }
   ],
   "source": [
    "n = 40\n",
    "M = n // 12\n",
    "n, M"
   ]
  },
  {
   "cell_type": "markdown",
   "id": "55c3b8fc",
   "metadata": {},
   "source": [
    "Находим кол-во уравнений для поиска элемента $X[12]$. Их 3."
   ]
  },
  {
   "cell_type": "code",
   "execution_count": 22,
   "id": "6dee96b8",
   "metadata": {},
   "outputs": [
    {
     "name": "stdout",
     "output_type": "stream",
     "text": [
      "[[20, 24, 0], [20, 24, 24], [20, 0, 24]] \n",
      "\n",
      " [15.15065398108862, -5.394715210107338, -43.026086294619056]\n"
     ]
    }
   ],
   "source": [
    "X12Finder = [[0]*M for i in range(M)]\n",
    "B12 = [0] * M\n",
    "for i in range(M):\n",
    "    B12[i] = B[(i + 1)*12]\n",
    "    for j in range(M):\n",
    "        X12Finder[i][j] = A[(i + 1)*12][(j + 1)*12]\n",
    "print(X12Finder, '\\n'*2,B12)"
   ]
  },
  {
   "cell_type": "markdown",
   "id": "0c5e6043",
   "metadata": {},
   "source": [
    "Составляем СЛАУ для нахождения элемента $X[12]$"
   ]
  },
  {
   "cell_type": "code",
   "execution_count": 23,
   "id": "8a7c902a",
   "metadata": {},
   "outputs": [
    {
     "name": "stdout",
     "output_type": "stream",
     "text": [
      "X[12]:  -1.124035855171155\n"
     ]
    }
   ],
   "source": [
    "BB = 0\n",
    "for i in range(M):\n",
    "    BB = BB + B12[i] * ((-1)**(i))\n",
    "X12 = BB/X12Finder[0][0]\n",
    "print(\"X[12]: \", X12)"
   ]
  },
  {
   "cell_type": "markdown",
   "id": "a0fee250",
   "metadata": {},
   "source": [
    "$X[12]$ найден"
   ]
  },
  {
   "cell_type": "markdown",
   "id": "846fd588",
   "metadata": {},
   "source": [
    "Решаем изначальную СЛАУ с помощью наших формул"
   ]
  },
  {
   "cell_type": "code",
   "execution_count": 24,
   "id": "085a5f00",
   "metadata": {
    "scrolled": false
   },
   "outputs": [
    {
     "name": "stdout",
     "output_type": "stream",
     "text": [
      "[10562.60609337826, -82.06509482077992, -13.515979336724945, 5.461074531091367, -10.21839862476133, -9.884019342346052, 1.2821469552134042, -11.336000983611827, -146.30972190819085, 0.5624869169707015, -308.95256397936595, 19.81730314188712, -1.124035855171155, 9.542791719328758, 13.479828689516472, -0.6484676322679146, 3.3917590933910726, 10.2831506200025, 1.0658942798450168, 2.114633359483221, 146.60294268085923, 1.2711403603745877, 1.5909005169619508, -19.74482984067418, 1.567973795187988, 1.3521775321358203, -13.733787361191366, 2.0094564858164827, 2.558089835604042, -11.00784254868532, 0.09648724135239058, 2.219040699802146, -148.03302198215042, -0.3204439487459247, 1.910264605023728, 17.16167679036891, -0.856057049633165, 1.610469040289182, 8.926520364395975, -1.576774144795766]\n"
     ]
    }
   ],
   "source": [
    "X = [0]*n\n",
    "X[12] = X12\n",
    "for i in range(n - 1, -1, -1):\n",
    "    if i >= (n - 12) or (i == 0):\n",
    "        X[i] = (B[i] - (X[12] * A[i][12]))/A[i][i]\n",
    "    elif i != 12:\n",
    "        X[i] = (B[i] - (X[12] * A[i][12]) - (X[i + 12] * A[i][i + 12])) / A[i][i]\n",
    "print(X) "
   ]
  },
  {
   "cell_type": "markdown",
   "id": "1557e38c",
   "metadata": {},
   "source": [
    "Предоставляю тестовый пример. Система $Ax = B$, где $B$ есть решения системы, в которой $X[i] = N$. $N = 13$. Матрица $A$ - остается без изменений"
   ]
  },
  {
   "cell_type": "markdown",
   "id": "e66731ac",
   "metadata": {},
   "source": [
    "Составляем вектор $B$"
   ]
  },
  {
   "cell_type": "code",
   "execution_count": 25,
   "id": "6753c89e",
   "metadata": {},
   "outputs": [
    {
     "name": "stdout",
     "output_type": "stream",
     "text": [
      "[253475.5693805541, -1763.015991538251, -23.34833263642643, 93.02184846833975, -186.3200658563093, -12.901566439668363, 33.87227253797901, -243.79354008250968, -15.443418559381593, 21.52633755286384, -7399.160640201118, -20.74135787431248, 15.15065398108862, 238.99854493172677, -28.57572522362055, 10.183015381742546, 120.31565719245965, -39.8733233918108, 5.416439405314684, 81.5274603194257, -56.80262033441161, 0.335996775664813, 61.5472458242332, -84.47639031074952, -5.394715210107338, 48.62280063477696, -137.85512502651247, -12.096340918925893, 38.91343895107391, -286.6689382718708, -20.165023310965722, 30.77625969182841, -3575.273244675033, -30.17137187332529, 23.365633417146377, 389.3995258654308, -43.026086294619056, 16.170539863517266, 191.7557716420803, -60.32329657852148]\n"
     ]
    }
   ],
   "source": [
    "B = BBorn(40)\n",
    "print(B)"
   ]
  },
  {
   "cell_type": "markdown",
   "id": "91b8bd63",
   "metadata": {},
   "source": [
    "Составляем СЛАУ для поиска $X[12]$"
   ]
  },
  {
   "cell_type": "code",
   "execution_count": 26,
   "id": "4a84e469",
   "metadata": {},
   "outputs": [
    {
     "name": "stdout",
     "output_type": "stream",
     "text": [
      "[[20, 24, 0], [20, 24, 24], [20, 0, 24]] \n",
      "\n",
      " [15.15065398108862, -5.394715210107338, -43.026086294619056]\n"
     ]
    }
   ],
   "source": [
    "X12Finder = [[0]*M for i in range(M)]\n",
    "B12 = [0] * M\n",
    "for i in range(M):\n",
    "    B12[i] = B[(i + 1)*12]\n",
    "    for j in range(M):\n",
    "        X12Finder[i][j] = A[(i + 1)*12][(j + 1)*12]\n",
    "print(X12Finder,'\\n'*2, B12)"
   ]
  },
  {
   "cell_type": "markdown",
   "id": "bc1b51df",
   "metadata": {},
   "source": [
    "$X[12]$ найдено"
   ]
  },
  {
   "cell_type": "code",
   "execution_count": 27,
   "id": "4a315a28",
   "metadata": {},
   "outputs": [
    {
     "name": "stdout",
     "output_type": "stream",
     "text": [
      "X[12]:  -1.124035855171155\n"
     ]
    }
   ],
   "source": [
    "BB = 0\n",
    "for i in range(M):\n",
    "    BB = BB + B12[i] * ((-1)**(i))\n",
    "X12 = BB/X12Finder[0][0]\n",
    "print(\"X[12]: \", X12)"
   ]
  },
  {
   "cell_type": "markdown",
   "id": "c7803b83",
   "metadata": {},
   "source": [
    "Решаем тестовй пример согласно выведенным формулам"
   ]
  },
  {
   "cell_type": "code",
   "execution_count": 28,
   "id": "ad585070",
   "metadata": {},
   "outputs": [
    {
     "name": "stdout",
     "output_type": "stream",
     "text": [
      "[10562.60609337826, -82.06509482077992, -13.515979336724945, 5.461074531091367, -10.21839862476133, -9.884019342346052, 1.2821469552134042, -11.336000983611827, -146.30972190819085, 0.5624869169707015, -308.95256397936595, 19.81730314188712, -1.124035855171155, 9.542791719328758, 13.479828689516472, -0.6484676322679146, 3.3917590933910726, 10.2831506200025, 1.0658942798450168, 2.114633359483221, 146.60294268085923, 1.2711403603745877, 1.5909005169619508, -19.74482984067418, 1.567973795187988, 1.3521775321358203, -13.733787361191366, 2.0094564858164827, 2.558089835604042, -11.00784254868532, 0.09648724135239058, 2.219040699802146, -148.03302198215042, -0.3204439487459247, 1.910264605023728, 17.16167679036891, -0.856057049633165, 1.610469040289182, 8.926520364395975, -1.576774144795766]\n"
     ]
    }
   ],
   "source": [
    "X = [0]*n\n",
    "X[12] = X12\n",
    "for i in range(n - 1, -1, -1):\n",
    "    if i >= (n - 12) or (i == 0):\n",
    "        X[i] = (B[i] - (X[12] * A[i][12]))/A[i][i]\n",
    "    elif i != 12:\n",
    "        X[i] = (B[i] - (X[12] * A[i][12]) - (X[i + 12] * A[i][i + 12])) / A[i][i]\n",
    "print(X) "
   ]
  },
  {
   "cell_type": "markdown",
   "id": "b21d3269",
   "metadata": {},
   "source": [
    "**Как мы видим, все элементы вектора $X$ найдены корректно**"
   ]
  },
  {
   "cell_type": "markdown",
   "id": "c533a970",
   "metadata": {},
   "source": [
    "Задача 3.3.Решить задачу итерационным методом, указанным в  индивидуальном варианте."
   ]
  },
  {
   "cell_type": "markdown",
   "id": "9a934081",
   "metadata": {},
   "source": [
    "Реализуем функцию создания матрицы $A$"
   ]
  },
  {
   "cell_type": "code",
   "execution_count": 29,
   "id": "d9a60a27",
   "metadata": {},
   "outputs": [
    {
     "name": "stdout",
     "output_type": "stream",
     "text": [
      "[[10544.4, 5679.162686921678, -4342.660820852182, -10335.508780525102, -6824.039390067436, 2961.4332162375317, 10024.17779262982, 7870.7395353441, -1519.0203529619253, -9512.199934076027, -8759.906763558163, 46.20428699525019, 8809.835329167217, 9473.744398340048, 1427.5365580897828, -7931.141810246094, -9997.964974576134, -2872.7052492586718], [5679.162686921678, -4240.172973552167, -10297.11505085035, -6822.127249116124, 2961.4461002196285, 10024.177804378493, 7870.7395353455495, -1519.0203529619253, -9512.199934076027, -8759.906763558163, 46.20428699525019, 8809.835329167217, 9473.744398340048, 1427.5365580897828, -7931.141810246094, -9997.964974576134, -2872.7052492586718, 6893.706434068197], [-4342.660820852182, -10297.11505085035, -6719.639401816109, 2999.8398298943807, 10026.089945329804, 7870.752419327647, -1519.020341213253, -9512.199934074577, -8759.906763558163, 46.20428699525019, 8809.835329167217, 9473.744398340048, 1427.5365580897828, -7931.141810246094, -9997.964974576134, -2872.7052492586718, 6893.706434068197, 10322.076213868826], [-10335.508780525102, -6822.127249116124, 2999.8398298943807, 10128.57779262982, 7909.1461490023985, -1517.1082002619414, -9512.18705009248, -8759.90675180949, 46.20428699670009, 8809.835329167217, 9473.744398340048, 1427.5365580897828, -7931.141810246094, -9997.964974576134, -2872.7052492586718, 6893.706434068197, 10322.076213868826, 4260.376725331812], [-6824.039390067436, 2961.4461002196285, 10026.089945329804, 7909.1461490023985, -1414.6203529619252, -9473.793320417728, -8757.994610858179, 46.217170978796844, 8809.83534091589, 9473.744398341498, 1427.5365580897828, -7931.141810246094, -9997.964974576134, -2872.7052492586718, 6893.706434068197, 10322.076213868826, 4260.376725331812, -5718.293476741362], [2961.4332162375317, 10024.177804378493, 7870.752419327647, -1517.1082002619414, -9473.793320417728, -8655.506763558164, 84.61090065354878, 8811.747481867202, 9473.757282323595, 1427.536569838455, -7931.141810244644, -9997.964974576134, -2872.7052492586718, 6893.706434068197, 10322.076213868826, 4260.376725331812, -5718.293476741362, -10439.59102756001], [10024.17779262982, 7870.7395353455495, -1519.020341213253, -9512.18705009248, -8757.994610858179, 84.61090065354878, 8914.235329167217, 9512.151011998347, 1429.4487107897667, -7931.128926262547, -9997.964962827462, -2872.705249257222, 6893.706434068197, 10322.076213868826, 4260.376725331812, -5718.293476741362, -10439.59102756001, -5562.776732280669], [7870.7395353441, -1519.0203529619253, -9512.199934074577, -8759.90675180949, 46.217170978796844, 8811.747481867202, 9512.151011998347, 1531.936558089783, -7892.735196587795, -9996.05282187615, -2872.692365275125, 6893.70644581687, 10322.076213870276, 4260.376725331812, -5718.293476741362, -10439.59102756001, -5562.776732280669, 4428.428836598248], [-1519.0203529619253, -9512.199934076027, -8759.906763558163, 46.20428699670009, 8809.83534091589, 9473.757282323595, 1429.4487107897667, -7892.735196587795, -9893.564974576135, -2834.298635600373, 6895.618586768182, 10322.089097852373, 4260.376737080484, -5718.293476739912, -10439.59102756001, -5562.776732280669, 4428.428836598248, 10348.157355854664], [-9512.199934076027, -8759.906763558163, 46.20428699525019, 8809.835329167217, 9473.744398341498, 1427.536569838455, -7931.128926262547, -9996.05282187615, -2834.298635600373, 6998.106434068197, 10360.482827527125, 4262.288878031796, -5718.280592757815, -10439.591015811338, -5562.77673227922, 4428.428836598248, 10348.157355854664, 6753.837725111005], [-8759.906763558163, 46.20428699525019, 8809.835329167217, 9473.744398340048, 1427.5365580897828, -7931.141810244644, -9997.964962827462, -2872.692365275125, 6895.618586768182, 10360.482827527125, 4364.776725331812, -5679.886863083063, -10437.678874860027, -5562.763848297122, 4428.428848346921, 10348.157355856114, 6753.837725111005, -3049.92916318125], [46.20428699525019, 8809.835329167217, 9473.744398340048, 1427.5365580897828, -7931.141810246094, -9997.964974576134, -2872.705249257222, 6893.70644581687, 10322.089097852373, 4262.288878031796, -5679.886863083063, -10335.191027560011, -5524.370118622371, 4430.340989298233, 10348.170239838211, 6753.8377368596775, -3049.9291631798, -10049.605244313636], [8809.835329167217, 9473.744398340048, 1427.5365580897828, -7931.141810246094, -9997.964974576134, -2872.7052492586718, 6893.706434068197, 10322.076213870276, 4260.376737080484, -5718.280592757815, -10437.678874860027, -5524.370118622371, 4532.828836598248, 10386.563969512963, 6755.749877810989, -3049.9162791977033, -10049.605232564963, -7809.720609951714], [9473.744398340048, 1427.5365580897828, -7931.141810246094, -9997.964974576134, -2872.7052492586718, 6893.706434068197, 10322.076213868826, 4260.376725331812, -5718.293476739912, -10439.591015811338, -5562.763848297122, 4430.340989298233, 10386.563969512963, 6858.237725111005, -3011.522549522951, -10047.693091613652, -7809.707725969617, 1610.3851485750495], [1427.5365580897828, -7931.141810246094, -9997.964974576134, -2872.7052492586718, 6893.706434068197, 10322.076213868826, 4260.376725331812, -5718.293476741362, -10439.59102756001, -5562.77673227922, 4428.428848346921, 10348.170239838211, 6755.749877810989, -3011.522549522951, -9945.205244313636, -7771.313996294865, 1612.297289526361, 9549.923099462854], [-7931.141810246094, -9997.964974576134, -2872.7052492586718, 6893.706434068197, 10322.076213868826, 4260.376725331812, -5718.293476741362, -10439.59102756001, -5562.776732280669, 4428.428836598248, 10348.157355856114, 6753.8377368596775, -3049.9162791977033, -10047.693091613652, -7771.313996294865, 1714.7851368263773, 9588.316829137606, 8711.204036387951], [-9997.964974576134, -2872.7052492586718, 6893.706434068197, 10322.076213868826, 4260.376725331812, -5718.293476741362, -10439.59102756001, -5562.776732280669, 4428.428836598248, 10348.157355854664, 6753.837725111005, -3049.9291631798, -10049.605232564963, -7809.707725969617, 1612.297289526361, 9588.316829137606, 8813.691883687967, -100.20262735044237], [-2872.7052492586718, 6893.706434068197, 10322.076213868826, 4260.376725331812, -5718.293476741362, -10439.59102756001, -5562.776732280669, 4428.428836598248, 10348.157355854664, 6753.837725111005, -3049.92916318125, -10049.605244313636, -7809.720609951714, 1610.3851485750495, 9549.923099462854, 8711.204036387951, -100.20262735044237, -8754.673668751278]]\n"
     ]
    }
   ],
   "source": [
    "m = 18\n",
    "beta = (abs(66 - 13) + 5) * m\n",
    "def ABorn(m, beta):\n",
    "    A = [ [0]*m for i in range(m) ]\n",
    "    for i in range(m):\n",
    "        for j in range(m):\n",
    "            A[i][j] = (np.cos(i + j) / 0.1 * beta) + 0.1 * beta * np.exp(-1 * (i - j)**2)\n",
    "    return A\n",
    "print(ABorn(m, beta))"
   ]
  },
  {
   "cell_type": "markdown",
   "id": "cecedefa",
   "metadata": {},
   "source": [
    "Реализуем функцию для создания матриц коэффициентов $B1$ и $B2$ необходимы для решения СЛАУ **методом Зейделя**"
   ]
  },
  {
   "cell_type": "code",
   "execution_count": 30,
   "id": "169d6d69",
   "metadata": {},
   "outputs": [],
   "source": [
    "def BMatBorn(A, m):\n",
    "    B1 = [ [0]*m for i in range(m) ]\n",
    "    B2 = [ [0]*m for i in range(m) ]\n",
    "    for i in range(m):\n",
    "        for j in range(m):\n",
    "            if i > j:\n",
    "                B1[i][j] = -1 * A[i][j] / A[i][i]\n",
    "            elif i < j:\n",
    "                B2[i][j] = -1 * A[i][j] / A[i][i]\n",
    "    return B1, B2"
   ]
  },
  {
   "cell_type": "markdown",
   "id": "6a9c796c",
   "metadata": {},
   "source": [
    "Расчитываем матрицы $А$, $В1$, $В2$ и $В0$, как сумму матриц $В1$ и $В2$"
   ]
  },
  {
   "cell_type": "code",
   "execution_count": 31,
   "id": "1c459e6b",
   "metadata": {},
   "outputs": [],
   "source": [
    "A = ABorn(m, beta)\n",
    "B1, B2 = BMatBorn(A, 18)\n",
    "B0 = [ [0]*m for i in range(m) ]\n",
    "for i in range(m):\n",
    "    for j in range(m):\n",
    "        B0[i][j] = B1[i][j] + B2[i][j]"
   ]
  },
  {
   "cell_type": "markdown",
   "id": "8d628735",
   "metadata": {},
   "source": [
    "Реализуем функцию для расчета нормы матрицы (по бесконечности), для проверки критерия сходимости **метода Зейделя**"
   ]
  },
  {
   "cell_type": "code",
   "execution_count": 32,
   "id": "3662c62f",
   "metadata": {},
   "outputs": [],
   "source": [
    "def ModulInf(B, m):\n",
    "    Buf = [0] * m\n",
    "    for i in range(m):\n",
    "        for j in range(m):\n",
    "            Buf[i] = Buf[i] + abs(B[i][j])\n",
    "    return max(Buf)"
   ]
  },
  {
   "cell_type": "markdown",
   "id": "c8d648c8",
   "metadata": {},
   "source": [
    "Как мы видим, критерий сходимости не выполняется (сумма норм больше $1$). **Следовательно метод не сходится**. \n",
    "\n",
    "Давайте в этом убедимся"
   ]
  },
  {
   "cell_type": "code",
   "execution_count": 33,
   "id": "bff4b0ba",
   "metadata": {},
   "outputs": [
    {
     "name": "stdout",
     "output_type": "stream",
     "text": [
      "122.83077776780272\n"
     ]
    }
   ],
   "source": [
    "print(ModulInf(B1, m) + ModulInf(B2, m))"
   ]
  },
  {
   "cell_type": "markdown",
   "id": "66396cb4",
   "metadata": {},
   "source": [
    "Расчитываем вектор $B$ с помощью той же функции, что и в задаче $3.1$"
   ]
  },
  {
   "cell_type": "code",
   "execution_count": 34,
   "id": "3d50f247",
   "metadata": {},
   "outputs": [
    {
     "name": "stdout",
     "output_type": "stream",
     "text": [
      "[253475.5693805541, -1763.015991538251, -23.34833263642643, 93.02184846833975, -186.3200658563093, -12.901566439668363, 33.87227253797901, -243.79354008250968, -15.443418559381593, 21.52633755286384, -7399.160640201118, -20.74135787431248, 15.15065398108862, 238.99854493172677, -28.57572522362055, 10.183015381742546, 120.31565719245965, -39.8733233918108]\n"
     ]
    }
   ],
   "source": [
    "B = BBorn(m)\n",
    "print(B)"
   ]
  },
  {
   "cell_type": "markdown",
   "id": "fe07e4be",
   "metadata": {},
   "source": [
    "Реализуем функцию для решения системы с помощью **метода Зейделя**"
   ]
  },
  {
   "cell_type": "code",
   "execution_count": 35,
   "id": "c9d7710e",
   "metadata": {},
   "outputs": [],
   "source": [
    "def Solve(B1, B2, eps, B, m, indend):\n",
    "    X0 = [0] * m\n",
    "    X1 = [0] * m\n",
    "    XX = [0] * m\n",
    "    index = 0\n",
    "    for i in range(m):\n",
    "        X1[i] = X1[i] + B[i] / A[i][i]\n",
    "        for j in range(m):\n",
    "            if i > j:\n",
    "                X1[i] = X1[i] + B1[i][j]*X1[j]\n",
    "            elif j > i:\n",
    "                X1[i] = X1[i] + B2[i][j]*X1[j]\n",
    "    for i in range(m):\n",
    "        XX[i] = abs(X1[i] - X0[i])\n",
    "    index += 1\n",
    "    while (((max(XX)) > (((1 - ModulInf(B0, m))/ModulInf(B2, m)) * eps)) and (index < indend)):\n",
    "        X0 = X1\n",
    "        for i in range(m):\n",
    "            X1[i] = X1[i] + B[i] / A[i][i]\n",
    "            for j in range(m):\n",
    "                if i > j:\n",
    "                    X1[i] = X1[i] + B1[i][j]*X1[j]\n",
    "                elif j > i:\n",
    "                    X1[i] = X1[i] + B2[i][j]*X1[j]\n",
    "        for i in range(m):\n",
    "            XX[i] = abs(X1[i] - X0[i])\n",
    "        index += 1\n",
    "    return X1"
   ]
  },
  {
   "cell_type": "markdown",
   "id": "09f0360d",
   "metadata": {},
   "source": [
    "Задаем матрицы $B1$, $B2$, $B$, точность, размерность и максимальное кол-во итераций"
   ]
  },
  {
   "cell_type": "code",
   "execution_count": 36,
   "id": "7a0faa7c",
   "metadata": {},
   "outputs": [
    {
     "name": "stdout",
     "output_type": "stream",
     "text": [
      "[24.038880294806162, 32.61275633322389, -65.50748233162035, 65.9073190906769, -143.35175967588037, 131.7798915162446, -138.74785752293465, -13.369782860795226, 12.422417290837327, -13.166858994569493, 6.724178080617769, -7.579257750149864, 7.817264112039828, -6.186799232389586, 6.535582576265462, -11.100875902041619, 9.727600613051333, -10.732019009807942]\n",
      "[173.28308047870158, 371.7363874962725, -1068.5871559105503, 1123.1681584182616, -2091.0946244072093, 2427.457791087389, -2399.24710082334, 377.11977486768785, 480.93013834449755, -470.32226488471576, 302.98924812050456, -268.4436172138337, 302.72651686212976, -250.09077604708017, 247.32572688540543, -378.30383216265443, 371.35028248673586, -392.73761199353936]\n",
      "[144122.8449890375, 106276.87854686817, -758385.1696501381, 1046496.1351392013, 255315.26156196566, -766366.689212687, 988770.7508239354, -986192.892284954, 2127398.1905321977, -1492990.2024897954, -99429.41431806146, 927707.6539302947, -640835.1044744725, 297339.20387539366, -297289.44015425903, 388445.48472646036, -292246.3561784685, 354452.0099423467]\n",
      "[-9.273005135311926e+23, 1.1613254868073123e+24, -1.0563033705817572e+23, -2.9837684300135877e+23, -1.1763561159893436e+24, -1.1835422631653511e+23, -1.7292535451125166e+23, -1.9811831300084855e+24, 1.6499954385909248e+24, -5.6295753712028136e+23, -4.714635056319158e+24, 9.802118059442385e+24, -2.001966652198715e+24, -1.0606326313070176e+25, 1.5497088148268588e+25, -2.5749224946485626e+24, -8.249391192386467e+24, 9.768804701013328e+24]\n"
     ]
    }
   ],
   "source": [
    "print(Solve(B1, B2, 0.001, B, 18, 1))\n",
    "\n",
    "print(Solve(B1, B2, 0.001, B, 18, 3))\n",
    "\n",
    "print(Solve(B1, B2, 0.001, B, 18, 10))\n",
    "\n",
    "print(Solve(B1, B2, 0.001, B, 18, 50))"
   ]
  },
  {
   "cell_type": "markdown",
   "id": "71d6044d",
   "metadata": {},
   "source": [
    "Как мы можем заметить, с увеличением максимального числа итераций, наше решение нисколько не приближается к заветному вектору $[13, 13, 13, 13, 13, 13, 13, 13, 13, 13, 13, 13, 13, 13, 13]$. \n",
    "\n",
    "**Наш метод действительно не сходится**"
   ]
  }
 ],
 "metadata": {
  "kernelspec": {
   "display_name": "Python 3 (ipykernel)",
   "language": "python",
   "name": "python3"
  },
  "language_info": {
   "codemirror_mode": {
    "name": "ipython",
    "version": 3
   },
   "file_extension": ".py",
   "mimetype": "text/x-python",
   "name": "python",
   "nbconvert_exporter": "python",
   "pygments_lexer": "ipython3",
   "version": "3.9.7"
  }
 },
 "nbformat": 4,
 "nbformat_minor": 5
}
